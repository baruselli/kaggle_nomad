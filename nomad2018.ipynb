{
 "cells": [
  {
   "cell_type": "code",
   "execution_count": 1,
   "metadata": {
    "collapsed": true
   },
   "outputs": [],
   "source": [
    "import numpy as np # linear algebra\n",
    "import pandas as pd # data processing, CSV file I/O (e.g. pd.read_csv)\n",
    "import matplotlib.pyplot as plt\n",
    "import warnings\n",
    "warnings.filterwarnings(\"ignore\")"
   ]
  },
  {
   "cell_type": "code",
   "execution_count": 2,
   "metadata": {},
   "outputs": [
    {
     "data": {
      "text/plain": [
       "(2400, 600, 3000)"
      ]
     },
     "execution_count": 2,
     "metadata": {},
     "output_type": "execute_result"
    }
   ],
   "source": [
    "columns={'spacegroup' : 'sg',\n",
    "                            'number_of_total_atoms' : 'Natoms',\n",
    "                            'percent_atom_al' : 'x_Al',\n",
    "                            'percent_atom_ga' : 'x_Ga',\n",
    "                            'percent_atom_in' : 'x_In',\n",
    "                            'lattice_vector_1_ang' : 'a',\n",
    "                            'lattice_vector_2_ang' : 'b',\n",
    "                            'lattice_vector_3_ang' : 'c',\n",
    "                            'lattice_angle_alpha_degree' : 'alpha',\n",
    "                            'lattice_angle_beta_degree' : 'beta',\n",
    "                            'lattice_angle_gamma_degree' : 'gamma',\n",
    "                            'formation_energy_ev_natom' : 'E',\n",
    "                            'bandgap_energy_ev' : 'Eg'}\n",
    "    \n",
    "    \n",
    "df_train = pd.read_csv(\"./input/train.csv\").rename(columns=columns)\n",
    "df_train[\"dataset\"] = \"train\"\n",
    "df_train[\"E\"]=np.log1p(df_train[\"E\"])\n",
    "df_train[\"Eg\"]=np.log1p(df_train[\"Eg\"])\n",
    "df_test = pd.read_csv(\"./input/test.csv\").rename(columns=columns)\n",
    "df_test[\"dataset\"] = \"test\"\n",
    "df_total = pd.concat([df_train, df_test], ignore_index=True)\n",
    "\n",
    "len(df_train),len(df_test),len(df_total)"
   ]
  },
  {
   "cell_type": "code",
   "execution_count": 3,
   "metadata": {},
   "outputs": [
    {
     "data": {
      "text/html": [
       "<div>\n",
       "<style>\n",
       "    .dataframe thead tr:only-child th {\n",
       "        text-align: right;\n",
       "    }\n",
       "\n",
       "    .dataframe thead th {\n",
       "        text-align: left;\n",
       "    }\n",
       "\n",
       "    .dataframe tbody tr th {\n",
       "        vertical-align: top;\n",
       "    }\n",
       "</style>\n",
       "<table border=\"1\" class=\"dataframe\">\n",
       "  <thead>\n",
       "    <tr style=\"text-align: right;\">\n",
       "      <th></th>\n",
       "      <th>E</th>\n",
       "      <th>Eg</th>\n",
       "      <th>Natoms</th>\n",
       "      <th>a</th>\n",
       "      <th>alpha</th>\n",
       "      <th>b</th>\n",
       "      <th>beta</th>\n",
       "      <th>c</th>\n",
       "      <th>dataset</th>\n",
       "      <th>gamma</th>\n",
       "      <th>id</th>\n",
       "      <th>sg</th>\n",
       "      <th>x_Al</th>\n",
       "      <th>x_Ga</th>\n",
       "      <th>x_In</th>\n",
       "    </tr>\n",
       "  </thead>\n",
       "  <tbody>\n",
       "    <tr>\n",
       "      <th>0</th>\n",
       "      <td>0.065788</td>\n",
       "      <td>1.490362</td>\n",
       "      <td>80.0</td>\n",
       "      <td>9.9523</td>\n",
       "      <td>90.0026</td>\n",
       "      <td>8.5513</td>\n",
       "      <td>90.0023</td>\n",
       "      <td>9.1775</td>\n",
       "      <td>train</td>\n",
       "      <td>90.0017</td>\n",
       "      <td>1</td>\n",
       "      <td>33</td>\n",
       "      <td>0.6250</td>\n",
       "      <td>0.3750</td>\n",
       "      <td>0.000</td>\n",
       "    </tr>\n",
       "    <tr>\n",
       "      <th>1</th>\n",
       "      <td>0.222343</td>\n",
       "      <td>1.366347</td>\n",
       "      <td>80.0</td>\n",
       "      <td>6.1840</td>\n",
       "      <td>90.0186</td>\n",
       "      <td>6.1838</td>\n",
       "      <td>89.9980</td>\n",
       "      <td>23.6287</td>\n",
       "      <td>train</td>\n",
       "      <td>120.0025</td>\n",
       "      <td>2</td>\n",
       "      <td>194</td>\n",
       "      <td>0.6250</td>\n",
       "      <td>0.3750</td>\n",
       "      <td>0.000</td>\n",
       "    </tr>\n",
       "    <tr>\n",
       "      <th>2</th>\n",
       "      <td>0.167293</td>\n",
       "      <td>1.320101</td>\n",
       "      <td>40.0</td>\n",
       "      <td>9.7510</td>\n",
       "      <td>90.9688</td>\n",
       "      <td>5.6595</td>\n",
       "      <td>91.1228</td>\n",
       "      <td>13.9630</td>\n",
       "      <td>train</td>\n",
       "      <td>30.5185</td>\n",
       "      <td>3</td>\n",
       "      <td>227</td>\n",
       "      <td>0.8125</td>\n",
       "      <td>0.1875</td>\n",
       "      <td>0.000</td>\n",
       "    </tr>\n",
       "    <tr>\n",
       "      <th>3</th>\n",
       "      <td>0.196553</td>\n",
       "      <td>1.469992</td>\n",
       "      <td>30.0</td>\n",
       "      <td>5.0036</td>\n",
       "      <td>89.9888</td>\n",
       "      <td>5.0034</td>\n",
       "      <td>90.0119</td>\n",
       "      <td>13.5318</td>\n",
       "      <td>train</td>\n",
       "      <td>120.0017</td>\n",
       "      <td>4</td>\n",
       "      <td>167</td>\n",
       "      <td>0.7500</td>\n",
       "      <td>0.0000</td>\n",
       "      <td>0.250</td>\n",
       "    </tr>\n",
       "    <tr>\n",
       "      <th>4</th>\n",
       "      <td>0.049266</td>\n",
       "      <td>0.866806</td>\n",
       "      <td>80.0</td>\n",
       "      <td>6.6614</td>\n",
       "      <td>89.9960</td>\n",
       "      <td>6.6612</td>\n",
       "      <td>90.0006</td>\n",
       "      <td>24.5813</td>\n",
       "      <td>train</td>\n",
       "      <td>119.9893</td>\n",
       "      <td>5</td>\n",
       "      <td>194</td>\n",
       "      <td>0.0000</td>\n",
       "      <td>0.6250</td>\n",
       "      <td>0.375</td>\n",
       "    </tr>\n",
       "  </tbody>\n",
       "</table>\n",
       "</div>"
      ],
      "text/plain": [
       "          E        Eg  Natoms       a    alpha       b     beta        c  \\\n",
       "0  0.065788  1.490362    80.0  9.9523  90.0026  8.5513  90.0023   9.1775   \n",
       "1  0.222343  1.366347    80.0  6.1840  90.0186  6.1838  89.9980  23.6287   \n",
       "2  0.167293  1.320101    40.0  9.7510  90.9688  5.6595  91.1228  13.9630   \n",
       "3  0.196553  1.469992    30.0  5.0036  89.9888  5.0034  90.0119  13.5318   \n",
       "4  0.049266  0.866806    80.0  6.6614  89.9960  6.6612  90.0006  24.5813   \n",
       "\n",
       "  dataset     gamma  id   sg    x_Al    x_Ga   x_In  \n",
       "0   train   90.0017   1   33  0.6250  0.3750  0.000  \n",
       "1   train  120.0025   2  194  0.6250  0.3750  0.000  \n",
       "2   train   30.5185   3  227  0.8125  0.1875  0.000  \n",
       "3   train  120.0017   4  167  0.7500  0.0000  0.250  \n",
       "4   train  119.9893   5  194  0.0000  0.6250  0.375  "
      ]
     },
     "execution_count": 3,
     "metadata": {},
     "output_type": "execute_result"
    }
   ],
   "source": [
    "df_total.head()"
   ]
  },
  {
   "cell_type": "code",
   "execution_count": 4,
   "metadata": {},
   "outputs": [
    {
     "data": {
      "text/html": [
       "<div>\n",
       "<style>\n",
       "    .dataframe thead tr:only-child th {\n",
       "        text-align: right;\n",
       "    }\n",
       "\n",
       "    .dataframe thead th {\n",
       "        text-align: left;\n",
       "    }\n",
       "\n",
       "    .dataframe tbody tr th {\n",
       "        vertical-align: top;\n",
       "    }\n",
       "</style>\n",
       "<table border=\"1\" class=\"dataframe\">\n",
       "  <thead>\n",
       "    <tr style=\"text-align: right;\">\n",
       "      <th></th>\n",
       "      <th>E</th>\n",
       "      <th>Eg</th>\n",
       "      <th>Natoms</th>\n",
       "      <th>a</th>\n",
       "      <th>alpha</th>\n",
       "      <th>b</th>\n",
       "      <th>beta</th>\n",
       "      <th>c</th>\n",
       "      <th>dataset</th>\n",
       "      <th>gamma</th>\n",
       "      <th>id</th>\n",
       "      <th>sg</th>\n",
       "      <th>x_Al</th>\n",
       "      <th>x_Ga</th>\n",
       "      <th>x_In</th>\n",
       "    </tr>\n",
       "  </thead>\n",
       "  <tbody>\n",
       "    <tr>\n",
       "      <th>2995</th>\n",
       "      <td>NaN</td>\n",
       "      <td>NaN</td>\n",
       "      <td>80.0</td>\n",
       "      <td>24.8145</td>\n",
       "      <td>90.0002</td>\n",
       "      <td>6.3964</td>\n",
       "      <td>104.7733</td>\n",
       "      <td>6.2933</td>\n",
       "      <td>test</td>\n",
       "      <td>90.0001</td>\n",
       "      <td>596</td>\n",
       "      <td>12</td>\n",
       "      <td>0.000</td>\n",
       "      <td>0.5938</td>\n",
       "      <td>0.4062</td>\n",
       "    </tr>\n",
       "    <tr>\n",
       "      <th>2996</th>\n",
       "      <td>NaN</td>\n",
       "      <td>NaN</td>\n",
       "      <td>40.0</td>\n",
       "      <td>5.5783</td>\n",
       "      <td>90.0008</td>\n",
       "      <td>9.4849</td>\n",
       "      <td>89.9967</td>\n",
       "      <td>10.1107</td>\n",
       "      <td>test</td>\n",
       "      <td>90.0004</td>\n",
       "      <td>597</td>\n",
       "      <td>33</td>\n",
       "      <td>0.125</td>\n",
       "      <td>0.0000</td>\n",
       "      <td>0.8750</td>\n",
       "    </tr>\n",
       "    <tr>\n",
       "      <th>2997</th>\n",
       "      <td>NaN</td>\n",
       "      <td>NaN</td>\n",
       "      <td>80.0</td>\n",
       "      <td>6.9377</td>\n",
       "      <td>90.0072</td>\n",
       "      <td>6.9372</td>\n",
       "      <td>89.9880</td>\n",
       "      <td>25.0641</td>\n",
       "      <td>test</td>\n",
       "      <td>119.9857</td>\n",
       "      <td>598</td>\n",
       "      <td>194</td>\n",
       "      <td>0.000</td>\n",
       "      <td>0.2500</td>\n",
       "      <td>0.7500</td>\n",
       "    </tr>\n",
       "    <tr>\n",
       "      <th>2998</th>\n",
       "      <td>NaN</td>\n",
       "      <td>NaN</td>\n",
       "      <td>40.0</td>\n",
       "      <td>5.1841</td>\n",
       "      <td>90.0041</td>\n",
       "      <td>8.8659</td>\n",
       "      <td>90.0009</td>\n",
       "      <td>9.4956</td>\n",
       "      <td>test</td>\n",
       "      <td>90.0007</td>\n",
       "      <td>599</td>\n",
       "      <td>33</td>\n",
       "      <td>0.625</td>\n",
       "      <td>0.0000</td>\n",
       "      <td>0.3750</td>\n",
       "    </tr>\n",
       "    <tr>\n",
       "      <th>2999</th>\n",
       "      <td>NaN</td>\n",
       "      <td>NaN</td>\n",
       "      <td>80.0</td>\n",
       "      <td>9.4959</td>\n",
       "      <td>90.0029</td>\n",
       "      <td>9.4956</td>\n",
       "      <td>90.0031</td>\n",
       "      <td>9.4956</td>\n",
       "      <td>test</td>\n",
       "      <td>89.9969</td>\n",
       "      <td>600</td>\n",
       "      <td>206</td>\n",
       "      <td>0.375</td>\n",
       "      <td>0.3438</td>\n",
       "      <td>0.2812</td>\n",
       "    </tr>\n",
       "  </tbody>\n",
       "</table>\n",
       "</div>"
      ],
      "text/plain": [
       "       E  Eg  Natoms        a    alpha       b      beta        c dataset  \\\n",
       "2995 NaN NaN    80.0  24.8145  90.0002  6.3964  104.7733   6.2933    test   \n",
       "2996 NaN NaN    40.0   5.5783  90.0008  9.4849   89.9967  10.1107    test   \n",
       "2997 NaN NaN    80.0   6.9377  90.0072  6.9372   89.9880  25.0641    test   \n",
       "2998 NaN NaN    40.0   5.1841  90.0041  8.8659   90.0009   9.4956    test   \n",
       "2999 NaN NaN    80.0   9.4959  90.0029  9.4956   90.0031   9.4956    test   \n",
       "\n",
       "         gamma   id   sg   x_Al    x_Ga    x_In  \n",
       "2995   90.0001  596   12  0.000  0.5938  0.4062  \n",
       "2996   90.0004  597   33  0.125  0.0000  0.8750  \n",
       "2997  119.9857  598  194  0.000  0.2500  0.7500  \n",
       "2998   90.0007  599   33  0.625  0.0000  0.3750  \n",
       "2999   89.9969  600  206  0.375  0.3438  0.2812  "
      ]
     },
     "execution_count": 4,
     "metadata": {},
     "output_type": "execute_result"
    }
   ],
   "source": [
    "df_total.tail()"
   ]
  },
  {
   "cell_type": "code",
   "execution_count": 5,
   "metadata": {
    "collapsed": true
   },
   "outputs": [],
   "source": [
    "#from https://www.kaggle.com/cbartel/random-forest-using-elemental-properties\n",
    "def get_vol(a, b, c, alpha, beta, gamma):\n",
    "    \"\"\"\n",
    "    Args:\n",
    "        a (float) - lattice vector 1\n",
    "        b (float) - lattice vector 2\n",
    "        c (float) - lattice vector 3\n",
    "        alpha (float) - lattice angle 1 [radians]\n",
    "        beta (float) - lattice angle 2 [radians]\n",
    "        gamma (float) - lattice angle 3 [radians]\n",
    "    Returns:\n",
    "        volume (float) of the parallelepiped unit cell\n",
    "    \"\"\"\n",
    "    alpha=alpha*np.pi/180\n",
    "    beta=beta*np.pi/180\n",
    "    gamma=gamma*np.pi/180\n",
    "    return a*b*c*np.sqrt(1 + 2*np.cos(alpha)*np.cos(beta)*np.cos(gamma)\n",
    "                           - np.cos(alpha)**2\n",
    "                           - np.cos(beta)**2\n",
    "                           - np.cos(gamma)**2)\n",
    "\n",
    "\n",
    "    \n",
    "# compute the cell volumes \n",
    "df_total['vol'] = get_vol(df_total['a'], df_total['b'], df_total['c'],\n",
    "                          df_total['alpha'], df_total['beta'], df_total['gamma'])\n",
    "#df_total[['a','b','c','alpha','beta','gamma','vol']].head()\n",
    "df_total['density']=df_total['Natoms']/df_total[\"vol\"]\n",
    "df_total['density_Al']=df_total['density']*df_total['x_Al']\n",
    "df_total['density_Ga']=df_total['density']*df_total['x_Ga']\n",
    "df_total['density_In']=df_total['density']*df_total['x_In']\n",
    "df_total['sg']=df_total['sg'].astype('category')"
   ]
  },
  {
   "cell_type": "code",
   "execution_count": 6,
   "metadata": {},
   "outputs": [
    {
     "data": {
      "text/html": [
       "<div>\n",
       "<style>\n",
       "    .dataframe thead tr:only-child th {\n",
       "        text-align: right;\n",
       "    }\n",
       "\n",
       "    .dataframe thead th {\n",
       "        text-align: left;\n",
       "    }\n",
       "\n",
       "    .dataframe tbody tr th {\n",
       "        vertical-align: top;\n",
       "    }\n",
       "</style>\n",
       "<table border=\"1\" class=\"dataframe\">\n",
       "  <thead>\n",
       "    <tr style=\"text-align: right;\">\n",
       "      <th></th>\n",
       "      <th>E</th>\n",
       "      <th>Eg</th>\n",
       "      <th>Natoms</th>\n",
       "      <th>a</th>\n",
       "      <th>alpha</th>\n",
       "      <th>b</th>\n",
       "      <th>beta</th>\n",
       "      <th>c</th>\n",
       "      <th>dataset</th>\n",
       "      <th>gamma</th>\n",
       "      <th>id</th>\n",
       "      <th>sg</th>\n",
       "      <th>x_Al</th>\n",
       "      <th>x_Ga</th>\n",
       "      <th>x_In</th>\n",
       "      <th>vol</th>\n",
       "      <th>density</th>\n",
       "      <th>density_Al</th>\n",
       "      <th>density_Ga</th>\n",
       "      <th>density_In</th>\n",
       "    </tr>\n",
       "  </thead>\n",
       "  <tbody>\n",
       "    <tr>\n",
       "      <th>0</th>\n",
       "      <td>0.065788</td>\n",
       "      <td>1.490362</td>\n",
       "      <td>80.0</td>\n",
       "      <td>9.9523</td>\n",
       "      <td>90.0026</td>\n",
       "      <td>8.5513</td>\n",
       "      <td>90.0023</td>\n",
       "      <td>9.1775</td>\n",
       "      <td>train</td>\n",
       "      <td>90.0017</td>\n",
       "      <td>1</td>\n",
       "      <td>33</td>\n",
       "      <td>0.6250</td>\n",
       "      <td>0.3750</td>\n",
       "      <td>0.000</td>\n",
       "      <td>781.052081</td>\n",
       "      <td>0.102426</td>\n",
       "      <td>0.064016</td>\n",
       "      <td>0.038410</td>\n",
       "      <td>0.000000</td>\n",
       "    </tr>\n",
       "    <tr>\n",
       "      <th>1</th>\n",
       "      <td>0.222343</td>\n",
       "      <td>1.366347</td>\n",
       "      <td>80.0</td>\n",
       "      <td>6.1840</td>\n",
       "      <td>90.0186</td>\n",
       "      <td>6.1838</td>\n",
       "      <td>89.9980</td>\n",
       "      <td>23.6287</td>\n",
       "      <td>train</td>\n",
       "      <td>120.0025</td>\n",
       "      <td>2</td>\n",
       "      <td>194</td>\n",
       "      <td>0.6250</td>\n",
       "      <td>0.3750</td>\n",
       "      <td>0.000</td>\n",
       "      <td>782.500110</td>\n",
       "      <td>0.102236</td>\n",
       "      <td>0.063898</td>\n",
       "      <td>0.038339</td>\n",
       "      <td>0.000000</td>\n",
       "    </tr>\n",
       "    <tr>\n",
       "      <th>2</th>\n",
       "      <td>0.167293</td>\n",
       "      <td>1.320101</td>\n",
       "      <td>40.0</td>\n",
       "      <td>9.7510</td>\n",
       "      <td>90.9688</td>\n",
       "      <td>5.6595</td>\n",
       "      <td>91.1228</td>\n",
       "      <td>13.9630</td>\n",
       "      <td>train</td>\n",
       "      <td>30.5185</td>\n",
       "      <td>3</td>\n",
       "      <td>227</td>\n",
       "      <td>0.8125</td>\n",
       "      <td>0.1875</td>\n",
       "      <td>0.000</td>\n",
       "      <td>391.227531</td>\n",
       "      <td>0.102242</td>\n",
       "      <td>0.083072</td>\n",
       "      <td>0.019170</td>\n",
       "      <td>0.000000</td>\n",
       "    </tr>\n",
       "    <tr>\n",
       "      <th>3</th>\n",
       "      <td>0.196553</td>\n",
       "      <td>1.469992</td>\n",
       "      <td>30.0</td>\n",
       "      <td>5.0036</td>\n",
       "      <td>89.9888</td>\n",
       "      <td>5.0034</td>\n",
       "      <td>90.0119</td>\n",
       "      <td>13.5318</td>\n",
       "      <td>train</td>\n",
       "      <td>120.0017</td>\n",
       "      <td>4</td>\n",
       "      <td>167</td>\n",
       "      <td>0.7500</td>\n",
       "      <td>0.0000</td>\n",
       "      <td>0.250</td>\n",
       "      <td>293.377334</td>\n",
       "      <td>0.102257</td>\n",
       "      <td>0.076693</td>\n",
       "      <td>0.000000</td>\n",
       "      <td>0.025564</td>\n",
       "    </tr>\n",
       "    <tr>\n",
       "      <th>4</th>\n",
       "      <td>0.049266</td>\n",
       "      <td>0.866806</td>\n",
       "      <td>80.0</td>\n",
       "      <td>6.6614</td>\n",
       "      <td>89.9960</td>\n",
       "      <td>6.6612</td>\n",
       "      <td>90.0006</td>\n",
       "      <td>24.5813</td>\n",
       "      <td>train</td>\n",
       "      <td>119.9893</td>\n",
       "      <td>5</td>\n",
       "      <td>194</td>\n",
       "      <td>0.0000</td>\n",
       "      <td>0.6250</td>\n",
       "      <td>0.375</td>\n",
       "      <td>944.713843</td>\n",
       "      <td>0.084682</td>\n",
       "      <td>0.000000</td>\n",
       "      <td>0.052926</td>\n",
       "      <td>0.031756</td>\n",
       "    </tr>\n",
       "  </tbody>\n",
       "</table>\n",
       "</div>"
      ],
      "text/plain": [
       "          E        Eg  Natoms       a    alpha       b     beta        c  \\\n",
       "0  0.065788  1.490362    80.0  9.9523  90.0026  8.5513  90.0023   9.1775   \n",
       "1  0.222343  1.366347    80.0  6.1840  90.0186  6.1838  89.9980  23.6287   \n",
       "2  0.167293  1.320101    40.0  9.7510  90.9688  5.6595  91.1228  13.9630   \n",
       "3  0.196553  1.469992    30.0  5.0036  89.9888  5.0034  90.0119  13.5318   \n",
       "4  0.049266  0.866806    80.0  6.6614  89.9960  6.6612  90.0006  24.5813   \n",
       "\n",
       "  dataset     gamma  id   sg    x_Al    x_Ga   x_In         vol   density  \\\n",
       "0   train   90.0017   1   33  0.6250  0.3750  0.000  781.052081  0.102426   \n",
       "1   train  120.0025   2  194  0.6250  0.3750  0.000  782.500110  0.102236   \n",
       "2   train   30.5185   3  227  0.8125  0.1875  0.000  391.227531  0.102242   \n",
       "3   train  120.0017   4  167  0.7500  0.0000  0.250  293.377334  0.102257   \n",
       "4   train  119.9893   5  194  0.0000  0.6250  0.375  944.713843  0.084682   \n",
       "\n",
       "   density_Al  density_Ga  density_In  \n",
       "0    0.064016    0.038410    0.000000  \n",
       "1    0.063898    0.038339    0.000000  \n",
       "2    0.083072    0.019170    0.000000  \n",
       "3    0.076693    0.000000    0.025564  \n",
       "4    0.000000    0.052926    0.031756  "
      ]
     },
     "execution_count": 6,
     "metadata": {},
     "output_type": "execute_result"
    }
   ],
   "source": [
    "df_total.head()"
   ]
  },
  {
   "cell_type": "raw",
   "metadata": {},
   "source": [
    "import pymatgen\n",
    "elem_prop=pd.concat([pd.Series(pymatgen.Element.Al.data,name='Al'), pd.Series(pymatgen.Element.Ga.data,name='Ga'),pd.Series(pymatgen.Element.In.data,name='In')], axis=1)\n",
    "keep=['Atomic mass','Atomic radius','Atomic radius calculated','Density of solid','Ionic radii','Molar volume','Thermal conductivity','Van der waals radius','Velocity of sound','X' ]\n",
    "keep_names=['a_mass','a_radius','a_radius_c','elem_density','ionic_r','molar_v','t_cond','vdw_radius','sound_v','X' ]\n",
    "#keep=['Atomic mass']\n",
    "elem_prop=elem_prop.T\n",
    "elem_prop2=elem_prop[keep]\n",
    "elem_prop2['Ionic radii']=elem_prop2['Ionic radii'].apply(lambda x: (list(x.values()))[0])\n",
    "for c in ['Molar volume','Density of solid','Thermal conductivity','Velocity of sound']:\n",
    "    elem_prop2[c]=elem_prop2[c].apply(lambda x: x.split(' ')[0])\n",
    "\n",
    "for c in   elem_prop2.columns:\n",
    "     elem_prop2[c]=elem_prop2[c].astype(\"float32\")\n",
    "\n",
    "elem_prop2.rename(columns={old:new for (old,new) in zip(keep,keep_names)},inplace=True)\n",
    "\n",
    "print(elem_prop2)\n",
    "\n",
    "def avg_prop(x_Al, x_Ga, x_In, prop):\n",
    "    return elem_prop2.loc['Al',prop]*x_Al+elem_prop2.loc['Ga',prop]*x_Ga+elem_prop2.loc['In',prop]*x_In\n",
    "\n",
    "properties=elem_prop2.columns\n",
    "\n",
    "for prop in properties:\n",
    "    df_total['_'.join(['avg', prop])] = avg_prop(df_train['x_Al'], df_train['x_Ga'],df_train['x_In'],prop)\n",
    "    \n",
    "df_total.head()"
   ]
  },
  {
   "cell_type": "code",
   "execution_count": 7,
   "metadata": {},
   "outputs": [
    {
     "name": "stderr",
     "output_type": "stream",
     "text": [
      "C:\\ProgramData\\Anaconda3\\lib\\site-packages\\sklearn\\cross_validation.py:44: DeprecationWarning: This module was deprecated in version 0.18 in favor of the model_selection module into which all the refactored classes and functions are moved. Also note that the interface of the new CV iterators are different from that of this module. This module will be removed in 0.20.\n",
      "  \"This module will be removed in 0.20.\", DeprecationWarning)\n",
      "C:\\ProgramData\\Anaconda3\\lib\\site-packages\\sklearn\\grid_search.py:43: DeprecationWarning: This module was deprecated in version 0.18 in favor of the model_selection module into which all the refactored classes and functions are moved. This module will be removed in 0.20.\n",
      "  DeprecationWarning)\n",
      "C:\\ProgramData\\Anaconda3\\lib\\site-packages\\sklearn\\lda.py:6: DeprecationWarning: lda.LDA has been moved to discriminant_analysis.LinearDiscriminantAnalysis in 0.17 and will be removed in 0.19\n",
      "  \"in 0.17 and will be removed in 0.19\", DeprecationWarning)\n",
      "C:\\ProgramData\\Anaconda3\\lib\\site-packages\\sklearn\\learning_curve.py:23: DeprecationWarning: This module was deprecated in version 0.18 in favor of the model_selection module into which all the functions are moved. This module will be removed in 0.20\n",
      "  DeprecationWarning)\n",
      "C:\\ProgramData\\Anaconda3\\lib\\site-packages\\sklearn\\qda.py:6: DeprecationWarning: qda.QDA has been moved to discriminant_analysis.QuadraticDiscriminantAnalysis in 0.17 and will be removed in 0.19.\n",
      "  \"in 0.17 and will be removed in 0.19.\", DeprecationWarning)\n"
     ]
    }
   ],
   "source": [
    "#Encoding of cat features\n",
    "import sys \n",
    "sys.path.append(\"../kaggle_varie\")\n",
    "from  varie import *\n",
    "cols_to_enc=[\"sg\"]\n",
    "\n",
    "#binary encoder\n",
    "#enc=bin_enc(df_total,cols_to_enc,verbose=2,copy=True,drop_original=True,ordinal_only=False)\n",
    "#one-hot encoder\n",
    "enc=pd.get_dummies(df_total,columns=cols_to_enc)"
   ]
  },
  {
   "cell_type": "code",
   "execution_count": 8,
   "metadata": {
    "collapsed": true
   },
   "outputs": [],
   "source": [
    "def grid_search_fct(model,params,df,y_col,n_iter=20,cv=4,drop_col=[],verbose=2):\n",
    "    \n",
    "    X_train=df.drop(y_col+drop_col,axis=1).values\n",
    "    grids=[]\n",
    "    for y in y_col:\n",
    "        print(y)\n",
    "        y_train=df[y].values\n",
    "        print(X_train.shape,y_train.shape)\n",
    "\n",
    "        grid=RandomizedSearchCV(model,param_distributions=params, n_iter=n_iter,cv=cv,verbose=verbose,scoring=\"neg_mean_squared_error\" )\n",
    "\n",
    "        grid.fit(X_train,y_train)\n",
    "        grids.append(grid)\n",
    "    return grids"
   ]
  },
  {
   "cell_type": "code",
   "execution_count": 9,
   "metadata": {
    "scrolled": false
   },
   "outputs": [
    {
     "name": "stderr",
     "output_type": "stream",
     "text": [
      "ERROR:root:Line magic function `%aimport` not found.\n"
     ]
    },
    {
     "name": "stdout",
     "output_type": "stream",
     "text": [
      "knn\n",
      "E\n",
      "(2400, 21) (2400,)\n",
      "Fitting 4 folds for each of 10 candidates, totalling 40 fits\n"
     ]
    },
    {
     "name": "stderr",
     "output_type": "stream",
     "text": [
      "[Parallel(n_jobs=1)]: Done  40 out of  40 | elapsed:    3.3s finished\n"
     ]
    },
    {
     "name": "stdout",
     "output_type": "stream",
     "text": [
      "Eg\n",
      "(2400, 21) (2400,)\n",
      "Fitting 4 folds for each of 10 candidates, totalling 40 fits\n"
     ]
    },
    {
     "name": "stderr",
     "output_type": "stream",
     "text": [
      "[Parallel(n_jobs=1)]: Done  40 out of  40 | elapsed:    2.7s finished\n"
     ]
    },
    {
     "name": "stdout",
     "output_type": "stream",
     "text": [
      "svr\n",
      "E\n",
      "(2400, 21) (2400,)\n",
      "Fitting 4 folds for each of 10 candidates, totalling 40 fits\n"
     ]
    },
    {
     "name": "stderr",
     "output_type": "stream",
     "text": [
      "[Parallel(n_jobs=1)]: Done  40 out of  40 | elapsed: 26.4min finished\n"
     ]
    },
    {
     "name": "stdout",
     "output_type": "stream",
     "text": [
      "Eg\n",
      "(2400, 21) (2400,)\n",
      "Fitting 4 folds for each of 10 candidates, totalling 40 fits\n"
     ]
    },
    {
     "name": "stderr",
     "output_type": "stream",
     "text": [
      "[Parallel(n_jobs=1)]: Done  40 out of  40 | elapsed: 37.3min finished\n"
     ]
    },
    {
     "name": "stdout",
     "output_type": "stream",
     "text": [
      "svr_rbf\n",
      "E\n",
      "(2400, 21) (2400,)\n",
      "Fitting 4 folds for each of 10 candidates, totalling 40 fits\n"
     ]
    },
    {
     "name": "stderr",
     "output_type": "stream",
     "text": [
      "[Parallel(n_jobs=1)]: Done  40 out of  40 | elapsed:    7.1s finished\n"
     ]
    },
    {
     "name": "stdout",
     "output_type": "stream",
     "text": [
      "Eg\n",
      "(2400, 21) (2400,)\n",
      "Fitting 4 folds for each of 10 candidates, totalling 40 fits\n"
     ]
    },
    {
     "name": "stderr",
     "output_type": "stream",
     "text": [
      "[Parallel(n_jobs=1)]: Done  40 out of  40 | elapsed:   18.2s finished\n"
     ]
    },
    {
     "name": "stdout",
     "output_type": "stream",
     "text": [
      "rf\n",
      "E\n",
      "(2400, 21) (2400,)\n",
      "Fitting 4 folds for each of 10 candidates, totalling 40 fits\n"
     ]
    },
    {
     "name": "stderr",
     "output_type": "stream",
     "text": [
      "[Parallel(n_jobs=1)]: Done  40 out of  40 | elapsed:  1.3min finished\n"
     ]
    },
    {
     "name": "stdout",
     "output_type": "stream",
     "text": [
      "Eg\n",
      "(2400, 21) (2400,)\n",
      "Fitting 4 folds for each of 10 candidates, totalling 40 fits\n"
     ]
    },
    {
     "name": "stderr",
     "output_type": "stream",
     "text": [
      "[Parallel(n_jobs=1)]: Done  40 out of  40 | elapsed:   58.6s finished\n"
     ]
    },
    {
     "name": "stdout",
     "output_type": "stream",
     "text": [
      "cb\n",
      "E\n",
      "(2400, 21) (2400,)\n",
      "Fitting 4 folds for each of 10 candidates, totalling 40 fits\n"
     ]
    },
    {
     "name": "stderr",
     "output_type": "stream",
     "text": [
      "[Parallel(n_jobs=1)]: Done  40 out of  40 | elapsed:  9.4min finished\n"
     ]
    },
    {
     "name": "stdout",
     "output_type": "stream",
     "text": [
      "Eg\n",
      "(2400, 21) (2400,)\n",
      "Fitting 4 folds for each of 10 candidates, totalling 40 fits\n"
     ]
    },
    {
     "name": "stderr",
     "output_type": "stream",
     "text": [
      "[Parallel(n_jobs=1)]: Done  40 out of  40 | elapsed: 12.9min finished\n"
     ]
    },
    {
     "name": "stdout",
     "output_type": "stream",
     "text": [
      "mlp\n",
      "E\n",
      "(2400, 21) (2400,)\n",
      "Fitting 4 folds for each of 10 candidates, totalling 40 fits\n"
     ]
    },
    {
     "name": "stderr",
     "output_type": "stream",
     "text": [
      "[Parallel(n_jobs=1)]: Done  40 out of  40 | elapsed:   40.6s finished\n"
     ]
    },
    {
     "name": "stdout",
     "output_type": "stream",
     "text": [
      "Eg\n",
      "(2400, 21) (2400,)\n",
      "Fitting 4 folds for each of 10 candidates, totalling 40 fits\n"
     ]
    },
    {
     "name": "stderr",
     "output_type": "stream",
     "text": [
      "[Parallel(n_jobs=1)]: Done  40 out of  40 | elapsed:   39.9s finished\n"
     ]
    },
    {
     "name": "stdout",
     "output_type": "stream",
     "text": [
      "gb\n",
      "E\n",
      "(2400, 21) (2400,)\n",
      "Fitting 4 folds for each of 10 candidates, totalling 40 fits\n"
     ]
    },
    {
     "name": "stderr",
     "output_type": "stream",
     "text": [
      "[Parallel(n_jobs=1)]: Done  40 out of  40 | elapsed:   15.6s finished\n"
     ]
    },
    {
     "name": "stdout",
     "output_type": "stream",
     "text": [
      "Eg\n",
      "(2400, 21) (2400,)\n",
      "Fitting 4 folds for each of 10 candidates, totalling 40 fits\n"
     ]
    },
    {
     "name": "stderr",
     "output_type": "stream",
     "text": [
      "[Parallel(n_jobs=1)]: Done  40 out of  40 | elapsed:    7.3s finished\n"
     ]
    },
    {
     "name": "stdout",
     "output_type": "stream",
     "text": [
      "lasso\n",
      "E\n",
      "(2400, 21) (2400,)\n",
      "Fitting 4 folds for each of 10 candidates, totalling 40 fits\n"
     ]
    },
    {
     "name": "stderr",
     "output_type": "stream",
     "text": [
      "[Parallel(n_jobs=1)]: Done  40 out of  40 | elapsed:    0.8s finished\n"
     ]
    },
    {
     "name": "stdout",
     "output_type": "stream",
     "text": [
      "Eg\n",
      "(2400, 21) (2400,)\n",
      "Fitting 4 folds for each of 10 candidates, totalling 40 fits\n"
     ]
    },
    {
     "name": "stderr",
     "output_type": "stream",
     "text": [
      "[Parallel(n_jobs=1)]: Done  40 out of  40 | elapsed:    0.9s finished\n"
     ]
    },
    {
     "name": "stdout",
     "output_type": "stream",
     "text": [
      "ridge\n",
      "E\n",
      "(2400, 21) (2400,)\n",
      "Fitting 4 folds for each of 10 candidates, totalling 40 fits\n",
      "Eg\n",
      "(2400, 21) (2400,)\n",
      "Fitting 4 folds for each of 10 candidates, totalling 40 fits\n"
     ]
    },
    {
     "name": "stderr",
     "output_type": "stream",
     "text": [
      "[Parallel(n_jobs=1)]: Done  40 out of  40 | elapsed:    0.1s finished\n",
      "[Parallel(n_jobs=1)]: Done  40 out of  40 | elapsed:    0.1s finished\n"
     ]
    },
    {
     "name": "stdout",
     "output_type": "stream",
     "text": [
      "eln\n",
      "E\n",
      "(2400, 21) (2400,)\n",
      "Fitting 4 folds for each of 10 candidates, totalling 40 fits\n"
     ]
    },
    {
     "name": "stderr",
     "output_type": "stream",
     "text": [
      "[Parallel(n_jobs=1)]: Done  40 out of  40 | elapsed:    1.8s finished\n"
     ]
    },
    {
     "name": "stdout",
     "output_type": "stream",
     "text": [
      "Eg\n",
      "(2400, 21) (2400,)\n",
      "Fitting 4 folds for each of 10 candidates, totalling 40 fits\n"
     ]
    },
    {
     "name": "stderr",
     "output_type": "stream",
     "text": [
      "[Parallel(n_jobs=1)]: Done  40 out of  40 | elapsed:    1.6s finished\n"
     ]
    },
    {
     "name": "stdout",
     "output_type": "stream",
     "text": [
      "xgb\n",
      "E\n",
      "(2400, 21) (2400,)\n",
      "Fitting 4 folds for each of 10 candidates, totalling 40 fits\n"
     ]
    },
    {
     "name": "stderr",
     "output_type": "stream",
     "text": [
      "[Parallel(n_jobs=1)]: Done  40 out of  40 | elapsed:   11.6s finished\n"
     ]
    },
    {
     "name": "stdout",
     "output_type": "stream",
     "text": [
      "Eg\n",
      "(2400, 21) (2400,)\n",
      "Fitting 4 folds for each of 10 candidates, totalling 40 fits\n"
     ]
    },
    {
     "name": "stderr",
     "output_type": "stream",
     "text": [
      "[Parallel(n_jobs=1)]: Done  40 out of  40 | elapsed:   24.8s finished\n"
     ]
    },
    {
     "name": "stdout",
     "output_type": "stream",
     "text": [
      "gbm\n",
      "E\n",
      "(2400, 21) (2400,)\n",
      "Fitting 4 folds for each of 10 candidates, totalling 40 fits\n"
     ]
    },
    {
     "name": "stderr",
     "output_type": "stream",
     "text": [
      "[Parallel(n_jobs=1)]: Done  40 out of  40 | elapsed:  1.4min finished\n"
     ]
    },
    {
     "name": "stdout",
     "output_type": "stream",
     "text": [
      "Eg\n",
      "(2400, 21) (2400,)\n",
      "Fitting 4 folds for each of 10 candidates, totalling 40 fits\n"
     ]
    },
    {
     "name": "stderr",
     "output_type": "stream",
     "text": [
      "[Parallel(n_jobs=1)]: Done  40 out of  40 | elapsed:  1.1min finished\n"
     ]
    },
    {
     "name": "stdout",
     "output_type": "stream",
     "text": [
      "adb\n",
      "E\n",
      "(2400, 21) (2400,)\n",
      "Fitting 4 folds for each of 10 candidates, totalling 40 fits\n"
     ]
    },
    {
     "name": "stderr",
     "output_type": "stream",
     "text": [
      "[Parallel(n_jobs=1)]: Done  40 out of  40 | elapsed:   35.7s finished\n"
     ]
    },
    {
     "name": "stdout",
     "output_type": "stream",
     "text": [
      "Eg\n",
      "(2400, 21) (2400,)\n",
      "Fitting 4 folds for each of 10 candidates, totalling 40 fits\n"
     ]
    },
    {
     "name": "stderr",
     "output_type": "stream",
     "text": [
      "[Parallel(n_jobs=1)]: Done  40 out of  40 | elapsed:  1.2min finished\n"
     ]
    }
   ],
   "source": [
    "#grid search for random forest\n",
    "import scipy\n",
    "from  sklearn.model_selection import RandomizedSearchCV\n",
    "from sklearn import *\n",
    "from catboost import CatBoostRegressor,CatBoostClassifier\n",
    "from sklearn.svm import SVR\n",
    "from sklearn.linear_model import  ElasticNet\n",
    "from sklearn.ensemble import  GradientBoostingRegressor, RandomForestRegressor,AdaBoostRegressor\n",
    "from sklearn.neighbors import KNeighborsRegressor\n",
    "from sklearn.neural_network import MLPRegressor\n",
    "#from sklearn.kernel_approximation import Nystroem\n",
    "#from sklearn.kernel_approximation import RBFSampler\n",
    "from sklearn.linear_model import Lasso,Ridge,LinearRegression\n",
    "from xgboost import XGBRegressor\n",
    "from lightgbm import LGBMRegressor\n",
    "from varie import lognuniform\n",
    "#from varie import loguniform2\n",
    "%aimport varie\n",
    "import varie\n",
    "from scipy.stats import uniform, randint\n",
    "\n",
    "y_col=[\"E\",\"Eg\"]\n",
    "drop_col=[\"id\",\"dataset\"]\n",
    "df_total_train_eval=enc[df_total.dataset=='train']\n",
    "df_total_test=enc[df_total.dataset=='test']\n",
    "\n",
    "X_train=df_total_train_eval.drop(y_col+drop_col,axis=1).values\n",
    "X_test=df_total_test.drop(y_col+drop_col,axis=1).values\n",
    "\n",
    "models={\n",
    "    \n",
    "    'knn':\n",
    "           (KNeighborsRegressor(),\n",
    "            {'n_neighbors':scipy.stats.randint(1,100)}),\n",
    "    \n",
    "    'svr':\n",
    "           (SVR(verbose=False,kernel='linear'),\n",
    "            {'C':lognuniform(low=-4,high=4,base=10,size=100),\n",
    "             'epsilon':lognuniform(low=-2,high=0,base=10,size=100)}),\n",
    "    \n",
    "    'svr_rbf':\n",
    "           (SVR(verbose=False,kernel='rbf'),\n",
    "            {'C': lognuniform(low=-2,high=2,base=10,size=100),\n",
    "             'gamma':lognuniform(low=-2,high=2,base=10,size=100)}),\n",
    "\n",
    "    'rf':\n",
    "           (ensemble.RandomForestRegressor(verbose=False),\n",
    "            {\"max_depth\": scipy.stats.randint(1,100), \n",
    "             'n_estimators': scipy.stats.randint(1,400),\n",
    "             'max_features':('log2','sqrt','auto'),\n",
    "             'min_samples_split':scipy.stats.randint(2,5),\n",
    "             'min_samples_leaf':scipy.stats.randint(1,5)}),\n",
    "    \n",
    "    'cb':\n",
    "           (CatBoostRegressor(loss_function='RMSE', eval_metric='RMSE',logging_level='Silent'),\n",
    "            {\"depth\": scipy.stats.randint(1,6), \n",
    "             'iterations': scipy.stats.randint(100,2000),\n",
    "             'learning_rate':lognuniform(low=-2,high=-1,base=10,size=100),\n",
    "             'l2_leaf_reg': scipy.stats.randint(2,4)}),\n",
    "    \n",
    "    'mlp': \n",
    "           (MLPRegressor((80, 10), early_stopping=False),\n",
    "             {'hidden_layer_sizes':scipy.stats.randint(1,100),\n",
    "              'alpha':lognuniform(low=-5,high=-1,base=10,size=100)}),\n",
    "             \n",
    "     'gb':\n",
    "           (GradientBoostingRegressor(n_estimators=100),\n",
    "            {'learning_rate':lognuniform(low=-3,high=-1,base=10,size=100), \n",
    "             'n_estimators': scipy.stats.randint(1,300),\n",
    "             'max_depth':scipy.stats.randint(1,5),\n",
    "             'max_features':('sqrt','log2','auto')}),\n",
    "    \n",
    "    'lasso':\n",
    "            (Lasso(),\n",
    "            {'alpha':lognuniform(low=-6,high=2,base=10,size=100)}),  \n",
    "\n",
    "    'ridge':\n",
    "            (Ridge(),\n",
    "            {'alpha':varie.lognuniform(low=-6,high=2,base=10,size=100)}),\n",
    "    \n",
    "    'eln':\n",
    "            (ElasticNet(),\n",
    "            {'alpha':lognuniform(low=-6,high=4,base=10,size=100), \n",
    "             'l1_ratio':lognuniform(low=-6,high=4,base=10,size=100)}),\n",
    "    \n",
    "    'xgb':\n",
    "        (XGBRegressor(),\n",
    "         {'max_depth':scipy.stats.randint(1,100), \n",
    "          'learning_rate':lognuniform(low=-4,high=-0.5,base=10,size=100), \n",
    "          'n_estimators':scipy.stats.randint(1,400),\n",
    "          'colsample_bytree': uniform(0.55, 0.66),\n",
    "          'min_child_weight': randint(30, 60),\n",
    "          'colsample_bytree': uniform(0.6, 0.4),\n",
    "          'reg_lambda': uniform(1, 2),\n",
    "          'reg_alpha': uniform(1, 2),\n",
    "}),\n",
    "    \n",
    " #does not install    \n",
    "    'gbm' :\n",
    "        (LGBMRegressor(objective='regression'),\n",
    "            {'num_leaves':scipy.stats.randint(1,200), \n",
    "          'learning_rate':lognuniform(low=-4,high=-0.5,base=10,size=100), \n",
    "          'n_estimators':scipy.stats.randint(1,400)}),\n",
    "    'adb' :\n",
    "        (AdaBoostRegressor(loss=\"square\"),\n",
    "            {'learning_rate':lognuniform(low=-4,high=-0.1,base=10,size=10), \n",
    "             'n_estimators':scipy.stats.randint(1,400)}),         \n",
    "\n",
    "    \n",
    "       }\n",
    " \n",
    "    \n",
    "\n",
    "try:\n",
    "    results\n",
    "except:\n",
    "    results={}\n",
    "    \n",
    "for (tag,model) in  models.items():\n",
    "    if (tag not in results):\n",
    "        print(tag)\n",
    "        results[tag]=grid_search_fct(model[0],model[1],df_total_train_eval,y_col,n_iter=10,cv=4,drop_col=drop_col,verbose=1)\n",
    "\n",
    "\n",
    "    \n",
    "    #grid=RandomizedSearchCV(model[0],param_distributions=params, n_iter=20,cv=4,verbose=2,scoring=\"neg_mean_squared_error\" )\n",
    "\n",
    "                        \n",
    "    #grid.fit(X_train,y_train)\n",
    "    #grids.append(grid)"
   ]
  },
  {
   "cell_type": "code",
   "execution_count": 11,
   "metadata": {
    "collapsed": true
   },
   "outputs": [],
   "source": [
    "import pickle\n",
    "pickle.dump(results, open( \"results_cv_10iter.pickle\", \"wb\" ))\n",
    "#results.pop('cb')"
   ]
  },
  {
   "cell_type": "code",
   "execution_count": 12,
   "metadata": {},
   "outputs": [
    {
     "name": "stdout",
     "output_type": "stream",
     "text": [
      "knn\n",
      "{'n_neighbors': 5}\n",
      "{'n_neighbors': 2}\n",
      "0.0851628161367 0.0576802878912 0.112645344382\n",
      "svr\n",
      "{'epsilon': 0.017254490142290496, 'C': 0.11206449421619946}\n",
      "{'epsilon': 0.020178772192372886, 'C': 0.0033228622244295914}\n",
      "0.0919093152693 0.0583481105849 0.125470519954\n",
      "svr_rbf\n",
      "{'gamma': 0.032664503175227073, 'C': 4.5831631568414792}\n",
      "{'gamma': 0.012721154634095479, 'C': 0.6844846896861595}\n",
      "0.0971582764686 0.0707211313243 0.123595421613\n",
      "rf\n",
      "{'max_depth': 37, 'max_features': 'sqrt', 'min_samples_leaf': 3, 'min_samples_split': 2, 'n_estimators': 313}\n",
      "{'max_depth': 80, 'max_features': 'sqrt', 'min_samples_leaf': 4, 'min_samples_split': 3, 'n_estimators': 308}\n",
      "0.0620699163751 0.0332204733867 0.0909193593635\n",
      "cb\n",
      "{'depth': 4, 'iterations': 1328, 'l2_leaf_reg': 2, 'learning_rate': 0.015902606749020831}\n",
      "{'depth': 4, 'iterations': 1727, 'l2_leaf_reg': 3, 'learning_rate': 0.015902606749020831}\n",
      "0.0594551904799 0.0319222010461 0.0869881799138\n",
      "mlp\n",
      "{'alpha': 0.00052380669831485584, 'hidden_layer_sizes': 86}\n",
      "{'alpha': 0.0056592064592592764, 'hidden_layer_sizes': 85}\n",
      "0.158788289327 0.149506845794 0.16806973286\n",
      "gb\n",
      "{'learning_rate': 0.015362680639817432, 'max_depth': 4, 'max_features': 'log2', 'n_estimators': 278}\n",
      "{'learning_rate': 0.099542793444163877, 'max_depth': 2, 'max_features': 'sqrt', 'n_estimators': 280}\n",
      "0.0611130462798 0.0331639378174 0.0890621547423\n",
      "lasso\n",
      "{'alpha': 5.8789229833958711e-05}\n",
      "{'alpha': 0.00013577904770089804}\n",
      "0.074917344221 0.0522929692045 0.0975417192375\n",
      "ridge\n",
      "{'alpha': 0.0002612428901368327}\n",
      "{'alpha': 0.00060254670611648118}\n",
      "0.0667006987594 0.0429849423129 0.090416455206\n",
      "eln\n",
      "{'l1_ratio': 0.046386011929659951, 'alpha': 2.5218061307033033e-05}\n",
      "{'l1_ratio': 3.9020680728038162e-06, 'alpha': 4.9972907916976059e-06}\n",
      "0.0710599851309 0.0508080981851 0.0913118720767\n",
      "xgb\n",
      "{'colsample_bytree': 0.66581147056793177, 'learning_rate': 0.25475108971888238, 'max_depth': 67, 'min_child_weight': 50, 'n_estimators': 306, 'reg_alpha': 1.576359663444727, 'reg_lambda': 1.1502645755113983}\n",
      "{'colsample_bytree': 0.65369021827740581, 'learning_rate': 0.02091713755639062, 'max_depth': 39, 'min_child_weight': 51, 'n_estimators': 378, 'reg_alpha': 1.6820872467755015, 'reg_lambda': 1.5794381167746399}\n",
      "0.06173781442 0.0346409335837 0.0888346952563\n",
      "gbm\n",
      "{'learning_rate': 0.053598865275376384, 'n_estimators': 372, 'num_leaves': 13}\n",
      "{'learning_rate': 0.052688011258885607, 'n_estimators': 56, 'num_leaves': 6}\n",
      "0.066164752547 0.033574299791 0.0987552053031\n",
      "adb\n",
      "{'learning_rate': 0.090261933039442271, 'n_estimators': 313}\n",
      "{'learning_rate': 0.48442687574110221, 'n_estimators': 21}\n",
      "0.0813677842693 0.0464355313166 0.116300037222\n"
     ]
    }
   ],
   "source": [
    "#best models and their performance\n",
    "\n",
    "for tag,grids in results.items():\n",
    "    print(tag)\n",
    "    for grid in grids:\n",
    "        print(grid.best_params_)\n",
    "    print((np.sqrt(-grids[0].best_score_)+np.sqrt(-grids[1].best_score_))/2,\n",
    "          np.sqrt(-grids[0].best_score_),np.sqrt(-grids[1].best_score_))"
   ]
  },
  {
   "cell_type": "code",
   "execution_count": 16,
   "metadata": {},
   "outputs": [
    {
     "data": {
      "text/plain": [
       "<module 'mlxtend' from 'C:\\\\ProgramData\\\\Anaconda3\\\\lib\\\\site-packages\\\\mlxtend\\\\__init__.py'>"
      ]
     },
     "execution_count": 16,
     "metadata": {},
     "output_type": "execute_result"
    }
   ],
   "source": [
    "import mlxtend\n",
    "mlxtend."
   ]
  },
  {
   "cell_type": "code",
   "execution_count": 21,
   "metadata": {
    "scrolled": true
   },
   "outputs": [
    {
     "name": "stdout",
     "output_type": "stream",
     "text": [
      "E\n",
      "Fitting 5 folds for each of 10 candidates, totalling 50 fits\n",
      "[CV] meta-catboostregressor__depth=1, meta-catboostregressor__iterations=1240, meta-catboostregressor__l2_leaf_reg=3, meta-catboostregressor__learning_rate=0.0216897467291 \n"
     ]
    },
    {
     "name": "stderr",
     "output_type": "stream",
     "text": [
      "C:\\ProgramData\\Anaconda3\\lib\\site-packages\\sklearn\\base.py:122: DeprecationWarning: Estimator CatBoostRegressor modifies parameters in __init__. This behavior is deprecated as of 0.18 and support for this behavior will be removed in 0.20.\n",
      "  % type(estimator).__name__, DeprecationWarning)\n",
      "C:\\ProgramData\\Anaconda3\\lib\\site-packages\\sklearn\\base.py:122: DeprecationWarning: Estimator CatBoostRegressor modifies parameters in __init__. This behavior is deprecated as of 0.18 and support for this behavior will be removed in 0.20.\n",
      "  % type(estimator).__name__, DeprecationWarning)\n"
     ]
    },
    {
     "name": "stdout",
     "output_type": "stream",
     "text": [
      "[CV]  meta-catboostregressor__depth=1, meta-catboostregressor__iterations=1240, meta-catboostregressor__l2_leaf_reg=3, meta-catboostregressor__learning_rate=0.0216897467291, score=-0.001181, total= 2.7min\n",
      "[CV] meta-catboostregressor__depth=1, meta-catboostregressor__iterations=1240, meta-catboostregressor__l2_leaf_reg=3, meta-catboostregressor__learning_rate=0.0216897467291 \n"
     ]
    },
    {
     "name": "stderr",
     "output_type": "stream",
     "text": [
      "[Parallel(n_jobs=1)]: Done   1 out of   1 | elapsed:  2.7min remaining:    0.0s\n",
      "C:\\ProgramData\\Anaconda3\\lib\\site-packages\\sklearn\\base.py:122: DeprecationWarning: Estimator CatBoostRegressor modifies parameters in __init__. This behavior is deprecated as of 0.18 and support for this behavior will be removed in 0.20.\n",
      "  % type(estimator).__name__, DeprecationWarning)\n"
     ]
    },
    {
     "name": "stdout",
     "output_type": "stream",
     "text": [
      "[CV]  meta-catboostregressor__depth=1, meta-catboostregressor__iterations=1240, meta-catboostregressor__l2_leaf_reg=3, meta-catboostregressor__learning_rate=0.0216897467291, score=-0.000997, total= 3.6min\n",
      "[CV] meta-catboostregressor__depth=1, meta-catboostregressor__iterations=1240, meta-catboostregressor__l2_leaf_reg=3, meta-catboostregressor__learning_rate=0.0216897467291 \n"
     ]
    },
    {
     "name": "stderr",
     "output_type": "stream",
     "text": [
      "[Parallel(n_jobs=1)]: Done   2 out of   2 | elapsed:  6.3min remaining:    0.0s\n",
      "C:\\ProgramData\\Anaconda3\\lib\\site-packages\\sklearn\\base.py:122: DeprecationWarning: Estimator CatBoostRegressor modifies parameters in __init__. This behavior is deprecated as of 0.18 and support for this behavior will be removed in 0.20.\n",
      "  % type(estimator).__name__, DeprecationWarning)\n"
     ]
    },
    {
     "name": "stdout",
     "output_type": "stream",
     "text": [
      "[CV]  meta-catboostregressor__depth=1, meta-catboostregressor__iterations=1240, meta-catboostregressor__l2_leaf_reg=3, meta-catboostregressor__learning_rate=0.0216897467291, score=-0.001216, total= 2.7min\n",
      "[CV] meta-catboostregressor__depth=1, meta-catboostregressor__iterations=1240, meta-catboostregressor__l2_leaf_reg=3, meta-catboostregressor__learning_rate=0.0216897467291 \n"
     ]
    },
    {
     "name": "stderr",
     "output_type": "stream",
     "text": [
      "[Parallel(n_jobs=1)]: Done   3 out of   3 | elapsed:  9.1min remaining:    0.0s\n",
      "C:\\ProgramData\\Anaconda3\\lib\\site-packages\\sklearn\\base.py:122: DeprecationWarning: Estimator CatBoostRegressor modifies parameters in __init__. This behavior is deprecated as of 0.18 and support for this behavior will be removed in 0.20.\n",
      "  % type(estimator).__name__, DeprecationWarning)\n"
     ]
    },
    {
     "name": "stdout",
     "output_type": "stream",
     "text": [
      "[CV]  meta-catboostregressor__depth=1, meta-catboostregressor__iterations=1240, meta-catboostregressor__l2_leaf_reg=3, meta-catboostregressor__learning_rate=0.0216897467291, score=-0.001087, total= 2.4min\n",
      "[CV] meta-catboostregressor__depth=1, meta-catboostregressor__iterations=1240, meta-catboostregressor__l2_leaf_reg=3, meta-catboostregressor__learning_rate=0.0216897467291 \n"
     ]
    },
    {
     "name": "stderr",
     "output_type": "stream",
     "text": [
      "[Parallel(n_jobs=1)]: Done   4 out of   4 | elapsed: 11.5min remaining:    0.0s\n",
      "C:\\ProgramData\\Anaconda3\\lib\\site-packages\\sklearn\\base.py:122: DeprecationWarning: Estimator CatBoostRegressor modifies parameters in __init__. This behavior is deprecated as of 0.18 and support for this behavior will be removed in 0.20.\n",
      "  % type(estimator).__name__, DeprecationWarning)\n"
     ]
    },
    {
     "name": "stdout",
     "output_type": "stream",
     "text": [
      "[CV]  meta-catboostregressor__depth=1, meta-catboostregressor__iterations=1240, meta-catboostregressor__l2_leaf_reg=3, meta-catboostregressor__learning_rate=0.0216897467291, score=-0.001203, total= 2.4min\n",
      "[CV] meta-catboostregressor__depth=1, meta-catboostregressor__iterations=779, meta-catboostregressor__l2_leaf_reg=2, meta-catboostregressor__learning_rate=0.050433883381 \n"
     ]
    },
    {
     "name": "stderr",
     "output_type": "stream",
     "text": [
      "[Parallel(n_jobs=1)]: Done   5 out of   5 | elapsed: 13.9min remaining:    0.0s\n",
      "C:\\ProgramData\\Anaconda3\\lib\\site-packages\\sklearn\\base.py:122: DeprecationWarning: Estimator CatBoostRegressor modifies parameters in __init__. This behavior is deprecated as of 0.18 and support for this behavior will be removed in 0.20.\n",
      "  % type(estimator).__name__, DeprecationWarning)\n"
     ]
    },
    {
     "name": "stdout",
     "output_type": "stream",
     "text": [
      "[CV]  meta-catboostregressor__depth=1, meta-catboostregressor__iterations=779, meta-catboostregressor__l2_leaf_reg=2, meta-catboostregressor__learning_rate=0.050433883381, score=-0.001186, total= 2.6min\n",
      "[CV] meta-catboostregressor__depth=1, meta-catboostregressor__iterations=779, meta-catboostregressor__l2_leaf_reg=2, meta-catboostregressor__learning_rate=0.050433883381 \n"
     ]
    },
    {
     "name": "stderr",
     "output_type": "stream",
     "text": [
      "[Parallel(n_jobs=1)]: Done   6 out of   6 | elapsed: 16.6min remaining:    0.0s\n",
      "C:\\ProgramData\\Anaconda3\\lib\\site-packages\\sklearn\\base.py:122: DeprecationWarning: Estimator CatBoostRegressor modifies parameters in __init__. This behavior is deprecated as of 0.18 and support for this behavior will be removed in 0.20.\n",
      "  % type(estimator).__name__, DeprecationWarning)\n"
     ]
    },
    {
     "name": "stdout",
     "output_type": "stream",
     "text": [
      "[CV]  meta-catboostregressor__depth=1, meta-catboostregressor__iterations=779, meta-catboostregressor__l2_leaf_reg=2, meta-catboostregressor__learning_rate=0.050433883381, score=-0.000972, total= 3.5min\n",
      "[CV] meta-catboostregressor__depth=1, meta-catboostregressor__iterations=779, meta-catboostregressor__l2_leaf_reg=2, meta-catboostregressor__learning_rate=0.050433883381 \n"
     ]
    },
    {
     "name": "stderr",
     "output_type": "stream",
     "text": [
      "[Parallel(n_jobs=1)]: Done   7 out of   7 | elapsed: 20.1min remaining:    0.0s\n",
      "C:\\ProgramData\\Anaconda3\\lib\\site-packages\\sklearn\\base.py:122: DeprecationWarning: Estimator CatBoostRegressor modifies parameters in __init__. This behavior is deprecated as of 0.18 and support for this behavior will be removed in 0.20.\n",
      "  % type(estimator).__name__, DeprecationWarning)\n"
     ]
    },
    {
     "name": "stdout",
     "output_type": "stream",
     "text": [
      "[CV]  meta-catboostregressor__depth=1, meta-catboostregressor__iterations=779, meta-catboostregressor__l2_leaf_reg=2, meta-catboostregressor__learning_rate=0.050433883381, score=-0.001242, total= 2.6min\n",
      "[CV] meta-catboostregressor__depth=1, meta-catboostregressor__iterations=779, meta-catboostregressor__l2_leaf_reg=2, meta-catboostregressor__learning_rate=0.050433883381 \n"
     ]
    },
    {
     "name": "stderr",
     "output_type": "stream",
     "text": [
      "[Parallel(n_jobs=1)]: Done   8 out of   8 | elapsed: 22.6min remaining:    0.0s\n",
      "C:\\ProgramData\\Anaconda3\\lib\\site-packages\\sklearn\\base.py:122: DeprecationWarning: Estimator CatBoostRegressor modifies parameters in __init__. This behavior is deprecated as of 0.18 and support for this behavior will be removed in 0.20.\n",
      "  % type(estimator).__name__, DeprecationWarning)\n"
     ]
    },
    {
     "name": "stdout",
     "output_type": "stream",
     "text": [
      "[CV]  meta-catboostregressor__depth=1, meta-catboostregressor__iterations=779, meta-catboostregressor__l2_leaf_reg=2, meta-catboostregressor__learning_rate=0.050433883381, score=-0.001090, total= 2.4min\n",
      "[CV] meta-catboostregressor__depth=1, meta-catboostregressor__iterations=779, meta-catboostregressor__l2_leaf_reg=2, meta-catboostregressor__learning_rate=0.050433883381 \n"
     ]
    },
    {
     "name": "stderr",
     "output_type": "stream",
     "text": [
      "[Parallel(n_jobs=1)]: Done   9 out of   9 | elapsed: 25.1min remaining:    0.0s\n",
      "C:\\ProgramData\\Anaconda3\\lib\\site-packages\\sklearn\\base.py:122: DeprecationWarning: Estimator CatBoostRegressor modifies parameters in __init__. This behavior is deprecated as of 0.18 and support for this behavior will be removed in 0.20.\n",
      "  % type(estimator).__name__, DeprecationWarning)\n"
     ]
    },
    {
     "name": "stdout",
     "output_type": "stream",
     "text": [
      "[CV]  meta-catboostregressor__depth=1, meta-catboostregressor__iterations=779, meta-catboostregressor__l2_leaf_reg=2, meta-catboostregressor__learning_rate=0.050433883381, score=-0.001219, total= 2.4min\n",
      "[CV] meta-catboostregressor__depth=3, meta-catboostregressor__iterations=657, meta-catboostregressor__l2_leaf_reg=3, meta-catboostregressor__learning_rate=0.014663140265 \n"
     ]
    },
    {
     "name": "stderr",
     "output_type": "stream",
     "text": [
      "C:\\ProgramData\\Anaconda3\\lib\\site-packages\\sklearn\\base.py:122: DeprecationWarning: Estimator CatBoostRegressor modifies parameters in __init__. This behavior is deprecated as of 0.18 and support for this behavior will be removed in 0.20.\n",
      "  % type(estimator).__name__, DeprecationWarning)\n"
     ]
    },
    {
     "name": "stdout",
     "output_type": "stream",
     "text": [
      "[CV]  meta-catboostregressor__depth=3, meta-catboostregressor__iterations=657, meta-catboostregressor__l2_leaf_reg=3, meta-catboostregressor__learning_rate=0.014663140265, score=-0.001190, total= 2.7min\n",
      "[CV] meta-catboostregressor__depth=3, meta-catboostregressor__iterations=657, meta-catboostregressor__l2_leaf_reg=3, meta-catboostregressor__learning_rate=0.014663140265 \n"
     ]
    },
    {
     "name": "stderr",
     "output_type": "stream",
     "text": [
      "C:\\ProgramData\\Anaconda3\\lib\\site-packages\\sklearn\\base.py:122: DeprecationWarning: Estimator CatBoostRegressor modifies parameters in __init__. This behavior is deprecated as of 0.18 and support for this behavior will be removed in 0.20.\n",
      "  % type(estimator).__name__, DeprecationWarning)\n"
     ]
    },
    {
     "name": "stdout",
     "output_type": "stream",
     "text": [
      "[CV]  meta-catboostregressor__depth=3, meta-catboostregressor__iterations=657, meta-catboostregressor__l2_leaf_reg=3, meta-catboostregressor__learning_rate=0.014663140265, score=-0.000987, total= 3.5min\n",
      "[CV] meta-catboostregressor__depth=3, meta-catboostregressor__iterations=657, meta-catboostregressor__l2_leaf_reg=3, meta-catboostregressor__learning_rate=0.014663140265 \n"
     ]
    },
    {
     "name": "stderr",
     "output_type": "stream",
     "text": [
      "C:\\ProgramData\\Anaconda3\\lib\\site-packages\\sklearn\\base.py:122: DeprecationWarning: Estimator CatBoostRegressor modifies parameters in __init__. This behavior is deprecated as of 0.18 and support for this behavior will be removed in 0.20.\n",
      "  % type(estimator).__name__, DeprecationWarning)\n"
     ]
    },
    {
     "name": "stdout",
     "output_type": "stream",
     "text": [
      "[CV]  meta-catboostregressor__depth=3, meta-catboostregressor__iterations=657, meta-catboostregressor__l2_leaf_reg=3, meta-catboostregressor__learning_rate=0.014663140265, score=-0.001201, total= 2.8min\n",
      "[CV] meta-catboostregressor__depth=3, meta-catboostregressor__iterations=657, meta-catboostregressor__l2_leaf_reg=3, meta-catboostregressor__learning_rate=0.014663140265 \n"
     ]
    },
    {
     "name": "stderr",
     "output_type": "stream",
     "text": [
      "C:\\ProgramData\\Anaconda3\\lib\\site-packages\\sklearn\\base.py:122: DeprecationWarning: Estimator CatBoostRegressor modifies parameters in __init__. This behavior is deprecated as of 0.18 and support for this behavior will be removed in 0.20.\n",
      "  % type(estimator).__name__, DeprecationWarning)\n"
     ]
    },
    {
     "name": "stdout",
     "output_type": "stream",
     "text": [
      "[CV]  meta-catboostregressor__depth=3, meta-catboostregressor__iterations=657, meta-catboostregressor__l2_leaf_reg=3, meta-catboostregressor__learning_rate=0.014663140265, score=-0.001051, total= 2.5min\n",
      "[CV] meta-catboostregressor__depth=3, meta-catboostregressor__iterations=657, meta-catboostregressor__l2_leaf_reg=3, meta-catboostregressor__learning_rate=0.014663140265 \n"
     ]
    },
    {
     "name": "stderr",
     "output_type": "stream",
     "text": [
      "C:\\ProgramData\\Anaconda3\\lib\\site-packages\\sklearn\\base.py:122: DeprecationWarning: Estimator CatBoostRegressor modifies parameters in __init__. This behavior is deprecated as of 0.18 and support for this behavior will be removed in 0.20.\n",
      "  % type(estimator).__name__, DeprecationWarning)\n"
     ]
    },
    {
     "name": "stdout",
     "output_type": "stream",
     "text": [
      "[CV]  meta-catboostregressor__depth=3, meta-catboostregressor__iterations=657, meta-catboostregressor__l2_leaf_reg=3, meta-catboostregressor__learning_rate=0.014663140265, score=-0.001218, total= 2.5min\n",
      "[CV] meta-catboostregressor__depth=5, meta-catboostregressor__iterations=1267, meta-catboostregressor__l2_leaf_reg=2, meta-catboostregressor__learning_rate=0.030002942316 \n"
     ]
    },
    {
     "name": "stderr",
     "output_type": "stream",
     "text": [
      "C:\\ProgramData\\Anaconda3\\lib\\site-packages\\sklearn\\base.py:122: DeprecationWarning: Estimator CatBoostRegressor modifies parameters in __init__. This behavior is deprecated as of 0.18 and support for this behavior will be removed in 0.20.\n",
      "  % type(estimator).__name__, DeprecationWarning)\n"
     ]
    },
    {
     "name": "stdout",
     "output_type": "stream",
     "text": [
      "[CV]  meta-catboostregressor__depth=5, meta-catboostregressor__iterations=1267, meta-catboostregressor__l2_leaf_reg=2, meta-catboostregressor__learning_rate=0.030002942316, score=-0.001299, total= 3.1min\n",
      "[CV] meta-catboostregressor__depth=5, meta-catboostregressor__iterations=1267, meta-catboostregressor__l2_leaf_reg=2, meta-catboostregressor__learning_rate=0.030002942316 \n"
     ]
    },
    {
     "name": "stderr",
     "output_type": "stream",
     "text": [
      "C:\\ProgramData\\Anaconda3\\lib\\site-packages\\sklearn\\base.py:122: DeprecationWarning: Estimator CatBoostRegressor modifies parameters in __init__. This behavior is deprecated as of 0.18 and support for this behavior will be removed in 0.20.\n",
      "  % type(estimator).__name__, DeprecationWarning)\n"
     ]
    },
    {
     "name": "stdout",
     "output_type": "stream",
     "text": [
      "[CV]  meta-catboostregressor__depth=5, meta-catboostregressor__iterations=1267, meta-catboostregressor__l2_leaf_reg=2, meta-catboostregressor__learning_rate=0.030002942316, score=-0.001157, total= 4.0min\n",
      "[CV] meta-catboostregressor__depth=5, meta-catboostregressor__iterations=1267, meta-catboostregressor__l2_leaf_reg=2, meta-catboostregressor__learning_rate=0.030002942316 \n"
     ]
    },
    {
     "name": "stderr",
     "output_type": "stream",
     "text": [
      "C:\\ProgramData\\Anaconda3\\lib\\site-packages\\sklearn\\base.py:122: DeprecationWarning: Estimator CatBoostRegressor modifies parameters in __init__. This behavior is deprecated as of 0.18 and support for this behavior will be removed in 0.20.\n",
      "  % type(estimator).__name__, DeprecationWarning)\n"
     ]
    },
    {
     "name": "stdout",
     "output_type": "stream",
     "text": [
      "[CV]  meta-catboostregressor__depth=5, meta-catboostregressor__iterations=1267, meta-catboostregressor__l2_leaf_reg=2, meta-catboostregressor__learning_rate=0.030002942316, score=-0.001328, total= 3.1min\n",
      "[CV] meta-catboostregressor__depth=5, meta-catboostregressor__iterations=1267, meta-catboostregressor__l2_leaf_reg=2, meta-catboostregressor__learning_rate=0.030002942316 \n"
     ]
    },
    {
     "name": "stderr",
     "output_type": "stream",
     "text": [
      "C:\\ProgramData\\Anaconda3\\lib\\site-packages\\sklearn\\base.py:122: DeprecationWarning: Estimator CatBoostRegressor modifies parameters in __init__. This behavior is deprecated as of 0.18 and support for this behavior will be removed in 0.20.\n",
      "  % type(estimator).__name__, DeprecationWarning)\n"
     ]
    },
    {
     "name": "stdout",
     "output_type": "stream",
     "text": [
      "[CV]  meta-catboostregressor__depth=5, meta-catboostregressor__iterations=1267, meta-catboostregressor__l2_leaf_reg=2, meta-catboostregressor__learning_rate=0.030002942316, score=-0.001213, total= 3.0min\n",
      "[CV] meta-catboostregressor__depth=5, meta-catboostregressor__iterations=1267, meta-catboostregressor__l2_leaf_reg=2, meta-catboostregressor__learning_rate=0.030002942316 \n"
     ]
    },
    {
     "name": "stderr",
     "output_type": "stream",
     "text": [
      "C:\\ProgramData\\Anaconda3\\lib\\site-packages\\sklearn\\base.py:122: DeprecationWarning: Estimator CatBoostRegressor modifies parameters in __init__. This behavior is deprecated as of 0.18 and support for this behavior will be removed in 0.20.\n",
      "  % type(estimator).__name__, DeprecationWarning)\n"
     ]
    },
    {
     "name": "stdout",
     "output_type": "stream",
     "text": [
      "[CV]  meta-catboostregressor__depth=5, meta-catboostregressor__iterations=1267, meta-catboostregressor__l2_leaf_reg=2, meta-catboostregressor__learning_rate=0.030002942316, score=-0.001319, total= 3.0min\n",
      "[CV] meta-catboostregressor__depth=1, meta-catboostregressor__iterations=1406, meta-catboostregressor__l2_leaf_reg=2, meta-catboostregressor__learning_rate=0.0379708020985 \n"
     ]
    },
    {
     "name": "stderr",
     "output_type": "stream",
     "text": [
      "C:\\ProgramData\\Anaconda3\\lib\\site-packages\\sklearn\\base.py:122: DeprecationWarning: Estimator CatBoostRegressor modifies parameters in __init__. This behavior is deprecated as of 0.18 and support for this behavior will be removed in 0.20.\n",
      "  % type(estimator).__name__, DeprecationWarning)\n"
     ]
    },
    {
     "name": "stdout",
     "output_type": "stream",
     "text": [
      "[CV]  meta-catboostregressor__depth=1, meta-catboostregressor__iterations=1406, meta-catboostregressor__l2_leaf_reg=2, meta-catboostregressor__learning_rate=0.0379708020985, score=-0.001229, total= 2.9min\n",
      "[CV] meta-catboostregressor__depth=1, meta-catboostregressor__iterations=1406, meta-catboostregressor__l2_leaf_reg=2, meta-catboostregressor__learning_rate=0.0379708020985 \n"
     ]
    },
    {
     "name": "stderr",
     "output_type": "stream",
     "text": [
      "C:\\ProgramData\\Anaconda3\\lib\\site-packages\\sklearn\\base.py:122: DeprecationWarning: Estimator CatBoostRegressor modifies parameters in __init__. This behavior is deprecated as of 0.18 and support for this behavior will be removed in 0.20.\n",
      "  % type(estimator).__name__, DeprecationWarning)\n"
     ]
    },
    {
     "name": "stdout",
     "output_type": "stream",
     "text": [
      "[CV]  meta-catboostregressor__depth=1, meta-catboostregressor__iterations=1406, meta-catboostregressor__l2_leaf_reg=2, meta-catboostregressor__learning_rate=0.0379708020985, score=-0.000989, total= 3.6min\n",
      "[CV] meta-catboostregressor__depth=1, meta-catboostregressor__iterations=1406, meta-catboostregressor__l2_leaf_reg=2, meta-catboostregressor__learning_rate=0.0379708020985 \n"
     ]
    },
    {
     "name": "stderr",
     "output_type": "stream",
     "text": [
      "C:\\ProgramData\\Anaconda3\\lib\\site-packages\\sklearn\\base.py:122: DeprecationWarning: Estimator CatBoostRegressor modifies parameters in __init__. This behavior is deprecated as of 0.18 and support for this behavior will be removed in 0.20.\n",
      "  % type(estimator).__name__, DeprecationWarning)\n"
     ]
    },
    {
     "name": "stdout",
     "output_type": "stream",
     "text": [
      "[CV]  meta-catboostregressor__depth=1, meta-catboostregressor__iterations=1406, meta-catboostregressor__l2_leaf_reg=2, meta-catboostregressor__learning_rate=0.0379708020985, score=-0.001224, total= 2.8min\n",
      "[CV] meta-catboostregressor__depth=1, meta-catboostregressor__iterations=1406, meta-catboostregressor__l2_leaf_reg=2, meta-catboostregressor__learning_rate=0.0379708020985 \n"
     ]
    },
    {
     "name": "stderr",
     "output_type": "stream",
     "text": [
      "C:\\ProgramData\\Anaconda3\\lib\\site-packages\\sklearn\\base.py:122: DeprecationWarning: Estimator CatBoostRegressor modifies parameters in __init__. This behavior is deprecated as of 0.18 and support for this behavior will be removed in 0.20.\n",
      "  % type(estimator).__name__, DeprecationWarning)\n"
     ]
    },
    {
     "name": "stdout",
     "output_type": "stream",
     "text": [
      "[CV]  meta-catboostregressor__depth=1, meta-catboostregressor__iterations=1406, meta-catboostregressor__l2_leaf_reg=2, meta-catboostregressor__learning_rate=0.0379708020985, score=-0.001111, total= 2.5min\n",
      "[CV] meta-catboostregressor__depth=1, meta-catboostregressor__iterations=1406, meta-catboostregressor__l2_leaf_reg=2, meta-catboostregressor__learning_rate=0.0379708020985 \n"
     ]
    },
    {
     "name": "stderr",
     "output_type": "stream",
     "text": [
      "C:\\ProgramData\\Anaconda3\\lib\\site-packages\\sklearn\\base.py:122: DeprecationWarning: Estimator CatBoostRegressor modifies parameters in __init__. This behavior is deprecated as of 0.18 and support for this behavior will be removed in 0.20.\n",
      "  % type(estimator).__name__, DeprecationWarning)\n"
     ]
    },
    {
     "name": "stdout",
     "output_type": "stream",
     "text": [
      "[CV]  meta-catboostregressor__depth=1, meta-catboostregressor__iterations=1406, meta-catboostregressor__l2_leaf_reg=2, meta-catboostregressor__learning_rate=0.0379708020985, score=-0.001240, total= 2.5min\n",
      "[CV] meta-catboostregressor__depth=5, meta-catboostregressor__iterations=1072, meta-catboostregressor__l2_leaf_reg=2, meta-catboostregressor__learning_rate=0.0706308657718 \n"
     ]
    },
    {
     "name": "stderr",
     "output_type": "stream",
     "text": [
      "C:\\ProgramData\\Anaconda3\\lib\\site-packages\\sklearn\\base.py:122: DeprecationWarning: Estimator CatBoostRegressor modifies parameters in __init__. This behavior is deprecated as of 0.18 and support for this behavior will be removed in 0.20.\n",
      "  % type(estimator).__name__, DeprecationWarning)\n"
     ]
    },
    {
     "name": "stdout",
     "output_type": "stream",
     "text": [
      "[CV]  meta-catboostregressor__depth=5, meta-catboostregressor__iterations=1072, meta-catboostregressor__l2_leaf_reg=2, meta-catboostregressor__learning_rate=0.0706308657718, score=-0.001336, total= 3.1min\n",
      "[CV] meta-catboostregressor__depth=5, meta-catboostregressor__iterations=1072, meta-catboostregressor__l2_leaf_reg=2, meta-catboostregressor__learning_rate=0.0706308657718 \n"
     ]
    },
    {
     "name": "stderr",
     "output_type": "stream",
     "text": [
      "C:\\ProgramData\\Anaconda3\\lib\\site-packages\\sklearn\\base.py:122: DeprecationWarning: Estimator CatBoostRegressor modifies parameters in __init__. This behavior is deprecated as of 0.18 and support for this behavior will be removed in 0.20.\n",
      "  % type(estimator).__name__, DeprecationWarning)\n"
     ]
    },
    {
     "name": "stdout",
     "output_type": "stream",
     "text": [
      "[CV]  meta-catboostregressor__depth=5, meta-catboostregressor__iterations=1072, meta-catboostregressor__l2_leaf_reg=2, meta-catboostregressor__learning_rate=0.0706308657718, score=-0.001214, total= 3.9min\n",
      "[CV] meta-catboostregressor__depth=5, meta-catboostregressor__iterations=1072, meta-catboostregressor__l2_leaf_reg=2, meta-catboostregressor__learning_rate=0.0706308657718 \n"
     ]
    },
    {
     "name": "stderr",
     "output_type": "stream",
     "text": [
      "C:\\ProgramData\\Anaconda3\\lib\\site-packages\\sklearn\\base.py:122: DeprecationWarning: Estimator CatBoostRegressor modifies parameters in __init__. This behavior is deprecated as of 0.18 and support for this behavior will be removed in 0.20.\n",
      "  % type(estimator).__name__, DeprecationWarning)\n"
     ]
    },
    {
     "name": "stdout",
     "output_type": "stream",
     "text": [
      "[CV]  meta-catboostregressor__depth=5, meta-catboostregressor__iterations=1072, meta-catboostregressor__l2_leaf_reg=2, meta-catboostregressor__learning_rate=0.0706308657718, score=-0.001353, total= 3.1min\n",
      "[CV] meta-catboostregressor__depth=5, meta-catboostregressor__iterations=1072, meta-catboostregressor__l2_leaf_reg=2, meta-catboostregressor__learning_rate=0.0706308657718 \n"
     ]
    },
    {
     "name": "stderr",
     "output_type": "stream",
     "text": [
      "C:\\ProgramData\\Anaconda3\\lib\\site-packages\\sklearn\\base.py:122: DeprecationWarning: Estimator CatBoostRegressor modifies parameters in __init__. This behavior is deprecated as of 0.18 and support for this behavior will be removed in 0.20.\n",
      "  % type(estimator).__name__, DeprecationWarning)\n"
     ]
    },
    {
     "name": "stdout",
     "output_type": "stream",
     "text": [
      "[CV]  meta-catboostregressor__depth=5, meta-catboostregressor__iterations=1072, meta-catboostregressor__l2_leaf_reg=2, meta-catboostregressor__learning_rate=0.0706308657718, score=-0.001197, total= 2.8min\n",
      "[CV] meta-catboostregressor__depth=5, meta-catboostregressor__iterations=1072, meta-catboostregressor__l2_leaf_reg=2, meta-catboostregressor__learning_rate=0.0706308657718 \n"
     ]
    },
    {
     "name": "stderr",
     "output_type": "stream",
     "text": [
      "C:\\ProgramData\\Anaconda3\\lib\\site-packages\\sklearn\\base.py:122: DeprecationWarning: Estimator CatBoostRegressor modifies parameters in __init__. This behavior is deprecated as of 0.18 and support for this behavior will be removed in 0.20.\n",
      "  % type(estimator).__name__, DeprecationWarning)\n"
     ]
    },
    {
     "name": "stdout",
     "output_type": "stream",
     "text": [
      "[CV]  meta-catboostregressor__depth=5, meta-catboostregressor__iterations=1072, meta-catboostregressor__l2_leaf_reg=2, meta-catboostregressor__learning_rate=0.0706308657718, score=-0.001384, total= 2.9min\n",
      "[CV] meta-catboostregressor__depth=1, meta-catboostregressor__iterations=573, meta-catboostregressor__l2_leaf_reg=3, meta-catboostregressor__learning_rate=0.0453912307059 \n"
     ]
    },
    {
     "name": "stderr",
     "output_type": "stream",
     "text": [
      "C:\\ProgramData\\Anaconda3\\lib\\site-packages\\sklearn\\base.py:122: DeprecationWarning: Estimator CatBoostRegressor modifies parameters in __init__. This behavior is deprecated as of 0.18 and support for this behavior will be removed in 0.20.\n",
      "  % type(estimator).__name__, DeprecationWarning)\n"
     ]
    },
    {
     "name": "stdout",
     "output_type": "stream",
     "text": [
      "[CV]  meta-catboostregressor__depth=1, meta-catboostregressor__iterations=573, meta-catboostregressor__l2_leaf_reg=3, meta-catboostregressor__learning_rate=0.0453912307059, score=-0.001181, total= 2.7min\n",
      "[CV] meta-catboostregressor__depth=1, meta-catboostregressor__iterations=573, meta-catboostregressor__l2_leaf_reg=3, meta-catboostregressor__learning_rate=0.0453912307059 \n"
     ]
    },
    {
     "name": "stderr",
     "output_type": "stream",
     "text": [
      "C:\\ProgramData\\Anaconda3\\lib\\site-packages\\sklearn\\base.py:122: DeprecationWarning: Estimator CatBoostRegressor modifies parameters in __init__. This behavior is deprecated as of 0.18 and support for this behavior will be removed in 0.20.\n",
      "  % type(estimator).__name__, DeprecationWarning)\n"
     ]
    },
    {
     "name": "stdout",
     "output_type": "stream",
     "text": [
      "[CV]  meta-catboostregressor__depth=1, meta-catboostregressor__iterations=573, meta-catboostregressor__l2_leaf_reg=3, meta-catboostregressor__learning_rate=0.0453912307059, score=-0.000993, total= 3.5min\n",
      "[CV] meta-catboostregressor__depth=1, meta-catboostregressor__iterations=573, meta-catboostregressor__l2_leaf_reg=3, meta-catboostregressor__learning_rate=0.0453912307059 \n"
     ]
    },
    {
     "name": "stderr",
     "output_type": "stream",
     "text": [
      "C:\\ProgramData\\Anaconda3\\lib\\site-packages\\sklearn\\base.py:122: DeprecationWarning: Estimator CatBoostRegressor modifies parameters in __init__. This behavior is deprecated as of 0.18 and support for this behavior will be removed in 0.20.\n",
      "  % type(estimator).__name__, DeprecationWarning)\n"
     ]
    },
    {
     "name": "stdout",
     "output_type": "stream",
     "text": [
      "[CV]  meta-catboostregressor__depth=1, meta-catboostregressor__iterations=573, meta-catboostregressor__l2_leaf_reg=3, meta-catboostregressor__learning_rate=0.0453912307059, score=-0.001236, total= 2.7min\n",
      "[CV] meta-catboostregressor__depth=1, meta-catboostregressor__iterations=573, meta-catboostregressor__l2_leaf_reg=3, meta-catboostregressor__learning_rate=0.0453912307059 \n"
     ]
    },
    {
     "name": "stderr",
     "output_type": "stream",
     "text": [
      "C:\\ProgramData\\Anaconda3\\lib\\site-packages\\sklearn\\base.py:122: DeprecationWarning: Estimator CatBoostRegressor modifies parameters in __init__. This behavior is deprecated as of 0.18 and support for this behavior will be removed in 0.20.\n",
      "  % type(estimator).__name__, DeprecationWarning)\n"
     ]
    },
    {
     "name": "stdout",
     "output_type": "stream",
     "text": [
      "[CV]  meta-catboostregressor__depth=1, meta-catboostregressor__iterations=573, meta-catboostregressor__l2_leaf_reg=3, meta-catboostregressor__learning_rate=0.0453912307059, score=-0.001080, total= 2.4min\n",
      "[CV] meta-catboostregressor__depth=1, meta-catboostregressor__iterations=573, meta-catboostregressor__l2_leaf_reg=3, meta-catboostregressor__learning_rate=0.0453912307059 \n"
     ]
    },
    {
     "name": "stderr",
     "output_type": "stream",
     "text": [
      "C:\\ProgramData\\Anaconda3\\lib\\site-packages\\sklearn\\base.py:122: DeprecationWarning: Estimator CatBoostRegressor modifies parameters in __init__. This behavior is deprecated as of 0.18 and support for this behavior will be removed in 0.20.\n",
      "  % type(estimator).__name__, DeprecationWarning)\n"
     ]
    },
    {
     "name": "stdout",
     "output_type": "stream",
     "text": [
      "[CV]  meta-catboostregressor__depth=1, meta-catboostregressor__iterations=573, meta-catboostregressor__l2_leaf_reg=3, meta-catboostregressor__learning_rate=0.0453912307059, score=-0.001225, total= 2.4min\n",
      "[CV] meta-catboostregressor__depth=4, meta-catboostregressor__iterations=1133, meta-catboostregressor__l2_leaf_reg=3, meta-catboostregressor__learning_rate=0.0109965250616 \n"
     ]
    },
    {
     "name": "stderr",
     "output_type": "stream",
     "text": [
      "C:\\ProgramData\\Anaconda3\\lib\\site-packages\\sklearn\\base.py:122: DeprecationWarning: Estimator CatBoostRegressor modifies parameters in __init__. This behavior is deprecated as of 0.18 and support for this behavior will be removed in 0.20.\n",
      "  % type(estimator).__name__, DeprecationWarning)\n"
     ]
    },
    {
     "name": "stdout",
     "output_type": "stream",
     "text": [
      "[CV]  meta-catboostregressor__depth=4, meta-catboostregressor__iterations=1133, meta-catboostregressor__l2_leaf_reg=3, meta-catboostregressor__learning_rate=0.0109965250616, score=-0.001224, total= 3.0min\n",
      "[CV] meta-catboostregressor__depth=4, meta-catboostregressor__iterations=1133, meta-catboostregressor__l2_leaf_reg=3, meta-catboostregressor__learning_rate=0.0109965250616 \n"
     ]
    },
    {
     "name": "stderr",
     "output_type": "stream",
     "text": [
      "C:\\ProgramData\\Anaconda3\\lib\\site-packages\\sklearn\\base.py:122: DeprecationWarning: Estimator CatBoostRegressor modifies parameters in __init__. This behavior is deprecated as of 0.18 and support for this behavior will be removed in 0.20.\n",
      "  % type(estimator).__name__, DeprecationWarning)\n"
     ]
    },
    {
     "name": "stdout",
     "output_type": "stream",
     "text": [
      "[CV]  meta-catboostregressor__depth=4, meta-catboostregressor__iterations=1133, meta-catboostregressor__l2_leaf_reg=3, meta-catboostregressor__learning_rate=0.0109965250616, score=-0.001032, total= 3.8min\n",
      "[CV] meta-catboostregressor__depth=4, meta-catboostregressor__iterations=1133, meta-catboostregressor__l2_leaf_reg=3, meta-catboostregressor__learning_rate=0.0109965250616 \n"
     ]
    },
    {
     "name": "stderr",
     "output_type": "stream",
     "text": [
      "C:\\ProgramData\\Anaconda3\\lib\\site-packages\\sklearn\\base.py:122: DeprecationWarning: Estimator CatBoostRegressor modifies parameters in __init__. This behavior is deprecated as of 0.18 and support for this behavior will be removed in 0.20.\n",
      "  % type(estimator).__name__, DeprecationWarning)\n"
     ]
    },
    {
     "name": "stdout",
     "output_type": "stream",
     "text": [
      "[CV]  meta-catboostregressor__depth=4, meta-catboostregressor__iterations=1133, meta-catboostregressor__l2_leaf_reg=3, meta-catboostregressor__learning_rate=0.0109965250616, score=-0.001222, total= 2.7min\n",
      "[CV] meta-catboostregressor__depth=4, meta-catboostregressor__iterations=1133, meta-catboostregressor__l2_leaf_reg=3, meta-catboostregressor__learning_rate=0.0109965250616 \n"
     ]
    },
    {
     "name": "stderr",
     "output_type": "stream",
     "text": [
      "C:\\ProgramData\\Anaconda3\\lib\\site-packages\\sklearn\\base.py:122: DeprecationWarning: Estimator CatBoostRegressor modifies parameters in __init__. This behavior is deprecated as of 0.18 and support for this behavior will be removed in 0.20.\n",
      "  % type(estimator).__name__, DeprecationWarning)\n"
     ]
    },
    {
     "name": "stdout",
     "output_type": "stream",
     "text": [
      "[CV]  meta-catboostregressor__depth=4, meta-catboostregressor__iterations=1133, meta-catboostregressor__l2_leaf_reg=3, meta-catboostregressor__learning_rate=0.0109965250616, score=-0.001113, total= 2.5min\n",
      "[CV] meta-catboostregressor__depth=4, meta-catboostregressor__iterations=1133, meta-catboostregressor__l2_leaf_reg=3, meta-catboostregressor__learning_rate=0.0109965250616 \n"
     ]
    },
    {
     "name": "stderr",
     "output_type": "stream",
     "text": [
      "C:\\ProgramData\\Anaconda3\\lib\\site-packages\\sklearn\\base.py:122: DeprecationWarning: Estimator CatBoostRegressor modifies parameters in __init__. This behavior is deprecated as of 0.18 and support for this behavior will be removed in 0.20.\n",
      "  % type(estimator).__name__, DeprecationWarning)\n"
     ]
    },
    {
     "name": "stdout",
     "output_type": "stream",
     "text": [
      "[CV]  meta-catboostregressor__depth=4, meta-catboostregressor__iterations=1133, meta-catboostregressor__l2_leaf_reg=3, meta-catboostregressor__learning_rate=0.0109965250616, score=-0.001263, total= 2.5min\n",
      "[CV] meta-catboostregressor__depth=3, meta-catboostregressor__iterations=1317, meta-catboostregressor__l2_leaf_reg=3, meta-catboostregressor__learning_rate=0.0627510193949 \n"
     ]
    },
    {
     "name": "stderr",
     "output_type": "stream",
     "text": [
      "C:\\ProgramData\\Anaconda3\\lib\\site-packages\\sklearn\\base.py:122: DeprecationWarning: Estimator CatBoostRegressor modifies parameters in __init__. This behavior is deprecated as of 0.18 and support for this behavior will be removed in 0.20.\n",
      "  % type(estimator).__name__, DeprecationWarning)\n"
     ]
    },
    {
     "name": "stdout",
     "output_type": "stream",
     "text": [
      "[CV]  meta-catboostregressor__depth=3, meta-catboostregressor__iterations=1317, meta-catboostregressor__l2_leaf_reg=3, meta-catboostregressor__learning_rate=0.0627510193949, score=-0.001288, total= 2.7min\n",
      "[CV] meta-catboostregressor__depth=3, meta-catboostregressor__iterations=1317, meta-catboostregressor__l2_leaf_reg=3, meta-catboostregressor__learning_rate=0.0627510193949 \n"
     ]
    },
    {
     "name": "stderr",
     "output_type": "stream",
     "text": [
      "C:\\ProgramData\\Anaconda3\\lib\\site-packages\\sklearn\\base.py:122: DeprecationWarning: Estimator CatBoostRegressor modifies parameters in __init__. This behavior is deprecated as of 0.18 and support for this behavior will be removed in 0.20.\n",
      "  % type(estimator).__name__, DeprecationWarning)\n"
     ]
    },
    {
     "name": "stdout",
     "output_type": "stream",
     "text": [
      "[CV]  meta-catboostregressor__depth=3, meta-catboostregressor__iterations=1317, meta-catboostregressor__l2_leaf_reg=3, meta-catboostregressor__learning_rate=0.0627510193949, score=-0.001137, total= 4.5min\n",
      "[CV] meta-catboostregressor__depth=3, meta-catboostregressor__iterations=1317, meta-catboostregressor__l2_leaf_reg=3, meta-catboostregressor__learning_rate=0.0627510193949 \n"
     ]
    },
    {
     "name": "stderr",
     "output_type": "stream",
     "text": [
      "C:\\ProgramData\\Anaconda3\\lib\\site-packages\\sklearn\\base.py:122: DeprecationWarning: Estimator CatBoostRegressor modifies parameters in __init__. This behavior is deprecated as of 0.18 and support for this behavior will be removed in 0.20.\n",
      "  % type(estimator).__name__, DeprecationWarning)\n"
     ]
    },
    {
     "name": "stdout",
     "output_type": "stream",
     "text": [
      "[CV]  meta-catboostregressor__depth=3, meta-catboostregressor__iterations=1317, meta-catboostregressor__l2_leaf_reg=3, meta-catboostregressor__learning_rate=0.0627510193949, score=-0.001327, total= 3.2min\n",
      "[CV] meta-catboostregressor__depth=3, meta-catboostregressor__iterations=1317, meta-catboostregressor__l2_leaf_reg=3, meta-catboostregressor__learning_rate=0.0627510193949 \n"
     ]
    },
    {
     "name": "stderr",
     "output_type": "stream",
     "text": [
      "C:\\ProgramData\\Anaconda3\\lib\\site-packages\\sklearn\\base.py:122: DeprecationWarning: Estimator CatBoostRegressor modifies parameters in __init__. This behavior is deprecated as of 0.18 and support for this behavior will be removed in 0.20.\n",
      "  % type(estimator).__name__, DeprecationWarning)\n"
     ]
    },
    {
     "name": "stdout",
     "output_type": "stream",
     "text": [
      "[CV]  meta-catboostregressor__depth=3, meta-catboostregressor__iterations=1317, meta-catboostregressor__l2_leaf_reg=3, meta-catboostregressor__learning_rate=0.0627510193949, score=-0.001178, total= 2.7min\n",
      "[CV] meta-catboostregressor__depth=3, meta-catboostregressor__iterations=1317, meta-catboostregressor__l2_leaf_reg=3, meta-catboostregressor__learning_rate=0.0627510193949 \n"
     ]
    },
    {
     "name": "stderr",
     "output_type": "stream",
     "text": [
      "C:\\ProgramData\\Anaconda3\\lib\\site-packages\\sklearn\\base.py:122: DeprecationWarning: Estimator CatBoostRegressor modifies parameters in __init__. This behavior is deprecated as of 0.18 and support for this behavior will be removed in 0.20.\n",
      "  % type(estimator).__name__, DeprecationWarning)\n"
     ]
    },
    {
     "name": "stdout",
     "output_type": "stream",
     "text": [
      "[CV]  meta-catboostregressor__depth=3, meta-catboostregressor__iterations=1317, meta-catboostregressor__l2_leaf_reg=3, meta-catboostregressor__learning_rate=0.0627510193949, score=-0.001360, total= 2.6min\n",
      "[CV] meta-catboostregressor__depth=5, meta-catboostregressor__iterations=297, meta-catboostregressor__l2_leaf_reg=3, meta-catboostregressor__learning_rate=0.0204555524463 \n"
     ]
    },
    {
     "name": "stderr",
     "output_type": "stream",
     "text": [
      "C:\\ProgramData\\Anaconda3\\lib\\site-packages\\sklearn\\base.py:122: DeprecationWarning: Estimator CatBoostRegressor modifies parameters in __init__. This behavior is deprecated as of 0.18 and support for this behavior will be removed in 0.20.\n",
      "  % type(estimator).__name__, DeprecationWarning)\n"
     ]
    },
    {
     "name": "stdout",
     "output_type": "stream",
     "text": [
      "[CV]  meta-catboostregressor__depth=5, meta-catboostregressor__iterations=297, meta-catboostregressor__l2_leaf_reg=3, meta-catboostregressor__learning_rate=0.0204555524463, score=-0.001180, total= 2.3min\n",
      "[CV] meta-catboostregressor__depth=5, meta-catboostregressor__iterations=297, meta-catboostregressor__l2_leaf_reg=3, meta-catboostregressor__learning_rate=0.0204555524463 \n"
     ]
    },
    {
     "name": "stderr",
     "output_type": "stream",
     "text": [
      "C:\\ProgramData\\Anaconda3\\lib\\site-packages\\sklearn\\base.py:122: DeprecationWarning: Estimator CatBoostRegressor modifies parameters in __init__. This behavior is deprecated as of 0.18 and support for this behavior will be removed in 0.20.\n",
      "  % type(estimator).__name__, DeprecationWarning)\n"
     ]
    },
    {
     "name": "stdout",
     "output_type": "stream",
     "text": [
      "[CV]  meta-catboostregressor__depth=5, meta-catboostregressor__iterations=297, meta-catboostregressor__l2_leaf_reg=3, meta-catboostregressor__learning_rate=0.0204555524463, score=-0.000990, total= 3.3min\n",
      "[CV] meta-catboostregressor__depth=5, meta-catboostregressor__iterations=297, meta-catboostregressor__l2_leaf_reg=3, meta-catboostregressor__learning_rate=0.0204555524463 \n"
     ]
    },
    {
     "name": "stderr",
     "output_type": "stream",
     "text": [
      "C:\\ProgramData\\Anaconda3\\lib\\site-packages\\sklearn\\base.py:122: DeprecationWarning: Estimator CatBoostRegressor modifies parameters in __init__. This behavior is deprecated as of 0.18 and support for this behavior will be removed in 0.20.\n",
      "  % type(estimator).__name__, DeprecationWarning)\n"
     ]
    },
    {
     "name": "stdout",
     "output_type": "stream",
     "text": [
      "[CV]  meta-catboostregressor__depth=5, meta-catboostregressor__iterations=297, meta-catboostregressor__l2_leaf_reg=3, meta-catboostregressor__learning_rate=0.0204555524463, score=-0.001186, total= 2.7min\n",
      "[CV] meta-catboostregressor__depth=5, meta-catboostregressor__iterations=297, meta-catboostregressor__l2_leaf_reg=3, meta-catboostregressor__learning_rate=0.0204555524463 \n"
     ]
    },
    {
     "name": "stderr",
     "output_type": "stream",
     "text": [
      "C:\\ProgramData\\Anaconda3\\lib\\site-packages\\sklearn\\base.py:122: DeprecationWarning: Estimator CatBoostRegressor modifies parameters in __init__. This behavior is deprecated as of 0.18 and support for this behavior will be removed in 0.20.\n",
      "  % type(estimator).__name__, DeprecationWarning)\n"
     ]
    },
    {
     "name": "stdout",
     "output_type": "stream",
     "text": [
      "[CV]  meta-catboostregressor__depth=5, meta-catboostregressor__iterations=297, meta-catboostregressor__l2_leaf_reg=3, meta-catboostregressor__learning_rate=0.0204555524463, score=-0.001024, total= 2.0min\n",
      "[CV] meta-catboostregressor__depth=5, meta-catboostregressor__iterations=297, meta-catboostregressor__l2_leaf_reg=3, meta-catboostregressor__learning_rate=0.0204555524463 \n"
     ]
    },
    {
     "name": "stderr",
     "output_type": "stream",
     "text": [
      "C:\\ProgramData\\Anaconda3\\lib\\site-packages\\sklearn\\base.py:122: DeprecationWarning: Estimator CatBoostRegressor modifies parameters in __init__. This behavior is deprecated as of 0.18 and support for this behavior will be removed in 0.20.\n",
      "  % type(estimator).__name__, DeprecationWarning)\n"
     ]
    },
    {
     "name": "stdout",
     "output_type": "stream",
     "text": [
      "[CV]  meta-catboostregressor__depth=5, meta-catboostregressor__iterations=297, meta-catboostregressor__l2_leaf_reg=3, meta-catboostregressor__learning_rate=0.0204555524463, score=-0.001233, total= 2.0min\n"
     ]
    },
    {
     "name": "stderr",
     "output_type": "stream",
     "text": [
      "[Parallel(n_jobs=1)]: Done  50 out of  50 | elapsed: 144.5min finished\n",
      "C:\\ProgramData\\Anaconda3\\lib\\site-packages\\sklearn\\base.py:122: DeprecationWarning: Estimator CatBoostRegressor modifies parameters in __init__. This behavior is deprecated as of 0.18 and support for this behavior will be removed in 0.20.\n",
      "  % type(estimator).__name__, DeprecationWarning)\n"
     ]
    },
    {
     "name": "stdout",
     "output_type": "stream",
     "text": [
      "Eg\n",
      "Fitting 5 folds for each of 10 candidates, totalling 50 fits\n",
      "[CV] meta-catboostregressor__depth=5, meta-catboostregressor__iterations=150, meta-catboostregressor__l2_leaf_reg=3, meta-catboostregressor__learning_rate=0.029359697726 \n"
     ]
    },
    {
     "name": "stderr",
     "output_type": "stream",
     "text": [
      "C:\\ProgramData\\Anaconda3\\lib\\site-packages\\sklearn\\base.py:122: DeprecationWarning: Estimator CatBoostRegressor modifies parameters in __init__. This behavior is deprecated as of 0.18 and support for this behavior will be removed in 0.20.\n",
      "  % type(estimator).__name__, DeprecationWarning)\n",
      "C:\\ProgramData\\Anaconda3\\lib\\site-packages\\sklearn\\base.py:122: DeprecationWarning: Estimator CatBoostRegressor modifies parameters in __init__. This behavior is deprecated as of 0.18 and support for this behavior will be removed in 0.20.\n",
      "  % type(estimator).__name__, DeprecationWarning)\n"
     ]
    },
    {
     "name": "stdout",
     "output_type": "stream",
     "text": [
      "[CV]  meta-catboostregressor__depth=5, meta-catboostregressor__iterations=150, meta-catboostregressor__l2_leaf_reg=3, meta-catboostregressor__learning_rate=0.029359697726, score=-0.008504, total=  46.9s\n",
      "[CV] meta-catboostregressor__depth=5, meta-catboostregressor__iterations=150, meta-catboostregressor__l2_leaf_reg=3, meta-catboostregressor__learning_rate=0.029359697726 \n"
     ]
    },
    {
     "name": "stderr",
     "output_type": "stream",
     "text": [
      "[Parallel(n_jobs=1)]: Done   1 out of   1 | elapsed:   47.3s remaining:    0.0s\n",
      "C:\\ProgramData\\Anaconda3\\lib\\site-packages\\sklearn\\base.py:122: DeprecationWarning: Estimator CatBoostRegressor modifies parameters in __init__. This behavior is deprecated as of 0.18 and support for this behavior will be removed in 0.20.\n",
      "  % type(estimator).__name__, DeprecationWarning)\n"
     ]
    },
    {
     "name": "stdout",
     "output_type": "stream",
     "text": [
      "[CV]  meta-catboostregressor__depth=5, meta-catboostregressor__iterations=150, meta-catboostregressor__l2_leaf_reg=3, meta-catboostregressor__learning_rate=0.029359697726, score=-0.008579, total=  44.8s\n",
      "[CV] meta-catboostregressor__depth=5, meta-catboostregressor__iterations=150, meta-catboostregressor__l2_leaf_reg=3, meta-catboostregressor__learning_rate=0.029359697726 \n"
     ]
    },
    {
     "name": "stderr",
     "output_type": "stream",
     "text": [
      "[Parallel(n_jobs=1)]: Done   2 out of   2 | elapsed:  1.5min remaining:    0.0s\n",
      "C:\\ProgramData\\Anaconda3\\lib\\site-packages\\sklearn\\base.py:122: DeprecationWarning: Estimator CatBoostRegressor modifies parameters in __init__. This behavior is deprecated as of 0.18 and support for this behavior will be removed in 0.20.\n",
      "  % type(estimator).__name__, DeprecationWarning)\n"
     ]
    },
    {
     "name": "stdout",
     "output_type": "stream",
     "text": [
      "[CV]  meta-catboostregressor__depth=5, meta-catboostregressor__iterations=150, meta-catboostregressor__l2_leaf_reg=3, meta-catboostregressor__learning_rate=0.029359697726, score=-0.007810, total=  46.8s\n",
      "[CV] meta-catboostregressor__depth=5, meta-catboostregressor__iterations=150, meta-catboostregressor__l2_leaf_reg=3, meta-catboostregressor__learning_rate=0.029359697726 \n"
     ]
    },
    {
     "name": "stderr",
     "output_type": "stream",
     "text": [
      "[Parallel(n_jobs=1)]: Done   3 out of   3 | elapsed:  2.3min remaining:    0.0s\n",
      "C:\\ProgramData\\Anaconda3\\lib\\site-packages\\sklearn\\base.py:122: DeprecationWarning: Estimator CatBoostRegressor modifies parameters in __init__. This behavior is deprecated as of 0.18 and support for this behavior will be removed in 0.20.\n",
      "  % type(estimator).__name__, DeprecationWarning)\n"
     ]
    },
    {
     "name": "stdout",
     "output_type": "stream",
     "text": [
      "[CV]  meta-catboostregressor__depth=5, meta-catboostregressor__iterations=150, meta-catboostregressor__l2_leaf_reg=3, meta-catboostregressor__learning_rate=0.029359697726, score=-0.007742, total=  45.1s\n",
      "[CV] meta-catboostregressor__depth=5, meta-catboostregressor__iterations=150, meta-catboostregressor__l2_leaf_reg=3, meta-catboostregressor__learning_rate=0.029359697726 \n"
     ]
    },
    {
     "name": "stderr",
     "output_type": "stream",
     "text": [
      "[Parallel(n_jobs=1)]: Done   4 out of   4 | elapsed:  3.1min remaining:    0.0s\n",
      "C:\\ProgramData\\Anaconda3\\lib\\site-packages\\sklearn\\base.py:122: DeprecationWarning: Estimator CatBoostRegressor modifies parameters in __init__. This behavior is deprecated as of 0.18 and support for this behavior will be removed in 0.20.\n",
      "  % type(estimator).__name__, DeprecationWarning)\n"
     ]
    },
    {
     "name": "stdout",
     "output_type": "stream",
     "text": [
      "[CV]  meta-catboostregressor__depth=5, meta-catboostregressor__iterations=150, meta-catboostregressor__l2_leaf_reg=3, meta-catboostregressor__learning_rate=0.029359697726, score=-0.009203, total=  45.6s\n",
      "[CV] meta-catboostregressor__depth=1, meta-catboostregressor__iterations=274, meta-catboostregressor__l2_leaf_reg=3, meta-catboostregressor__learning_rate=0.0216897467291 \n"
     ]
    },
    {
     "name": "stderr",
     "output_type": "stream",
     "text": [
      "[Parallel(n_jobs=1)]: Done   5 out of   5 | elapsed:  3.9min remaining:    0.0s\n",
      "C:\\ProgramData\\Anaconda3\\lib\\site-packages\\sklearn\\base.py:122: DeprecationWarning: Estimator CatBoostRegressor modifies parameters in __init__. This behavior is deprecated as of 0.18 and support for this behavior will be removed in 0.20.\n",
      "  % type(estimator).__name__, DeprecationWarning)\n"
     ]
    },
    {
     "name": "stdout",
     "output_type": "stream",
     "text": [
      "[CV]  meta-catboostregressor__depth=1, meta-catboostregressor__iterations=274, meta-catboostregressor__l2_leaf_reg=3, meta-catboostregressor__learning_rate=0.0216897467291, score=-0.008678, total=  43.6s\n",
      "[CV] meta-catboostregressor__depth=1, meta-catboostregressor__iterations=274, meta-catboostregressor__l2_leaf_reg=3, meta-catboostregressor__learning_rate=0.0216897467291 \n"
     ]
    },
    {
     "name": "stderr",
     "output_type": "stream",
     "text": [
      "[Parallel(n_jobs=1)]: Done   6 out of   6 | elapsed:  4.6min remaining:    0.0s\n",
      "C:\\ProgramData\\Anaconda3\\lib\\site-packages\\sklearn\\base.py:122: DeprecationWarning: Estimator CatBoostRegressor modifies parameters in __init__. This behavior is deprecated as of 0.18 and support for this behavior will be removed in 0.20.\n",
      "  % type(estimator).__name__, DeprecationWarning)\n"
     ]
    },
    {
     "name": "stdout",
     "output_type": "stream",
     "text": [
      "[CV]  meta-catboostregressor__depth=1, meta-catboostregressor__iterations=274, meta-catboostregressor__l2_leaf_reg=3, meta-catboostregressor__learning_rate=0.0216897467291, score=-0.009412, total=  40.3s\n",
      "[CV] meta-catboostregressor__depth=1, meta-catboostregressor__iterations=274, meta-catboostregressor__l2_leaf_reg=3, meta-catboostregressor__learning_rate=0.0216897467291 \n"
     ]
    },
    {
     "name": "stderr",
     "output_type": "stream",
     "text": [
      "[Parallel(n_jobs=1)]: Done   7 out of   7 | elapsed:  5.3min remaining:    0.0s\n",
      "C:\\ProgramData\\Anaconda3\\lib\\site-packages\\sklearn\\base.py:122: DeprecationWarning: Estimator CatBoostRegressor modifies parameters in __init__. This behavior is deprecated as of 0.18 and support for this behavior will be removed in 0.20.\n",
      "  % type(estimator).__name__, DeprecationWarning)\n"
     ]
    },
    {
     "name": "stdout",
     "output_type": "stream",
     "text": [
      "[CV]  meta-catboostregressor__depth=1, meta-catboostregressor__iterations=274, meta-catboostregressor__l2_leaf_reg=3, meta-catboostregressor__learning_rate=0.0216897467291, score=-0.008552, total=  41.5s\n",
      "[CV] meta-catboostregressor__depth=1, meta-catboostregressor__iterations=274, meta-catboostregressor__l2_leaf_reg=3, meta-catboostregressor__learning_rate=0.0216897467291 \n"
     ]
    },
    {
     "name": "stderr",
     "output_type": "stream",
     "text": [
      "[Parallel(n_jobs=1)]: Done   8 out of   8 | elapsed:  6.0min remaining:    0.0s\n",
      "C:\\ProgramData\\Anaconda3\\lib\\site-packages\\sklearn\\base.py:122: DeprecationWarning: Estimator CatBoostRegressor modifies parameters in __init__. This behavior is deprecated as of 0.18 and support for this behavior will be removed in 0.20.\n",
      "  % type(estimator).__name__, DeprecationWarning)\n"
     ]
    },
    {
     "name": "stdout",
     "output_type": "stream",
     "text": [
      "[CV]  meta-catboostregressor__depth=1, meta-catboostregressor__iterations=274, meta-catboostregressor__l2_leaf_reg=3, meta-catboostregressor__learning_rate=0.0216897467291, score=-0.007870, total=  40.3s\n",
      "[CV] meta-catboostregressor__depth=1, meta-catboostregressor__iterations=274, meta-catboostregressor__l2_leaf_reg=3, meta-catboostregressor__learning_rate=0.0216897467291 \n"
     ]
    },
    {
     "name": "stderr",
     "output_type": "stream",
     "text": [
      "[Parallel(n_jobs=1)]: Done   9 out of   9 | elapsed:  6.7min remaining:    0.0s\n",
      "C:\\ProgramData\\Anaconda3\\lib\\site-packages\\sklearn\\base.py:122: DeprecationWarning: Estimator CatBoostRegressor modifies parameters in __init__. This behavior is deprecated as of 0.18 and support for this behavior will be removed in 0.20.\n",
      "  % type(estimator).__name__, DeprecationWarning)\n"
     ]
    },
    {
     "name": "stdout",
     "output_type": "stream",
     "text": [
      "[CV]  meta-catboostregressor__depth=1, meta-catboostregressor__iterations=274, meta-catboostregressor__l2_leaf_reg=3, meta-catboostregressor__learning_rate=0.0216897467291, score=-0.009501, total=  40.8s\n",
      "[CV] meta-catboostregressor__depth=3, meta-catboostregressor__iterations=576, meta-catboostregressor__l2_leaf_reg=3, meta-catboostregressor__learning_rate=0.0150489072066 \n"
     ]
    },
    {
     "name": "stderr",
     "output_type": "stream",
     "text": [
      "C:\\ProgramData\\Anaconda3\\lib\\site-packages\\sklearn\\base.py:122: DeprecationWarning: Estimator CatBoostRegressor modifies parameters in __init__. This behavior is deprecated as of 0.18 and support for this behavior will be removed in 0.20.\n",
      "  % type(estimator).__name__, DeprecationWarning)\n"
     ]
    },
    {
     "name": "stdout",
     "output_type": "stream",
     "text": [
      "[CV]  meta-catboostregressor__depth=3, meta-catboostregressor__iterations=576, meta-catboostregressor__l2_leaf_reg=3, meta-catboostregressor__learning_rate=0.0150489072066, score=-0.008342, total=  51.4s\n",
      "[CV] meta-catboostregressor__depth=3, meta-catboostregressor__iterations=576, meta-catboostregressor__l2_leaf_reg=3, meta-catboostregressor__learning_rate=0.0150489072066 \n"
     ]
    },
    {
     "name": "stderr",
     "output_type": "stream",
     "text": [
      "C:\\ProgramData\\Anaconda3\\lib\\site-packages\\sklearn\\base.py:122: DeprecationWarning: Estimator CatBoostRegressor modifies parameters in __init__. This behavior is deprecated as of 0.18 and support for this behavior will be removed in 0.20.\n",
      "  % type(estimator).__name__, DeprecationWarning)\n"
     ]
    },
    {
     "name": "stdout",
     "output_type": "stream",
     "text": [
      "[CV]  meta-catboostregressor__depth=3, meta-catboostregressor__iterations=576, meta-catboostregressor__l2_leaf_reg=3, meta-catboostregressor__learning_rate=0.0150489072066, score=-0.008559, total=  50.3s\n",
      "[CV] meta-catboostregressor__depth=3, meta-catboostregressor__iterations=576, meta-catboostregressor__l2_leaf_reg=3, meta-catboostregressor__learning_rate=0.0150489072066 \n"
     ]
    },
    {
     "name": "stderr",
     "output_type": "stream",
     "text": [
      "C:\\ProgramData\\Anaconda3\\lib\\site-packages\\sklearn\\base.py:122: DeprecationWarning: Estimator CatBoostRegressor modifies parameters in __init__. This behavior is deprecated as of 0.18 and support for this behavior will be removed in 0.20.\n",
      "  % type(estimator).__name__, DeprecationWarning)\n"
     ]
    },
    {
     "name": "stdout",
     "output_type": "stream",
     "text": [
      "[CV]  meta-catboostregressor__depth=3, meta-catboostregressor__iterations=576, meta-catboostregressor__l2_leaf_reg=3, meta-catboostregressor__learning_rate=0.0150489072066, score=-0.007656, total=  50.8s\n",
      "[CV] meta-catboostregressor__depth=3, meta-catboostregressor__iterations=576, meta-catboostregressor__l2_leaf_reg=3, meta-catboostregressor__learning_rate=0.0150489072066 \n"
     ]
    },
    {
     "name": "stderr",
     "output_type": "stream",
     "text": [
      "C:\\ProgramData\\Anaconda3\\lib\\site-packages\\sklearn\\base.py:122: DeprecationWarning: Estimator CatBoostRegressor modifies parameters in __init__. This behavior is deprecated as of 0.18 and support for this behavior will be removed in 0.20.\n",
      "  % type(estimator).__name__, DeprecationWarning)\n"
     ]
    },
    {
     "name": "stdout",
     "output_type": "stream",
     "text": [
      "[CV]  meta-catboostregressor__depth=3, meta-catboostregressor__iterations=576, meta-catboostregressor__l2_leaf_reg=3, meta-catboostregressor__learning_rate=0.0150489072066, score=-0.007484, total=  49.5s\n",
      "[CV] meta-catboostregressor__depth=3, meta-catboostregressor__iterations=576, meta-catboostregressor__l2_leaf_reg=3, meta-catboostregressor__learning_rate=0.0150489072066 \n"
     ]
    },
    {
     "name": "stderr",
     "output_type": "stream",
     "text": [
      "C:\\ProgramData\\Anaconda3\\lib\\site-packages\\sklearn\\base.py:122: DeprecationWarning: Estimator CatBoostRegressor modifies parameters in __init__. This behavior is deprecated as of 0.18 and support for this behavior will be removed in 0.20.\n",
      "  % type(estimator).__name__, DeprecationWarning)\n"
     ]
    },
    {
     "name": "stdout",
     "output_type": "stream",
     "text": [
      "[CV]  meta-catboostregressor__depth=3, meta-catboostregressor__iterations=576, meta-catboostregressor__l2_leaf_reg=3, meta-catboostregressor__learning_rate=0.0150489072066, score=-0.009134, total=  48.9s\n",
      "[CV] meta-catboostregressor__depth=1, meta-catboostregressor__iterations=912, meta-catboostregressor__l2_leaf_reg=3, meta-catboostregressor__learning_rate=0.0845851591287 \n"
     ]
    },
    {
     "name": "stderr",
     "output_type": "stream",
     "text": [
      "C:\\ProgramData\\Anaconda3\\lib\\site-packages\\sklearn\\base.py:122: DeprecationWarning: Estimator CatBoostRegressor modifies parameters in __init__. This behavior is deprecated as of 0.18 and support for this behavior will be removed in 0.20.\n",
      "  % type(estimator).__name__, DeprecationWarning)\n"
     ]
    },
    {
     "name": "stdout",
     "output_type": "stream",
     "text": [
      "[CV]  meta-catboostregressor__depth=1, meta-catboostregressor__iterations=912, meta-catboostregressor__l2_leaf_reg=3, meta-catboostregressor__learning_rate=0.0845851591287, score=-0.008737, total=  46.4s\n",
      "[CV] meta-catboostregressor__depth=1, meta-catboostregressor__iterations=912, meta-catboostregressor__l2_leaf_reg=3, meta-catboostregressor__learning_rate=0.0845851591287 \n"
     ]
    },
    {
     "name": "stderr",
     "output_type": "stream",
     "text": [
      "C:\\ProgramData\\Anaconda3\\lib\\site-packages\\sklearn\\base.py:122: DeprecationWarning: Estimator CatBoostRegressor modifies parameters in __init__. This behavior is deprecated as of 0.18 and support for this behavior will be removed in 0.20.\n",
      "  % type(estimator).__name__, DeprecationWarning)\n"
     ]
    },
    {
     "name": "stdout",
     "output_type": "stream",
     "text": [
      "[CV]  meta-catboostregressor__depth=1, meta-catboostregressor__iterations=912, meta-catboostregressor__l2_leaf_reg=3, meta-catboostregressor__learning_rate=0.0845851591287, score=-0.009364, total=  46.7s\n",
      "[CV] meta-catboostregressor__depth=1, meta-catboostregressor__iterations=912, meta-catboostregressor__l2_leaf_reg=3, meta-catboostregressor__learning_rate=0.0845851591287 \n"
     ]
    },
    {
     "name": "stderr",
     "output_type": "stream",
     "text": [
      "C:\\ProgramData\\Anaconda3\\lib\\site-packages\\sklearn\\base.py:122: DeprecationWarning: Estimator CatBoostRegressor modifies parameters in __init__. This behavior is deprecated as of 0.18 and support for this behavior will be removed in 0.20.\n",
      "  % type(estimator).__name__, DeprecationWarning)\n"
     ]
    },
    {
     "name": "stdout",
     "output_type": "stream",
     "text": [
      "[CV]  meta-catboostregressor__depth=1, meta-catboostregressor__iterations=912, meta-catboostregressor__l2_leaf_reg=3, meta-catboostregressor__learning_rate=0.0845851591287, score=-0.008223, total=  46.6s\n",
      "[CV] meta-catboostregressor__depth=1, meta-catboostregressor__iterations=912, meta-catboostregressor__l2_leaf_reg=3, meta-catboostregressor__learning_rate=0.0845851591287 \n"
     ]
    },
    {
     "name": "stderr",
     "output_type": "stream",
     "text": [
      "C:\\ProgramData\\Anaconda3\\lib\\site-packages\\sklearn\\base.py:122: DeprecationWarning: Estimator CatBoostRegressor modifies parameters in __init__. This behavior is deprecated as of 0.18 and support for this behavior will be removed in 0.20.\n",
      "  % type(estimator).__name__, DeprecationWarning)\n"
     ]
    },
    {
     "name": "stdout",
     "output_type": "stream",
     "text": [
      "[CV]  meta-catboostregressor__depth=1, meta-catboostregressor__iterations=912, meta-catboostregressor__l2_leaf_reg=3, meta-catboostregressor__learning_rate=0.0845851591287, score=-0.008256, total=  54.2s\n",
      "[CV] meta-catboostregressor__depth=1, meta-catboostregressor__iterations=912, meta-catboostregressor__l2_leaf_reg=3, meta-catboostregressor__learning_rate=0.0845851591287 \n"
     ]
    },
    {
     "name": "stderr",
     "output_type": "stream",
     "text": [
      "C:\\ProgramData\\Anaconda3\\lib\\site-packages\\sklearn\\base.py:122: DeprecationWarning: Estimator CatBoostRegressor modifies parameters in __init__. This behavior is deprecated as of 0.18 and support for this behavior will be removed in 0.20.\n",
      "  % type(estimator).__name__, DeprecationWarning)\n"
     ]
    },
    {
     "name": "stdout",
     "output_type": "stream",
     "text": [
      "[CV]  meta-catboostregressor__depth=1, meta-catboostregressor__iterations=912, meta-catboostregressor__l2_leaf_reg=3, meta-catboostregressor__learning_rate=0.0845851591287, score=-0.010143, total=  59.2s\n",
      "[CV] meta-catboostregressor__depth=4, meta-catboostregressor__iterations=764, meta-catboostregressor__l2_leaf_reg=2, meta-catboostregressor__learning_rate=0.0453912307059 \n"
     ]
    },
    {
     "name": "stderr",
     "output_type": "stream",
     "text": [
      "C:\\ProgramData\\Anaconda3\\lib\\site-packages\\sklearn\\base.py:122: DeprecationWarning: Estimator CatBoostRegressor modifies parameters in __init__. This behavior is deprecated as of 0.18 and support for this behavior will be removed in 0.20.\n",
      "  % type(estimator).__name__, DeprecationWarning)\n"
     ]
    },
    {
     "name": "stdout",
     "output_type": "stream",
     "text": [
      "[CV]  meta-catboostregressor__depth=4, meta-catboostregressor__iterations=764, meta-catboostregressor__l2_leaf_reg=2, meta-catboostregressor__learning_rate=0.0453912307059, score=-0.009803, total= 1.1min\n",
      "[CV] meta-catboostregressor__depth=4, meta-catboostregressor__iterations=764, meta-catboostregressor__l2_leaf_reg=2, meta-catboostregressor__learning_rate=0.0453912307059 \n"
     ]
    },
    {
     "name": "stderr",
     "output_type": "stream",
     "text": [
      "C:\\ProgramData\\Anaconda3\\lib\\site-packages\\sklearn\\base.py:122: DeprecationWarning: Estimator CatBoostRegressor modifies parameters in __init__. This behavior is deprecated as of 0.18 and support for this behavior will be removed in 0.20.\n",
      "  % type(estimator).__name__, DeprecationWarning)\n"
     ]
    },
    {
     "name": "stdout",
     "output_type": "stream",
     "text": [
      "[CV]  meta-catboostregressor__depth=4, meta-catboostregressor__iterations=764, meta-catboostregressor__l2_leaf_reg=2, meta-catboostregressor__learning_rate=0.0453912307059, score=-0.010328, total= 1.1min\n",
      "[CV] meta-catboostregressor__depth=4, meta-catboostregressor__iterations=764, meta-catboostregressor__l2_leaf_reg=2, meta-catboostregressor__learning_rate=0.0453912307059 \n"
     ]
    },
    {
     "name": "stderr",
     "output_type": "stream",
     "text": [
      "C:\\ProgramData\\Anaconda3\\lib\\site-packages\\sklearn\\base.py:122: DeprecationWarning: Estimator CatBoostRegressor modifies parameters in __init__. This behavior is deprecated as of 0.18 and support for this behavior will be removed in 0.20.\n",
      "  % type(estimator).__name__, DeprecationWarning)\n"
     ]
    },
    {
     "name": "stdout",
     "output_type": "stream",
     "text": [
      "[CV]  meta-catboostregressor__depth=4, meta-catboostregressor__iterations=764, meta-catboostregressor__l2_leaf_reg=2, meta-catboostregressor__learning_rate=0.0453912307059, score=-0.009276, total= 1.1min\n",
      "[CV] meta-catboostregressor__depth=4, meta-catboostregressor__iterations=764, meta-catboostregressor__l2_leaf_reg=2, meta-catboostregressor__learning_rate=0.0453912307059 \n"
     ]
    },
    {
     "name": "stderr",
     "output_type": "stream",
     "text": [
      "C:\\ProgramData\\Anaconda3\\lib\\site-packages\\sklearn\\base.py:122: DeprecationWarning: Estimator CatBoostRegressor modifies parameters in __init__. This behavior is deprecated as of 0.18 and support for this behavior will be removed in 0.20.\n",
      "  % type(estimator).__name__, DeprecationWarning)\n"
     ]
    },
    {
     "name": "stdout",
     "output_type": "stream",
     "text": [
      "[CV]  meta-catboostregressor__depth=4, meta-catboostregressor__iterations=764, meta-catboostregressor__l2_leaf_reg=2, meta-catboostregressor__learning_rate=0.0453912307059, score=-0.008302, total= 1.3min\n",
      "[CV] meta-catboostregressor__depth=4, meta-catboostregressor__iterations=764, meta-catboostregressor__l2_leaf_reg=2, meta-catboostregressor__learning_rate=0.0453912307059 \n"
     ]
    },
    {
     "name": "stderr",
     "output_type": "stream",
     "text": [
      "C:\\ProgramData\\Anaconda3\\lib\\site-packages\\sklearn\\base.py:122: DeprecationWarning: Estimator CatBoostRegressor modifies parameters in __init__. This behavior is deprecated as of 0.18 and support for this behavior will be removed in 0.20.\n",
      "  % type(estimator).__name__, DeprecationWarning)\n"
     ]
    },
    {
     "name": "stdout",
     "output_type": "stream",
     "text": [
      "[CV]  meta-catboostregressor__depth=4, meta-catboostregressor__iterations=764, meta-catboostregressor__l2_leaf_reg=2, meta-catboostregressor__learning_rate=0.0453912307059, score=-0.010689, total= 1.2min\n",
      "[CV] meta-catboostregressor__depth=3, meta-catboostregressor__iterations=1597, meta-catboostregressor__l2_leaf_reg=2, meta-catboostregressor__learning_rate=0.0285559873338 \n"
     ]
    },
    {
     "name": "stderr",
     "output_type": "stream",
     "text": [
      "C:\\ProgramData\\Anaconda3\\lib\\site-packages\\sklearn\\base.py:122: DeprecationWarning: Estimator CatBoostRegressor modifies parameters in __init__. This behavior is deprecated as of 0.18 and support for this behavior will be removed in 0.20.\n",
      "  % type(estimator).__name__, DeprecationWarning)\n"
     ]
    },
    {
     "name": "stdout",
     "output_type": "stream",
     "text": [
      "[CV]  meta-catboostregressor__depth=3, meta-catboostregressor__iterations=1597, meta-catboostregressor__l2_leaf_reg=2, meta-catboostregressor__learning_rate=0.0285559873338, score=-0.009902, total= 1.2min\n",
      "[CV] meta-catboostregressor__depth=3, meta-catboostregressor__iterations=1597, meta-catboostregressor__l2_leaf_reg=2, meta-catboostregressor__learning_rate=0.0285559873338 \n"
     ]
    },
    {
     "name": "stderr",
     "output_type": "stream",
     "text": [
      "C:\\ProgramData\\Anaconda3\\lib\\site-packages\\sklearn\\base.py:122: DeprecationWarning: Estimator CatBoostRegressor modifies parameters in __init__. This behavior is deprecated as of 0.18 and support for this behavior will be removed in 0.20.\n",
      "  % type(estimator).__name__, DeprecationWarning)\n"
     ]
    },
    {
     "name": "stdout",
     "output_type": "stream",
     "text": [
      "[CV]  meta-catboostregressor__depth=3, meta-catboostregressor__iterations=1597, meta-catboostregressor__l2_leaf_reg=2, meta-catboostregressor__learning_rate=0.0285559873338, score=-0.009819, total= 1.3min\n",
      "[CV] meta-catboostregressor__depth=3, meta-catboostregressor__iterations=1597, meta-catboostregressor__l2_leaf_reg=2, meta-catboostregressor__learning_rate=0.0285559873338 \n"
     ]
    },
    {
     "name": "stderr",
     "output_type": "stream",
     "text": [
      "C:\\ProgramData\\Anaconda3\\lib\\site-packages\\sklearn\\base.py:122: DeprecationWarning: Estimator CatBoostRegressor modifies parameters in __init__. This behavior is deprecated as of 0.18 and support for this behavior will be removed in 0.20.\n",
      "  % type(estimator).__name__, DeprecationWarning)\n"
     ]
    },
    {
     "name": "stdout",
     "output_type": "stream",
     "text": [
      "[CV]  meta-catboostregressor__depth=3, meta-catboostregressor__iterations=1597, meta-catboostregressor__l2_leaf_reg=2, meta-catboostregressor__learning_rate=0.0285559873338, score=-0.009044, total= 1.3min\n",
      "[CV] meta-catboostregressor__depth=3, meta-catboostregressor__iterations=1597, meta-catboostregressor__l2_leaf_reg=2, meta-catboostregressor__learning_rate=0.0285559873338 \n"
     ]
    },
    {
     "name": "stderr",
     "output_type": "stream",
     "text": [
      "C:\\ProgramData\\Anaconda3\\lib\\site-packages\\sklearn\\base.py:122: DeprecationWarning: Estimator CatBoostRegressor modifies parameters in __init__. This behavior is deprecated as of 0.18 and support for this behavior will be removed in 0.20.\n",
      "  % type(estimator).__name__, DeprecationWarning)\n"
     ]
    },
    {
     "name": "stdout",
     "output_type": "stream",
     "text": [
      "[CV]  meta-catboostregressor__depth=3, meta-catboostregressor__iterations=1597, meta-catboostregressor__l2_leaf_reg=2, meta-catboostregressor__learning_rate=0.0285559873338, score=-0.008291, total= 1.3min\n",
      "[CV] meta-catboostregressor__depth=3, meta-catboostregressor__iterations=1597, meta-catboostregressor__l2_leaf_reg=2, meta-catboostregressor__learning_rate=0.0285559873338 \n"
     ]
    },
    {
     "name": "stderr",
     "output_type": "stream",
     "text": [
      "C:\\ProgramData\\Anaconda3\\lib\\site-packages\\sklearn\\base.py:122: DeprecationWarning: Estimator CatBoostRegressor modifies parameters in __init__. This behavior is deprecated as of 0.18 and support for this behavior will be removed in 0.20.\n",
      "  % type(estimator).__name__, DeprecationWarning)\n"
     ]
    },
    {
     "name": "stdout",
     "output_type": "stream",
     "text": [
      "[CV]  meta-catboostregressor__depth=3, meta-catboostregressor__iterations=1597, meta-catboostregressor__l2_leaf_reg=2, meta-catboostregressor__learning_rate=0.0285559873338, score=-0.010341, total= 1.3min\n",
      "[CV] meta-catboostregressor__depth=5, meta-catboostregressor__iterations=1863, meta-catboostregressor__l2_leaf_reg=3, meta-catboostregressor__learning_rate=0.0818453605319 \n"
     ]
    },
    {
     "name": "stderr",
     "output_type": "stream",
     "text": [
      "C:\\ProgramData\\Anaconda3\\lib\\site-packages\\sklearn\\base.py:122: DeprecationWarning: Estimator CatBoostRegressor modifies parameters in __init__. This behavior is deprecated as of 0.18 and support for this behavior will be removed in 0.20.\n",
      "  % type(estimator).__name__, DeprecationWarning)\n"
     ]
    },
    {
     "name": "stdout",
     "output_type": "stream",
     "text": [
      "[CV]  meta-catboostregressor__depth=5, meta-catboostregressor__iterations=1863, meta-catboostregressor__l2_leaf_reg=3, meta-catboostregressor__learning_rate=0.0818453605319, score=-0.010321, total= 2.3min\n",
      "[CV] meta-catboostregressor__depth=5, meta-catboostregressor__iterations=1863, meta-catboostregressor__l2_leaf_reg=3, meta-catboostregressor__learning_rate=0.0818453605319 \n"
     ]
    },
    {
     "name": "stderr",
     "output_type": "stream",
     "text": [
      "C:\\ProgramData\\Anaconda3\\lib\\site-packages\\sklearn\\base.py:122: DeprecationWarning: Estimator CatBoostRegressor modifies parameters in __init__. This behavior is deprecated as of 0.18 and support for this behavior will be removed in 0.20.\n",
      "  % type(estimator).__name__, DeprecationWarning)\n"
     ]
    },
    {
     "name": "stdout",
     "output_type": "stream",
     "text": [
      "[CV]  meta-catboostregressor__depth=5, meta-catboostregressor__iterations=1863, meta-catboostregressor__l2_leaf_reg=3, meta-catboostregressor__learning_rate=0.0818453605319, score=-0.011438, total= 2.0min\n",
      "[CV] meta-catboostregressor__depth=5, meta-catboostregressor__iterations=1863, meta-catboostregressor__l2_leaf_reg=3, meta-catboostregressor__learning_rate=0.0818453605319 \n"
     ]
    },
    {
     "name": "stderr",
     "output_type": "stream",
     "text": [
      "C:\\ProgramData\\Anaconda3\\lib\\site-packages\\sklearn\\base.py:122: DeprecationWarning: Estimator CatBoostRegressor modifies parameters in __init__. This behavior is deprecated as of 0.18 and support for this behavior will be removed in 0.20.\n",
      "  % type(estimator).__name__, DeprecationWarning)\n"
     ]
    },
    {
     "name": "stdout",
     "output_type": "stream",
     "text": [
      "[CV]  meta-catboostregressor__depth=5, meta-catboostregressor__iterations=1863, meta-catboostregressor__l2_leaf_reg=3, meta-catboostregressor__learning_rate=0.0818453605319, score=-0.009852, total= 2.5min\n",
      "[CV] meta-catboostregressor__depth=5, meta-catboostregressor__iterations=1863, meta-catboostregressor__l2_leaf_reg=3, meta-catboostregressor__learning_rate=0.0818453605319 \n"
     ]
    },
    {
     "name": "stderr",
     "output_type": "stream",
     "text": [
      "C:\\ProgramData\\Anaconda3\\lib\\site-packages\\sklearn\\base.py:122: DeprecationWarning: Estimator CatBoostRegressor modifies parameters in __init__. This behavior is deprecated as of 0.18 and support for this behavior will be removed in 0.20.\n",
      "  % type(estimator).__name__, DeprecationWarning)\n"
     ]
    },
    {
     "name": "stdout",
     "output_type": "stream",
     "text": [
      "[CV]  meta-catboostregressor__depth=5, meta-catboostregressor__iterations=1863, meta-catboostregressor__l2_leaf_reg=3, meta-catboostregressor__learning_rate=0.0818453605319, score=-0.009299, total= 4.1min\n",
      "[CV] meta-catboostregressor__depth=5, meta-catboostregressor__iterations=1863, meta-catboostregressor__l2_leaf_reg=3, meta-catboostregressor__learning_rate=0.0818453605319 \n"
     ]
    },
    {
     "name": "stderr",
     "output_type": "stream",
     "text": [
      "C:\\ProgramData\\Anaconda3\\lib\\site-packages\\sklearn\\base.py:122: DeprecationWarning: Estimator CatBoostRegressor modifies parameters in __init__. This behavior is deprecated as of 0.18 and support for this behavior will be removed in 0.20.\n",
      "  % type(estimator).__name__, DeprecationWarning)\n"
     ]
    },
    {
     "name": "stdout",
     "output_type": "stream",
     "text": [
      "[CV]  meta-catboostregressor__depth=5, meta-catboostregressor__iterations=1863, meta-catboostregressor__l2_leaf_reg=3, meta-catboostregressor__learning_rate=0.0818453605319, score=-0.011086, total= 4.1min\n",
      "[CV] meta-catboostregressor__depth=4, meta-catboostregressor__iterations=1202, meta-catboostregressor__l2_leaf_reg=2, meta-catboostregressor__learning_rate=0.0294887148543 \n"
     ]
    },
    {
     "name": "stderr",
     "output_type": "stream",
     "text": [
      "C:\\ProgramData\\Anaconda3\\lib\\site-packages\\sklearn\\base.py:122: DeprecationWarning: Estimator CatBoostRegressor modifies parameters in __init__. This behavior is deprecated as of 0.18 and support for this behavior will be removed in 0.20.\n",
      "  % type(estimator).__name__, DeprecationWarning)\n"
     ]
    },
    {
     "name": "stdout",
     "output_type": "stream",
     "text": [
      "[CV]  meta-catboostregressor__depth=4, meta-catboostregressor__iterations=1202, meta-catboostregressor__l2_leaf_reg=2, meta-catboostregressor__learning_rate=0.0294887148543, score=-0.009637, total= 1.9min\n",
      "[CV] meta-catboostregressor__depth=4, meta-catboostregressor__iterations=1202, meta-catboostregressor__l2_leaf_reg=2, meta-catboostregressor__learning_rate=0.0294887148543 \n"
     ]
    },
    {
     "name": "stderr",
     "output_type": "stream",
     "text": [
      "C:\\ProgramData\\Anaconda3\\lib\\site-packages\\sklearn\\base.py:122: DeprecationWarning: Estimator CatBoostRegressor modifies parameters in __init__. This behavior is deprecated as of 0.18 and support for this behavior will be removed in 0.20.\n",
      "  % type(estimator).__name__, DeprecationWarning)\n"
     ]
    },
    {
     "name": "stdout",
     "output_type": "stream",
     "text": [
      "[CV]  meta-catboostregressor__depth=4, meta-catboostregressor__iterations=1202, meta-catboostregressor__l2_leaf_reg=2, meta-catboostregressor__learning_rate=0.0294887148543, score=-0.010323, total= 1.3min\n",
      "[CV] meta-catboostregressor__depth=4, meta-catboostregressor__iterations=1202, meta-catboostregressor__l2_leaf_reg=2, meta-catboostregressor__learning_rate=0.0294887148543 \n"
     ]
    },
    {
     "name": "stderr",
     "output_type": "stream",
     "text": [
      "C:\\ProgramData\\Anaconda3\\lib\\site-packages\\sklearn\\base.py:122: DeprecationWarning: Estimator CatBoostRegressor modifies parameters in __init__. This behavior is deprecated as of 0.18 and support for this behavior will be removed in 0.20.\n",
      "  % type(estimator).__name__, DeprecationWarning)\n"
     ]
    },
    {
     "name": "stdout",
     "output_type": "stream",
     "text": [
      "[CV]  meta-catboostregressor__depth=4, meta-catboostregressor__iterations=1202, meta-catboostregressor__l2_leaf_reg=2, meta-catboostregressor__learning_rate=0.0294887148543, score=-0.009084, total= 1.2min\n",
      "[CV] meta-catboostregressor__depth=4, meta-catboostregressor__iterations=1202, meta-catboostregressor__l2_leaf_reg=2, meta-catboostregressor__learning_rate=0.0294887148543 \n"
     ]
    },
    {
     "name": "stderr",
     "output_type": "stream",
     "text": [
      "C:\\ProgramData\\Anaconda3\\lib\\site-packages\\sklearn\\base.py:122: DeprecationWarning: Estimator CatBoostRegressor modifies parameters in __init__. This behavior is deprecated as of 0.18 and support for this behavior will be removed in 0.20.\n",
      "  % type(estimator).__name__, DeprecationWarning)\n"
     ]
    },
    {
     "name": "stdout",
     "output_type": "stream",
     "text": [
      "[CV]  meta-catboostregressor__depth=4, meta-catboostregressor__iterations=1202, meta-catboostregressor__l2_leaf_reg=2, meta-catboostregressor__learning_rate=0.0294887148543, score=-0.008233, total= 1.3min\n",
      "[CV] meta-catboostregressor__depth=4, meta-catboostregressor__iterations=1202, meta-catboostregressor__l2_leaf_reg=2, meta-catboostregressor__learning_rate=0.0294887148543 \n"
     ]
    },
    {
     "name": "stderr",
     "output_type": "stream",
     "text": [
      "C:\\ProgramData\\Anaconda3\\lib\\site-packages\\sklearn\\base.py:122: DeprecationWarning: Estimator CatBoostRegressor modifies parameters in __init__. This behavior is deprecated as of 0.18 and support for this behavior will be removed in 0.20.\n",
      "  % type(estimator).__name__, DeprecationWarning)\n"
     ]
    },
    {
     "name": "stdout",
     "output_type": "stream",
     "text": [
      "[CV]  meta-catboostregressor__depth=4, meta-catboostregressor__iterations=1202, meta-catboostregressor__l2_leaf_reg=2, meta-catboostregressor__learning_rate=0.0294887148543, score=-0.010278, total= 1.3min\n",
      "[CV] meta-catboostregressor__depth=3, meta-catboostregressor__iterations=1351, meta-catboostregressor__l2_leaf_reg=2, meta-catboostregressor__learning_rate=0.0406950298702 \n"
     ]
    },
    {
     "name": "stderr",
     "output_type": "stream",
     "text": [
      "C:\\ProgramData\\Anaconda3\\lib\\site-packages\\sklearn\\base.py:122: DeprecationWarning: Estimator CatBoostRegressor modifies parameters in __init__. This behavior is deprecated as of 0.18 and support for this behavior will be removed in 0.20.\n",
      "  % type(estimator).__name__, DeprecationWarning)\n"
     ]
    },
    {
     "name": "stdout",
     "output_type": "stream",
     "text": [
      "[CV]  meta-catboostregressor__depth=3, meta-catboostregressor__iterations=1351, meta-catboostregressor__l2_leaf_reg=2, meta-catboostregressor__learning_rate=0.0406950298702, score=-0.010090, total= 2.6min\n",
      "[CV] meta-catboostregressor__depth=3, meta-catboostregressor__iterations=1351, meta-catboostregressor__l2_leaf_reg=2, meta-catboostregressor__learning_rate=0.0406950298702 \n"
     ]
    },
    {
     "name": "stderr",
     "output_type": "stream",
     "text": [
      "C:\\ProgramData\\Anaconda3\\lib\\site-packages\\sklearn\\base.py:122: DeprecationWarning: Estimator CatBoostRegressor modifies parameters in __init__. This behavior is deprecated as of 0.18 and support for this behavior will be removed in 0.20.\n",
      "  % type(estimator).__name__, DeprecationWarning)\n"
     ]
    },
    {
     "name": "stdout",
     "output_type": "stream",
     "text": [
      "[CV]  meta-catboostregressor__depth=3, meta-catboostregressor__iterations=1351, meta-catboostregressor__l2_leaf_reg=2, meta-catboostregressor__learning_rate=0.0406950298702, score=-0.009966, total= 1.3min\n",
      "[CV] meta-catboostregressor__depth=3, meta-catboostregressor__iterations=1351, meta-catboostregressor__l2_leaf_reg=2, meta-catboostregressor__learning_rate=0.0406950298702 \n"
     ]
    },
    {
     "name": "stderr",
     "output_type": "stream",
     "text": [
      "C:\\ProgramData\\Anaconda3\\lib\\site-packages\\sklearn\\base.py:122: DeprecationWarning: Estimator CatBoostRegressor modifies parameters in __init__. This behavior is deprecated as of 0.18 and support for this behavior will be removed in 0.20.\n",
      "  % type(estimator).__name__, DeprecationWarning)\n"
     ]
    },
    {
     "name": "stdout",
     "output_type": "stream",
     "text": [
      "[CV]  meta-catboostregressor__depth=3, meta-catboostregressor__iterations=1351, meta-catboostregressor__l2_leaf_reg=2, meta-catboostregressor__learning_rate=0.0406950298702, score=-0.008935, total= 1.4min\n",
      "[CV] meta-catboostregressor__depth=3, meta-catboostregressor__iterations=1351, meta-catboostregressor__l2_leaf_reg=2, meta-catboostregressor__learning_rate=0.0406950298702 \n"
     ]
    },
    {
     "name": "stderr",
     "output_type": "stream",
     "text": [
      "C:\\ProgramData\\Anaconda3\\lib\\site-packages\\sklearn\\base.py:122: DeprecationWarning: Estimator CatBoostRegressor modifies parameters in __init__. This behavior is deprecated as of 0.18 and support for this behavior will be removed in 0.20.\n",
      "  % type(estimator).__name__, DeprecationWarning)\n"
     ]
    },
    {
     "name": "stdout",
     "output_type": "stream",
     "text": [
      "[CV]  meta-catboostregressor__depth=3, meta-catboostregressor__iterations=1351, meta-catboostregressor__l2_leaf_reg=2, meta-catboostregressor__learning_rate=0.0406950298702, score=-0.008595, total= 1.3min\n",
      "[CV] meta-catboostregressor__depth=3, meta-catboostregressor__iterations=1351, meta-catboostregressor__l2_leaf_reg=2, meta-catboostregressor__learning_rate=0.0406950298702 \n"
     ]
    },
    {
     "name": "stderr",
     "output_type": "stream",
     "text": [
      "C:\\ProgramData\\Anaconda3\\lib\\site-packages\\sklearn\\base.py:122: DeprecationWarning: Estimator CatBoostRegressor modifies parameters in __init__. This behavior is deprecated as of 0.18 and support for this behavior will be removed in 0.20.\n",
      "  % type(estimator).__name__, DeprecationWarning)\n"
     ]
    },
    {
     "name": "stdout",
     "output_type": "stream",
     "text": [
      "[CV]  meta-catboostregressor__depth=3, meta-catboostregressor__iterations=1351, meta-catboostregressor__l2_leaf_reg=2, meta-catboostregressor__learning_rate=0.0406950298702, score=-0.010586, total= 1.1min\n",
      "[CV] meta-catboostregressor__depth=2, meta-catboostregressor__iterations=1820, meta-catboostregressor__l2_leaf_reg=3, meta-catboostregressor__learning_rate=0.0328639255866 \n"
     ]
    },
    {
     "name": "stderr",
     "output_type": "stream",
     "text": [
      "C:\\ProgramData\\Anaconda3\\lib\\site-packages\\sklearn\\base.py:122: DeprecationWarning: Estimator CatBoostRegressor modifies parameters in __init__. This behavior is deprecated as of 0.18 and support for this behavior will be removed in 0.20.\n",
      "  % type(estimator).__name__, DeprecationWarning)\n"
     ]
    },
    {
     "name": "stdout",
     "output_type": "stream",
     "text": [
      "[CV]  meta-catboostregressor__depth=2, meta-catboostregressor__iterations=1820, meta-catboostregressor__l2_leaf_reg=3, meta-catboostregressor__learning_rate=0.0328639255866, score=-0.009553, total= 1.1min\n",
      "[CV] meta-catboostregressor__depth=2, meta-catboostregressor__iterations=1820, meta-catboostregressor__l2_leaf_reg=3, meta-catboostregressor__learning_rate=0.0328639255866 \n"
     ]
    },
    {
     "name": "stderr",
     "output_type": "stream",
     "text": [
      "C:\\ProgramData\\Anaconda3\\lib\\site-packages\\sklearn\\base.py:122: DeprecationWarning: Estimator CatBoostRegressor modifies parameters in __init__. This behavior is deprecated as of 0.18 and support for this behavior will be removed in 0.20.\n",
      "  % type(estimator).__name__, DeprecationWarning)\n"
     ]
    },
    {
     "name": "stdout",
     "output_type": "stream",
     "text": [
      "[CV]  meta-catboostregressor__depth=2, meta-catboostregressor__iterations=1820, meta-catboostregressor__l2_leaf_reg=3, meta-catboostregressor__learning_rate=0.0328639255866, score=-0.009518, total= 1.1min\n",
      "[CV] meta-catboostregressor__depth=2, meta-catboostregressor__iterations=1820, meta-catboostregressor__l2_leaf_reg=3, meta-catboostregressor__learning_rate=0.0328639255866 \n"
     ]
    },
    {
     "name": "stderr",
     "output_type": "stream",
     "text": [
      "C:\\ProgramData\\Anaconda3\\lib\\site-packages\\sklearn\\base.py:122: DeprecationWarning: Estimator CatBoostRegressor modifies parameters in __init__. This behavior is deprecated as of 0.18 and support for this behavior will be removed in 0.20.\n",
      "  % type(estimator).__name__, DeprecationWarning)\n"
     ]
    },
    {
     "name": "stdout",
     "output_type": "stream",
     "text": [
      "[CV]  meta-catboostregressor__depth=2, meta-catboostregressor__iterations=1820, meta-catboostregressor__l2_leaf_reg=3, meta-catboostregressor__learning_rate=0.0328639255866, score=-0.008671, total= 1.1min\n",
      "[CV] meta-catboostregressor__depth=2, meta-catboostregressor__iterations=1820, meta-catboostregressor__l2_leaf_reg=3, meta-catboostregressor__learning_rate=0.0328639255866 \n"
     ]
    },
    {
     "name": "stderr",
     "output_type": "stream",
     "text": [
      "C:\\ProgramData\\Anaconda3\\lib\\site-packages\\sklearn\\base.py:122: DeprecationWarning: Estimator CatBoostRegressor modifies parameters in __init__. This behavior is deprecated as of 0.18 and support for this behavior will be removed in 0.20.\n",
      "  % type(estimator).__name__, DeprecationWarning)\n"
     ]
    },
    {
     "name": "stdout",
     "output_type": "stream",
     "text": [
      "[CV]  meta-catboostregressor__depth=2, meta-catboostregressor__iterations=1820, meta-catboostregressor__l2_leaf_reg=3, meta-catboostregressor__learning_rate=0.0328639255866, score=-0.008414, total= 1.1min\n",
      "[CV] meta-catboostregressor__depth=2, meta-catboostregressor__iterations=1820, meta-catboostregressor__l2_leaf_reg=3, meta-catboostregressor__learning_rate=0.0328639255866 \n"
     ]
    },
    {
     "name": "stderr",
     "output_type": "stream",
     "text": [
      "C:\\ProgramData\\Anaconda3\\lib\\site-packages\\sklearn\\base.py:122: DeprecationWarning: Estimator CatBoostRegressor modifies parameters in __init__. This behavior is deprecated as of 0.18 and support for this behavior will be removed in 0.20.\n",
      "  % type(estimator).__name__, DeprecationWarning)\n"
     ]
    },
    {
     "name": "stdout",
     "output_type": "stream",
     "text": [
      "[CV]  meta-catboostregressor__depth=2, meta-catboostregressor__iterations=1820, meta-catboostregressor__l2_leaf_reg=3, meta-catboostregressor__learning_rate=0.0328639255866, score=-0.009365, total= 1.1min\n"
     ]
    },
    {
     "name": "stderr",
     "output_type": "stream",
     "text": [
      "[Parallel(n_jobs=1)]: Done  50 out of  50 | elapsed: 63.8min finished\n",
      "C:\\ProgramData\\Anaconda3\\lib\\site-packages\\sklearn\\base.py:122: DeprecationWarning: Estimator CatBoostRegressor modifies parameters in __init__. This behavior is deprecated as of 0.18 and support for this behavior will be removed in 0.20.\n",
      "  % type(estimator).__name__, DeprecationWarning)\n"
     ]
    }
   ],
   "source": [
    "#Stacking via mlxtend\n",
    "#cbr=CatBoostRegressor(loss_function='RMSE', eval_metric='RMSE',logging_level='Silent')\n",
    "#    'rf':\n",
    "rf1=ensemble.RandomForestRegressor(verbose=False)\n",
    "rf2=ensemble.RandomForestRegressor(verbose=False)\n",
    "params_meta={\"meta-randomforestregressor__max_depth\": scipy.stats.randint(1,100), \n",
    "             'meta-randomforestregressor__n_estimators': scipy.stats.randint(1,400),\n",
    "             'meta-randomforestregressor__max_features':('log2','sqrt','auto'),\n",
    "             'meta-randomforestregressor__min_samples_split':scipy.stats.randint(2,5),\n",
    "             'meta-randomforestregressor__min_samples_leaf':scipy.stats.randint(1,5)}\n",
    "\n",
    "\n",
    "\n",
    "\n",
    "cb1=CatBoostRegressor(loss_function='RMSE', eval_metric='RMSE',logging_level='Silent')\n",
    "cb2=CatBoostRegressor(loss_function='RMSE', eval_metric='RMSE',logging_level='Silent')\n",
    "params_meta={\"meta-catboostregressor__depth\": scipy.stats.randint(1,6), \n",
    "             'meta-catboostregressor__iterations': scipy.stats.randint(100,2000),\n",
    "             'meta-catboostregressor__learning_rate':lognuniform(low=-2,high=-1,base=10,size=100),\n",
    "             'meta-catboostregressor__l2_leaf_reg': scipy.stats.randint(2,4)}\n",
    "\n",
    "#abc = SVR(kernel='rbf')\n",
    "\n",
    "\n",
    "\n",
    "\n",
    "#grid search\n",
    "#params_meta = {'meta-svr__C': [0.1, 1.0, 10.0, 100.0],\n",
    "#          'meta-svr__gamma': [0.1, 1.0, 10.0]}\n",
    "\n",
    "#randomized search\n",
    "#params_meta = {'meta-svr__C': lognuniform(low=-2,high=2,base=10,size=100),\n",
    "#               'meta-svr__gamma': lognuniform(low=-2,high=2,base=10,size=100)}\n",
    "\n",
    "#{'meta-cbr__depth': scipy.stats.randint(1,6)}\n",
    "             \n",
    "             \n",
    "             #'meta-meta_learner__iterations': scipy.stats.randint(100,2000),\n",
    "             #'meta-meta_learner__learning_rate':lognuniform(low=-2,high=-1,base=10,size=100),\n",
    "             #'meta-meta_learner__l2_leaf_reg': scipy.stats.randint(2,4)}\n",
    "            \n",
    "from mlxtend.regressor import StackingRegressor\n",
    "\n",
    "learners1=[g[0].best_estimator_ for g in results.values()]\n",
    "learners2=[g[1].best_estimator_ for g in results.values()]\n",
    "learners=[learners1,learners2]\n",
    "\n",
    "stregr = [StackingRegressor(regressors=learners1,meta_regressor=cb1),\n",
    "          StackingRegressor(regressors=learners2,meta_regressor=cb2)]\n",
    "\n",
    "\n",
    "\n",
    "\n",
    "results2=[]\n",
    "for s,y in zip(stregr,y_col):\n",
    "    print(y)\n",
    "    y_train=df_total_train_eval[y]\n",
    "    grid=RandomizedSearchCV(s,param_distributions=params_meta, n_iter=10,cv=3,verbose=10,scoring=\"neg_mean_squared_error\" )\n",
    "    #grid=GridSearchCV(s,param_grid=params_meta, cv=5,verbose=10,scoring=\"neg_mean_squared_error\" )\n",
    "    grid.fit(X_train, y_train)\n",
    "    results2.append(grid)\n",
    "\n"
   ]
  },
  {
   "cell_type": "code",
   "execution_count": 22,
   "metadata": {
    "collapsed": true
   },
   "outputs": [],
   "source": [
    "import pickle\n",
    "pickle.dump(results2, open( \"results2_meta_10iter.pickle\", \"wb\" ))"
   ]
  },
  {
   "cell_type": "code",
   "execution_count": 24,
   "metadata": {},
   "outputs": [
    {
     "name": "stdout",
     "output_type": "stream",
     "text": [
      "{'meta-catboostregressor__depth': 5, 'meta-catboostregressor__iterations': 297, 'meta-catboostregressor__l2_leaf_reg': 3, 'meta-catboostregressor__learning_rate': 0.020455552446341726}\n",
      "{'meta-catboostregressor__depth': 3, 'meta-catboostregressor__iterations': 576, 'meta-catboostregressor__l2_leaf_reg': 3, 'meta-catboostregressor__learning_rate': 0.015048907206594003}\n",
      "0.0621260880417 0.0335057823692 0.0907463937142\n"
     ]
    }
   ],
   "source": [
    "print(results2[0].best_params_)\n",
    "print(results2[1].best_params_)\n",
    "print((np.sqrt(-results2[0].best_score_)+np.sqrt(-results2[1].best_score_))/2,\n",
    "          np.sqrt(-results2[0].best_score_),np.sqrt(-results2[1].best_score_))"
   ]
  },
  {
   "cell_type": "code",
   "execution_count": 25,
   "metadata": {},
   "outputs": [
    {
     "name": "stdout",
     "output_type": "stream",
     "text": [
      "E StackingRegressor(meta_regressor=<catboost.core.CatBoostRegressor object at 0x00000135CFC0D588>,\n",
      "         regressors=[KNeighborsRegressor(algorithm='auto', leaf_size=30, metric='minkowski',\n",
      "          metric_params=None, n_jobs=1, n_neighbors=5, p=2,\n",
      "          weights='uniform'), SVR(C=0.11206449421619946, cache_size=200, coef0=0.0, degree=3,\n",
      "  epsilon=0.017254490142290496, gamma='auto', kernel='linear',...e, learning_rate=0.090261933039442271,\n",
      "         loss='square', n_estimators=313, random_state=None)],\n",
      "         store_train_meta_features=False, verbose=0)\n",
      "shapes: (2400, 21) (2400,)\n"
     ]
    },
    {
     "name": "stderr",
     "output_type": "stream",
     "text": [
      "C:\\ProgramData\\Anaconda3\\lib\\site-packages\\sklearn\\base.py:122: DeprecationWarning: Estimator CatBoostRegressor modifies parameters in __init__. This behavior is deprecated as of 0.18 and support for this behavior will be removed in 0.20.\n",
      "  % type(estimator).__name__, DeprecationWarning)\n"
     ]
    },
    {
     "name": "stdout",
     "output_type": "stream",
     "text": [
      "Eg StackingRegressor(meta_regressor=<catboost.core.CatBoostRegressor object at 0x00000135D4E1B6D8>,\n",
      "         regressors=[KNeighborsRegressor(algorithm='auto', leaf_size=30, metric='minkowski',\n",
      "          metric_params=None, n_jobs=1, n_neighbors=2, p=2,\n",
      "          weights='uniform'), SVR(C=0.0033228622244295914, cache_size=200, coef0=0.0, degree=3,\n",
      "  epsilon=0.020178772192372886, gamma='auto', kernel='linear...one, learning_rate=0.48442687574110221,\n",
      "         loss='square', n_estimators=21, random_state=None)],\n",
      "         store_train_meta_features=False, verbose=0)\n",
      "shapes: (2400, 21) (2400,)\n"
     ]
    },
    {
     "name": "stderr",
     "output_type": "stream",
     "text": [
      "C:\\ProgramData\\Anaconda3\\lib\\site-packages\\sklearn\\base.py:122: DeprecationWarning: Estimator CatBoostRegressor modifies parameters in __init__. This behavior is deprecated as of 0.18 and support for this behavior will be removed in 0.20.\n",
      "  % type(estimator).__name__, DeprecationWarning)\n"
     ]
    }
   ],
   "source": [
    "#write to csv\n",
    "%load_ext autoreload\n",
    "%aimport varie\n",
    "%autoreload 2\n",
    "#I use a different model for E and Eg\n",
    "varie.make_csv2(df_total_train_eval,pd.DataFrame(),df_total_test,\n",
    "#         (ensemble.RandomForestRegressor(max_depth= 11, max_features='log2', n_estimators= 55),\n",
    "#          ensemble.RandomForestRegressor(max_depth= 9, max_features='sqrt', n_estimators= 220)),\n",
    "            (stregr[0],stregr[1]),\n",
    "         y_col,'mlx.csv',drop=drop_col,columns=['id','E','Eg'],\n",
    "         new_column_names=['id','formation_energy_ev_natom' ,'bandgap_energy_ev'],change_col_names=True)"
   ]
  },
  {
   "cell_type": "code",
   "execution_count": 27,
   "metadata": {
    "scrolled": true
   },
   "outputs": [
    {
     "name": "stderr",
     "output_type": "stream",
     "text": [
      "[MLENS] backend: threading\n"
     ]
    },
    {
     "name": "stdout",
     "output_type": "stream",
     "text": [
      "E\n",
      "(2400, 21) (2400,)\n",
      "\n",
      "Fitting 2 layers\n",
      "Fit complete                        | 00:13:57\n",
      "\n",
      "Predicting 2 layers\n",
      "Predict complete                    | 00:00:04\n",
      "0.0277513309762\n",
      "Eg\n",
      "(2400, 21) (2400,)\n",
      "\n",
      "Fitting 2 layers\n",
      "Fit complete                        | 00:05:35\n",
      "\n",
      "Predicting 2 layers\n",
      "Predict complete                    | 00:00:04\n",
      "0.0790120302652\n"
     ]
    }
   ],
   "source": [
    "from mlens.ensemble import SuperLearner\n",
    "import mlens\n",
    "from mlens.model_selection import Evaluator\n",
    "from mlens.metrics import make_scorer\n",
    "from mlens.metrics import rmse\n",
    "\n",
    "from mlens.metrics import make_scorer\n",
    "rmse_scorer = make_scorer(rmse, greater_is_better=False)\n",
    "\n",
    "\n",
    "\n",
    "learners1=[g[0].best_estimator_ for g in results.values()]\n",
    "learners2=[g[1].best_estimator_ for g in results.values()]\n",
    "learners=[learners1,learners2]\n",
    "\n",
    "# Instantiate the ensemble with 10 folds\n",
    "#meta_learner1=CatBoostRegressor(iterations=1200,\n",
    "#                            learning_rate=0.03,\n",
    "#                            depth=4,\n",
    "#                            loss_function='RMSE',\n",
    "#                            eval_metric='RMSE',\n",
    "##                            random_seed=SEED,\n",
    "#                            od_type='Iter',\n",
    "#                            od_wait=50,verbose=False)\n",
    "\n",
    "#import copy\n",
    "#meta_learner2=copy.deepcopy(meta_learner1)\n",
    "\n",
    "#sl1 = SuperLearner(\n",
    "#    folds=5,\n",
    "#    verbose=True,\n",
    "##    scorer=mlens.metrics.rmse\n",
    "#)\n",
    "#sl2 = SuperLearner(\n",
    "#    folds=5,\n",
    "#    verbose=True,\n",
    "#    scorer=mlens.metrics.rmse\n",
    "#)\n",
    "\n",
    "# Add the base learners and the meta learner\n",
    "#sl1.add(learners1) \n",
    "#sl1.add_meta(meta_learner1)\n",
    "#sl2.add(learners2) \n",
    "#sl2.add_meta(meta_learner2)\n",
    "\n",
    "#sls=[sl1,sl2]\n",
    "#evaluator\n",
    "#evl = Evaluator(make_scorer(mlens.metrics.rmse), cv=5, shuffle=False)\n",
    "sls=[]\n",
    "for learner,y in zip(learners,y_col):\n",
    "    print(y)\n",
    "    y_train=df_total_train_eval[y].values\n",
    "    print(X_train.shape,y_train.shape)\n",
    "    \n",
    "    #evl.fit(X_train, y_train, sl, {}, n_iter=1)\n",
    "    from mlens.ensemble import SuperLearner\n",
    "    \n",
    "    sl = SuperLearner(\n",
    "    folds=5,\n",
    "    verbose=True,\n",
    "    #    scorer=mlens.metrics.rmse\n",
    "    )\n",
    "    \n",
    "    meta_learner=CatBoostRegressor(iterations=1200,\n",
    "                            learning_rate=0.03,\n",
    "                            depth=4,\n",
    "                            loss_function='RMSE',\n",
    "                            eval_metric='RMSE',\n",
    "#                            random_seed=SEED,\n",
    "                            od_type='Iter',\n",
    "                            od_wait=50,verbose=False)\n",
    "    \n",
    "    sl.add(learner) \n",
    "    sl.add_meta(meta_learner)\n",
    "    # Train the ensemble\n",
    "    sl.fit(X_train, y_train)\n",
    "    preds = sl.predict(X_train)\n",
    "    print(rmse(y_train, preds))\n",
    "    sls.append(sl)\n",
    "#    results.append(mlens.metrics.rmse(y_train, ensemble.predict(X_train)),\n",
    "#                          evl.summary['test_score_mean']['superlearner'],\n",
    "#                          evl.summary['test_score_std']['superlearner'],\n",
    "#                          mlens.metrics.rmse(y_test, ensemble.predict(X_test)))\n",
    "\n",
    "#    print_scores(scores_df, 'mlens')"
   ]
  },
  {
   "cell_type": "code",
   "execution_count": 36,
   "metadata": {
    "scrolled": false
   },
   "outputs": [
    {
     "name": "stdout",
     "output_type": "stream",
     "text": [
      "The autoreload extension is already loaded. To reload it, use:\n",
      "  %reload_ext autoreload\n",
      "E SuperLearner(array_check=2, backend=None, folds=5,\n",
      "       layers=[Layer(backend='threading', dtype=<class 'numpy.float32'>, n_jobs=-1,\n",
      "   name='layer-1', propagate_features=None, raise_on_exception=True,\n",
      "   random_state=None, shuffle=False,\n",
      "   stack=[Group(backend='threading', dtype=<class 'numpy.float32'>,\n",
      "   indexer=FoldIndex(X=None, folds=5, raise_on_ex...rer=None)],\n",
      "   n_jobs=-1, name='group-1', raise_on_exception=True, transformers=[])],\n",
      "   verbose=0)],\n",
      "       model_selection=False, n_jobs=None, raise_on_exception=True,\n",
      "       random_state=None, sample_size=20, scorer=None, shuffle=False,\n",
      "       verbose=True)\n",
      "shapes: (2400, 21) (2400,)\n",
      "\n",
      "Fitting 2 layers\n"
     ]
    },
    {
     "name": "stderr",
     "output_type": "stream",
     "text": [
      "C:\\ProgramData\\Anaconda3\\lib\\site-packages\\sklearn\\linear_model\\coordinate_descent.py:484: ConvergenceWarning: Objective did not converge. You might want to increase the number of iterations. Fitting data with very small alpha may cause precision problems.\n",
      "  ConvergenceWarning)\n",
      "C:\\ProgramData\\Anaconda3\\lib\\site-packages\\sklearn\\linear_model\\coordinate_descent.py:484: ConvergenceWarning: Objective did not converge. You might want to increase the number of iterations. Fitting data with very small alpha may cause precision problems.\n",
      "  ConvergenceWarning)\n",
      "C:\\ProgramData\\Anaconda3\\lib\\site-packages\\sklearn\\linear_model\\coordinate_descent.py:484: ConvergenceWarning: Objective did not converge. You might want to increase the number of iterations. Fitting data with very small alpha may cause precision problems.\n",
      "  ConvergenceWarning)\n",
      "C:\\ProgramData\\Anaconda3\\lib\\site-packages\\sklearn\\linear_model\\coordinate_descent.py:484: ConvergenceWarning: Objective did not converge. You might want to increase the number of iterations. Fitting data with very small alpha may cause precision problems.\n",
      "  ConvergenceWarning)\n",
      "C:\\ProgramData\\Anaconda3\\lib\\site-packages\\sklearn\\linear_model\\coordinate_descent.py:484: ConvergenceWarning: Objective did not converge. You might want to increase the number of iterations. Fitting data with very small alpha may cause precision problems.\n",
      "  ConvergenceWarning)\n",
      "C:\\ProgramData\\Anaconda3\\lib\\site-packages\\sklearn\\linear_model\\coordinate_descent.py:484: ConvergenceWarning: Objective did not converge. You might want to increase the number of iterations. Fitting data with very small alpha may cause precision problems.\n",
      "  ConvergenceWarning)\n"
     ]
    },
    {
     "name": "stdout",
     "output_type": "stream",
     "text": [
      "Fit complete                        | 00:14:50\n",
      "\n",
      "Predicting 2 layers\n",
      "Predict complete                    | 00:00:04\n",
      "Eg SuperLearner(array_check=2, backend=None, folds=5,\n",
      "       layers=[Layer(backend='threading', dtype=<class 'numpy.float32'>, n_jobs=-1,\n",
      "   name='layer-1', propagate_features=None, raise_on_exception=True,\n",
      "   random_state=None, shuffle=False,\n",
      "   stack=[Group(backend='threading', dtype=<class 'numpy.float32'>,\n",
      "   indexer=FoldIndex(X=None, folds=5, raise_on_ex...rer=None)],\n",
      "   n_jobs=-1, name='group-3', raise_on_exception=True, transformers=[])],\n",
      "   verbose=0)],\n",
      "       model_selection=False, n_jobs=None, raise_on_exception=True,\n",
      "       random_state=None, sample_size=20, scorer=None, shuffle=False,\n",
      "       verbose=True)\n",
      "shapes: (2400, 21) (2400,)\n",
      "\n",
      "Fitting 2 layers\n"
     ]
    },
    {
     "name": "stderr",
     "output_type": "stream",
     "text": [
      "../kaggle_varie\\varie.py:172: SettingWithCopyWarning: \n",
      "A value is trying to be set on a copy of a slice from a DataFrame.\n",
      "Try using .loc[row_indexer,col_indexer] = value instead\n",
      "\n",
      "See the caveats in the documentation: http://pandas.pydata.org/pandas-docs/stable/indexing.html#indexing-view-versus-copy\n",
      "  df_test[y_]=y_pred\n",
      "C:\\ProgramData\\Anaconda3\\lib\\site-packages\\sklearn\\linear_model\\coordinate_descent.py:484: ConvergenceWarning: Objective did not converge. You might want to increase the number of iterations. Fitting data with very small alpha may cause precision problems.\n",
      "  ConvergenceWarning)\n",
      "C:\\ProgramData\\Anaconda3\\lib\\site-packages\\sklearn\\linear_model\\coordinate_descent.py:484: ConvergenceWarning: Objective did not converge. You might want to increase the number of iterations. Fitting data with very small alpha may cause precision problems.\n",
      "  ConvergenceWarning)\n",
      "C:\\ProgramData\\Anaconda3\\lib\\site-packages\\sklearn\\linear_model\\coordinate_descent.py:484: ConvergenceWarning: Objective did not converge. You might want to increase the number of iterations. Fitting data with very small alpha may cause precision problems.\n",
      "  ConvergenceWarning)\n",
      "C:\\ProgramData\\Anaconda3\\lib\\site-packages\\sklearn\\linear_model\\coordinate_descent.py:484: ConvergenceWarning: Objective did not converge. You might want to increase the number of iterations. Fitting data with very small alpha may cause precision problems.\n",
      "  ConvergenceWarning)\n",
      "C:\\ProgramData\\Anaconda3\\lib\\site-packages\\sklearn\\linear_model\\coordinate_descent.py:484: ConvergenceWarning: Objective did not converge. You might want to increase the number of iterations. Fitting data with very small alpha may cause precision problems.\n",
      "  ConvergenceWarning)\n",
      "C:\\ProgramData\\Anaconda3\\lib\\site-packages\\sklearn\\linear_model\\coordinate_descent.py:484: ConvergenceWarning: Objective did not converge. You might want to increase the number of iterations. Fitting data with very small alpha may cause precision problems.\n",
      "  ConvergenceWarning)\n",
      "C:\\ProgramData\\Anaconda3\\lib\\site-packages\\sklearn\\linear_model\\coordinate_descent.py:484: ConvergenceWarning: Objective did not converge. You might want to increase the number of iterations. Fitting data with very small alpha may cause precision problems.\n",
      "  ConvergenceWarning)\n",
      "C:\\ProgramData\\Anaconda3\\lib\\site-packages\\sklearn\\linear_model\\coordinate_descent.py:484: ConvergenceWarning: Objective did not converge. You might want to increase the number of iterations. Fitting data with very small alpha may cause precision problems.\n",
      "  ConvergenceWarning)\n",
      "C:\\ProgramData\\Anaconda3\\lib\\site-packages\\sklearn\\linear_model\\coordinate_descent.py:484: ConvergenceWarning: Objective did not converge. You might want to increase the number of iterations. Fitting data with very small alpha may cause precision problems.\n",
      "  ConvergenceWarning)\n"
     ]
    },
    {
     "name": "stdout",
     "output_type": "stream",
     "text": [
      "Fit complete                        | 00:06:41\n",
      "\n",
      "Predicting 2 layers\n",
      "Predict complete                    | 00:00:04\n"
     ]
    },
    {
     "name": "stderr",
     "output_type": "stream",
     "text": [
      "../kaggle_varie\\varie.py:172: SettingWithCopyWarning: \n",
      "A value is trying to be set on a copy of a slice from a DataFrame.\n",
      "Try using .loc[row_indexer,col_indexer] = value instead\n",
      "\n",
      "See the caveats in the documentation: http://pandas.pydata.org/pandas-docs/stable/indexing.html#indexing-view-versus-copy\n",
      "  df_test[y_]=y_pred\n"
     ]
    },
    {
     "ename": "NameError",
     "evalue": "name 'sl1' is not defined",
     "output_type": "error",
     "traceback": [
      "\u001b[1;31m---------------------------------------------------------------------------\u001b[0m",
      "\u001b[1;31mNameError\u001b[0m                                 Traceback (most recent call last)",
      "\u001b[1;32m<ipython-input-36-3e18f7ff4840>\u001b[0m in \u001b[0;36m<module>\u001b[1;34m()\u001b[0m\n\u001b[0;32m     13\u001b[0m \u001b[1;31m#         (ensemble.RandomForestRegressor(max_depth= 11, max_features='log2', n_estimators= 55),\u001b[0m\u001b[1;33m\u001b[0m\u001b[1;33m\u001b[0m\u001b[0m\n\u001b[0;32m     14\u001b[0m \u001b[1;31m#          ensemble.RandomForestRegressor(max_depth= 9, max_features='sqrt', n_estimators= 220)),\u001b[0m\u001b[1;33m\u001b[0m\u001b[1;33m\u001b[0m\u001b[0m\n\u001b[1;32m---> 15\u001b[1;33m             \u001b[1;33m(\u001b[0m\u001b[0msl1\u001b[0m\u001b[1;33m,\u001b[0m\u001b[0msl2\u001b[0m\u001b[1;33m)\u001b[0m\u001b[1;33m,\u001b[0m\u001b[1;33m\u001b[0m\u001b[0m\n\u001b[0m\u001b[0;32m     16\u001b[0m          \u001b[0my_col\u001b[0m\u001b[1;33m,\u001b[0m\u001b[1;34m'sl3.csv'\u001b[0m\u001b[1;33m,\u001b[0m\u001b[0mdrop\u001b[0m\u001b[1;33m=\u001b[0m\u001b[0mdrop_col\u001b[0m\u001b[1;33m,\u001b[0m\u001b[0mcolumns\u001b[0m\u001b[1;33m=\u001b[0m\u001b[1;33m[\u001b[0m\u001b[1;34m'id'\u001b[0m\u001b[1;33m,\u001b[0m\u001b[1;34m'E'\u001b[0m\u001b[1;33m,\u001b[0m\u001b[1;34m'Eg'\u001b[0m\u001b[1;33m]\u001b[0m\u001b[1;33m,\u001b[0m\u001b[1;33m\u001b[0m\u001b[0m\n\u001b[0;32m     17\u001b[0m          new_column_names=['id','formation_energy_ev_natom' ,'bandgap_energy_ev'],change_col_names=True,fit=False)\n",
      "\u001b[1;31mNameError\u001b[0m: name 'sl1' is not defined"
     ]
    }
   ],
   "source": [
    "#write to csv\n",
    "%load_ext autoreload\n",
    "%aimport varie\n",
    "%autoreload 2\n",
    "varie.make_csv2(df_total_train_eval,pd.DataFrame(),df_total_test,\n",
    "#         (ensemble.RandomForestRegressor(max_depth= 11, max_features='log2', n_estimators= 55),\n",
    "#          ensemble.RandomForestRegressor(max_depth= 9, max_features='sqrt', n_estimators= 220)),\n",
    "            sls,\n",
    "         y_col,'sl4.csv',drop=drop_col,columns=['id','E','Eg'],\n",
    "         new_column_names=['id','formation_energy_ev_natom' ,'bandgap_energy_ev'],change_col_names=True)\n",
    "#I use a different model for E and Eg\n",
    "#varie.make_csv2(df_total_train_eval,pd.DataFrame(),df_total_test,\n",
    "#         (ensemble.RandomForestRegressor(max_depth= 11, max_features='log2', n_estimators= 55),\n",
    "#          ensemble.RandomForestRegressor(max_depth= 9, max_features='sqrt', n_estimators= 220)),\n",
    "#            (sl1,sl2),\n",
    "#         y_col,'sl3.csv',drop=drop_col,columns=['id','E','Eg'],\n",
    "#         new_column_names=['id','formation_energy_ev_natom' ,'bandgap_energy_ev'],change_col_names=True,fit=False)"
   ]
  },
  {
   "cell_type": "code",
   "execution_count": null,
   "metadata": {},
   "outputs": [
    {
     "name": "stdout",
     "output_type": "stream",
     "text": [
      "2 1430 0.0763640155591\n",
      "E\n",
      "\n",
      "Fitting 2 layers\n"
     ]
    },
    {
     "name": "stderr",
     "output_type": "stream",
     "text": [
      "C:\\ProgramData\\Anaconda3\\lib\\site-packages\\sklearn\\linear_model\\coordinate_descent.py:484: ConvergenceWarning: Objective did not converge. You might want to increase the number of iterations. Fitting data with very small alpha may cause precision problems.\n",
      "  ConvergenceWarning)\n",
      "C:\\ProgramData\\Anaconda3\\lib\\site-packages\\sklearn\\linear_model\\coordinate_descent.py:484: ConvergenceWarning: Objective did not converge. You might want to increase the number of iterations. Fitting data with very small alpha may cause precision problems.\n",
      "  ConvergenceWarning)\n",
      "C:\\ProgramData\\Anaconda3\\lib\\site-packages\\sklearn\\linear_model\\coordinate_descent.py:484: ConvergenceWarning: Objective did not converge. You might want to increase the number of iterations. Fitting data with very small alpha may cause precision problems.\n",
      "  ConvergenceWarning)\n",
      "C:\\ProgramData\\Anaconda3\\lib\\site-packages\\sklearn\\linear_model\\coordinate_descent.py:484: ConvergenceWarning: Objective did not converge. You might want to increase the number of iterations. Fitting data with very small alpha may cause precision problems.\n",
      "  ConvergenceWarning)\n",
      "C:\\ProgramData\\Anaconda3\\lib\\site-packages\\sklearn\\linear_model\\coordinate_descent.py:484: ConvergenceWarning: Objective did not converge. You might want to increase the number of iterations. Fitting data with very small alpha may cause precision problems.\n",
      "  ConvergenceWarning)\n",
      "C:\\ProgramData\\Anaconda3\\lib\\site-packages\\sklearn\\linear_model\\coordinate_descent.py:484: ConvergenceWarning: Objective did not converge. You might want to increase the number of iterations. Fitting data with very small alpha may cause precision problems.\n",
      "  ConvergenceWarning)\n",
      "C:\\ProgramData\\Anaconda3\\lib\\site-packages\\sklearn\\linear_model\\coordinate_descent.py:484: ConvergenceWarning: Objective did not converge. You might want to increase the number of iterations. Fitting data with very small alpha may cause precision problems.\n",
      "  ConvergenceWarning)\n",
      "C:\\ProgramData\\Anaconda3\\lib\\site-packages\\sklearn\\linear_model\\coordinate_descent.py:484: ConvergenceWarning: Objective did not converge. You might want to increase the number of iterations. Fitting data with very small alpha may cause precision problems.\n",
      "  ConvergenceWarning)\n",
      "C:\\ProgramData\\Anaconda3\\lib\\site-packages\\sklearn\\linear_model\\coordinate_descent.py:484: ConvergenceWarning: Objective did not converge. You might want to increase the number of iterations. Fitting data with very small alpha may cause precision problems.\n",
      "  ConvergenceWarning)\n",
      "C:\\ProgramData\\Anaconda3\\lib\\site-packages\\sklearn\\linear_model\\coordinate_descent.py:484: ConvergenceWarning: Objective did not converge. You might want to increase the number of iterations. Fitting data with very small alpha may cause precision problems.\n",
      "  ConvergenceWarning)\n",
      "C:\\ProgramData\\Anaconda3\\lib\\site-packages\\sklearn\\linear_model\\coordinate_descent.py:484: ConvergenceWarning: Objective did not converge. You might want to increase the number of iterations. Fitting data with very small alpha may cause precision problems.\n",
      "  ConvergenceWarning)\n"
     ]
    }
   ],
   "source": [
    "## from mlens.ensemble import SuperLearner\n",
    "import mlens\n",
    "from mlens.model_selection import Evaluator\n",
    "from mlens.metrics import make_scorer\n",
    "from mlens.metrics import rmse\n",
    "\n",
    "\n",
    "\n",
    "learners1=[grid[0].best_estimator_ for grid in results.values()]\n",
    "learners2=[grid[1].best_estimator_ for grid in results.values()]\n",
    "\n",
    "grid_sl=[]\n",
    "\n",
    "tries=3\n",
    "#grid search for the meta learner         \n",
    "for depth, iterations, learning_rate in zip (scipy.stats.randint(1,5).rvs(tries),\n",
    "                                              scipy.stats.randint(1000,2000).rvs(tries),    \n",
    "                                              lognuniform(low=-2,high=-1,base=10,size=tries)):\n",
    "    print(depth, iterations, learning_rate)\n",
    "    \n",
    "\n",
    "    # Instantiate the ensemble with 10 folds\n",
    "    meta_learner1=CatBoostRegressor(iterations=iterations,\n",
    "                                learning_rate=learning_rate,\n",
    "                                depth=depth,\n",
    "                                loss_function='RMSE',\n",
    "                                eval_metric='RMSE',\n",
    "    #                            random_seed=SEED,\n",
    "                                od_type='Iter',\n",
    "                                od_wait=50,verbose=False)\n",
    "\n",
    "    import copy\n",
    "    meta_learner2=copy.deepcopy(meta_learner1)\n",
    "\n",
    "    sl1 = SuperLearner(\n",
    "        folds=5,\n",
    "        verbose=True,\n",
    "        scorer=mlens.metrics.rmse\n",
    "    )\n",
    "    sl2 = SuperLearner(\n",
    "        folds=5,\n",
    "        verbose=True,\n",
    "        scorer=mlens.metrics.rmse\n",
    "    )\n",
    "\n",
    "    # Add the base learners and the meta learner\n",
    "    sl1.add(learners1) \n",
    "    sl1.add_meta(meta_learner1)\n",
    "    sl2.add(learners2) \n",
    "    sl2.add_meta(meta_learner2)\n",
    "\n",
    "\n",
    "\n",
    "    sls=[sl1,sl2]\n",
    "    #evaluator\n",
    "    #evl = Evaluator(make_scorer(mlens.metrics.rmse), cv=5, shuffle=False)\n",
    "\n",
    "    for i,y in enumerate(y_col):\n",
    "        print(y)\n",
    "        y_train=df_total_train_eval[y].values\n",
    "        #print(X_train.shape,y_train.shape)\n",
    "\n",
    "        #evl.fit(X_train, y_train, sl, {}, n_iter=1)\n",
    "\n",
    "        # Train the ensemble\n",
    "        sls[i].fit(X_train, y_train)\n",
    "        preds = sls[i].predict(X_train)\n",
    "        print(rmse(y_train, preds))\n",
    "        \n",
    "        grid_sl.append(depth, iterations, learning_rate,sls)\n",
    "        \n",
    "        \n",
    "    #    results.append(mlens.metrics.rmse(y_train, ensemble.predict(X_train)),\n",
    "    #                          evl.summary['test_score_mean']['superlearner'],\n",
    "    #                          evl.summary['test_score_std']['superlearner'],\n",
    "    #                          mlens.metrics.rmse(y_test, ensemble.predict(X_test)))\n",
    "\n",
    "    #    print_scores(scores_df, 'mlens')"
   ]
  },
  {
   "cell_type": "code",
   "execution_count": null,
   "metadata": {
    "collapsed": true
   },
   "outputs": [],
   "source": [
    "in_layer = SuperLearner(model_selection=True)\n",
    "in_layer.add(base_learners)\n",
    "\n",
    "preprocess = [in_layer]\n",
    "\n",
    "evl = Evaluator(\n",
    "    scorer,\n",
    "    cv=2,\n",
    "    verbose=5,\n",
    ")\n",
    "\n",
    "evl.fit(\n",
    "    X_train, y_train,\n",
    "    meta_learners,\n",
    "    param_dicts,\n",
    "    preprocessing={'meta': preprocess},\n",
    "    n_iter=5                           # bump this up to do a larger grid search\n",
    ")\n"
   ]
  },
  {
   "cell_type": "code",
   "execution_count": 35,
   "metadata": {
    "collapsed": true
   },
   "outputs": [],
   "source": [
    "varie.make_csv??"
   ]
  },
  {
   "cell_type": "code",
   "execution_count": null,
   "metadata": {
    "collapsed": true
   },
   "outputs": [],
   "source": [
    "grids_sl=[]\n",
    "for i,y in enumerate(y_col):\n",
    "    print(y)\n",
    "    y_train=df_total_train_eval[y].values\n",
    "    print(X_train.shape,y_train.shape)\n",
    "\n",
    "    grid=RandomizedSearchCV(model,param_distributions=params, n_iter=n_iter,cv=cv,verbose=verbose,scoring=\"neg_mean_squared_error\" )\n",
    "\n",
    "    grid.fit(X_train,y_train)\n",
    "    grids_sl.append(grid)\n",
    "\n",
    "    sls[i].fit(X_train, y_train)\n",
    "    preds = sls[i].predict(X_train)\n",
    "    print(rmse(y_train, preds))\n",
    "#    results.append(mlens.metrics.rmse(y_train, ensemble.predict(X_train)),\n",
    "#                          evl.summary['test_score_mean']['superlearner'],\n",
    "#                          evl.summary['test_score_std']['superlearner'],\n",
    "#                          mlens.metrics.rmse(y_test, ensemble.predict(X_test)))\n",
    "\n",
    "#    print_scores(scores_df, 'mlens')   X_train=df.drop(y_col+drop_col,axis=1).values\n",
    "    for y in y_col:\n",
    "\n",
    "    return grids"
   ]
  },
  {
   "cell_type": "raw",
   "metadata": {},
   "source": [
    "#importance of each feature\n",
    "non_features = y_col+drop_col\n",
    "features = [col for col in list(df_total_train_eval) if col not in non_features]\n",
    "importances_E =  grids[0].best_estimator_.feature_importances_\n",
    "\n",
    "assert(len(importances_E)==len(features))\n",
    "\n",
    "descending_indices_E = np.argsort(importances_E)[::-1]\n",
    "sorted_importances_E = [importances_E[idx] for idx in descending_indices_E]\n",
    "sorted_features_E = [features[idx] for idx in descending_indices_E]\n",
    "print('most important feature for formation energy is %s' % sorted_features_E[0])\n",
    "for f, i in zip(sorted_features_E,sorted_importances_E):\n",
    "    print('E',f,i)\n",
    "    \n",
    "importances_Eg =  grids[1].best_estimator_.feature_importances_\n",
    "descending_indices_Eg = np.argsort(importances_Eg)[::-1]\n",
    "sorted_importances_Eg = [importances_Eg[idx] for idx in descending_indices_Eg]\n",
    "sorted_features_Eg = [features[idx] for idx in descending_indices_Eg]\n",
    "print('most important feature for band gap is %s' % sorted_features_Eg[0])\n",
    "\n",
    "\n",
    "    \n",
    "for f, i in zip(sorted_features_Eg,sorted_importances_Eg):\n",
    "    print('Eg',f,i)"
   ]
  },
  {
   "cell_type": "raw",
   "metadata": {},
   "source": [
    "#write to csv\n",
    "%load_ext autoreload\n",
    "%aimport varie\n",
    "%autoreload 2\n",
    "#I use a different model for E and Eg\n",
    "varie.make_csv2(df_total_train_eval,pd.DataFrame(),df_total_test,\n",
    "#         (ensemble.RandomForestRegressor(max_depth= 11, max_features='log2', n_estimators= 55),\n",
    "#          ensemble.RandomForestRegressor(max_depth= 9, max_features='sqrt', n_estimators= 220)),\n",
    "            (grids[0].best_estimator_,grids[1].best_estimator_),\n",
    "         y_col,'rf2c.csv',drop=drop_col,columns=['id','E','Eg'],\n",
    "         new_column_names=['id','formation_energy_ev_natom' ,'bandgap_energy_ev'],change_col_names=True)"
   ]
  },
  {
   "cell_type": "raw",
   "metadata": {},
   "source": [
    "from  catboost import CatBoostRegressor\n",
    "def runCatBoost(x_train, y_train,x_test, y_test,test,depth):\n",
    "    model=CatBoostRegressor(iterations=1200,\n",
    "                            learning_rate=0.03,\n",
    "                            depth=depth,\n",
    "                            loss_function='RMSE',\n",
    "                            eval_metric='RMSE',\n",
    "                            random_seed=99,\n",
    "                            od_type='Iter',\n",
    "                            od_wait=50)\n",
    "    model.fit(x_train, y_train, eval_set=(x_test, y_test), use_best_model=True, verbose=False)\n",
    "    y_pred_train=model.predict(x_test)\n",
    "    rmsle_result = rmsle(np.exp(y_pred_train)-1,np.exp(y_test)-1)\n",
    "    y_pred_test=model.predict(test)\n",
    "    return y_pred_train,rmsle_result,y_pred_test\n"
   ]
  },
  {
   "cell_type": "raw",
   "metadata": {},
   "source": [
    "# A host of Scikit-learn models\n",
    "from sklearn.svm import SVC, LinearSVC, SVR\n",
    "from sklearn.naive_bayes import GaussianNB\n",
    "from sklearn.ensemble import RandomForestClassifier, GradientBoostingRegressor, RandomForestRegressor\n",
    "from sklearn.linear_model import LogisticRegression\n",
    "from sklearn.neighbors import KNeighborsClassifier,KNeighborsRegressor\n",
    "from sklearn.neural_network import MLPClassifier,MLPRegressor\n",
    "from sklearn.kernel_approximation import Nystroem\n",
    "from sklearn.kernel_approximation import RBFSampler\n",
    "from sklearn.pipeline import make_pipeline\n",
    "from catboost import CatBoostRegressor\n",
    "SEED=1\n",
    "\n",
    "\n",
    "def get_models():\n",
    "    \"\"\"Generate a library of base learners.\"\"\"\n",
    "    #nb = GaussianNB()\n",
    "    svc = SVR(C=100)\n",
    "    knn = KNeighborsRegressor(n_neighbors=3)\n",
    "    nn = MLPRegressor((80, 10), early_stopping=False, random_state=SEED)\n",
    "    gb = GradientBoostingRegressor(n_estimators=100, random_state=SEED)\n",
    "    rf = RandomForestRegressor(n_estimators=250, max_features='sqrt', max_depth=100, random_state=SEED)\n",
    "    cb= CatBoostRegressor(depth=4,iterations=1200,learning_rate=0.03,verbose=False)\n",
    "\n",
    "    models = {'svm': svc,\n",
    "              'knn': knn,\n",
    "              'mlp-nn': nn,\n",
    "              'random forest': rf,\n",
    "              'gbm': gb,\n",
    "              'catboost':cb\n",
    "              }\n",
    "\n",
    "    return models\n",
    "\n",
    "base_learners = get_models()\n",
    "\n",
    "\n",
    "#meta_learner = GradientBoostingRegressor(\n",
    "#    n_estimators=1000,\n",
    "#    loss=\"exponential\",\n",
    "#    max_features=4,\n",
    "#    max_depth=3,\n",
    "#    subsample=0.5,\n",
    "#    learning_rate=0.005, \n",
    "#    random_state=SEED\n",
    "#)\n",
    "\n",
    "\n"
   ]
  },
  {
   "cell_type": "raw",
   "metadata": {},
   "source": [
    "#ensemble = SuperLearner(folds=5, scorer=mse)\n",
    "#ensemble.add([xgb.XGBRegressor(), lgb.LGBMRegressor(n_estimators=30)])\n",
    "#ensemble.add_meta([LinearRegression()])\n",
    "\n",
    "evl = Evaluator(make_scorer(mlens.metrics.rmse), cv=5, shuffle=False)\n",
    "evl.fit(X_train, y_train, sl, {}, n_iter=1)\n",
    "\n",
    "\n",
    "scores_df['mlens'] = [mlens.metrics.rmse(y_train, ensemble.predict(X_train)),\n",
    "                      evl.summary['test_score_mean']['superlearner'],\n",
    "                      evl.summary['test_score_std']['superlearner'],\n",
    "                      mlens.metrics.rmse(y_test, ensemble.predict(X_test))]\n",
    "\n",
    "print_scores(scores_df, 'mlens')"
   ]
  },
  {
   "cell_type": "code",
   "execution_count": null,
   "metadata": {
    "collapsed": true
   },
   "outputs": [],
   "source": [
    "evaluator = Evaluator()\n",
    "evaluator.fit(X_train, y_train,sl)"
   ]
  },
  {
   "cell_type": "raw",
   "metadata": {},
   "source": [
    "for y in y_col:\n",
    "    print(y)\n",
    "    y_train=df_total_train_eval[y].values\n",
    "    y_test=df_total_test[y].values\n",
    "    print(X_train.shape,y_train.shape)\n",
    "    \n",
    "\n",
    "    model=CatBoostRegressor(loss_function='RMSE', eval_metric='RMSE',verbose=False)\n",
    "    params= {\"depth\": scipy.stats.randint(1,5), \n",
    "             'iterations': scipy.stats.randint(1000,2000),\n",
    "             'learning_rate':lognuniform(low=-2,high=-1,base=10,size=100)}\n",
    "    \n",
    "    \n",
    "    grid=RandomizedSearchCV(sl,param_distributions=params, n_iter=20,cv=4,verbose=2,scoring=\"neg_mean_squared_error\" )\n",
    "\n",
    "                        \n",
    "    grid.fit(X_train,y_train)"
   ]
  },
  {
   "cell_type": "code",
   "execution_count": null,
   "metadata": {
    "collapsed": true
   },
   "outputs": [],
   "source": [
    "models"
   ]
  },
  {
   "cell_type": "code",
   "execution_count": null,
   "metadata": {
    "collapsed": true
   },
   "outputs": [],
   "source": [
    "ests=[(tag, model[0]) for tag,model in models.items()]\n",
    "params={tag:model[1] for tag,model in models.items() }"
   ]
  },
  {
   "cell_type": "code",
   "execution_count": null,
   "metadata": {
    "collapsed": true
   },
   "outputs": [],
   "source": [
    "from mlens.model_selection import Evaluator\n",
    "\n",
    "from scipy.stats import randint\n",
    "\n",
    "# Here we name the estimators ourselves\n",
    "#ests = [('gnb', GaussianNB()), ('knn', KNeighborsClassifier())]\n",
    "\n",
    "# Now we map parameters to these\n",
    "# The gnb doesn't have any parameters so we can skip it\n",
    "#pars = {'n_neighbors': randint(2, 20)}\n",
    "#params = {'knn': pars}\n",
    "\n",
    "evaluators=[]\n",
    "for i,y in enumerate(y_col):\n",
    "    print(y)\n",
    "    y_train=df_total_train_eval[y].values\n",
    "    print(X_train.shape,y_train.shape)\n",
    "    evaluator = Evaluator(rmse_scorer, cv=10,  verbose=1)\n",
    "\n",
    "    \n",
    "    evaluator.fit(X_train,y_train, ests, params, n_iter=5)\n",
    "    evaluators.append(evaluator)"
   ]
  },
  {
   "cell_type": "code",
   "execution_count": null,
   "metadata": {
    "collapsed": true
   },
   "outputs": [],
   "source": [
    "from mlens.metrics import make_scorer\n",
    "rmse_scorer = make_scorer(rmse, average='micro', greater_is_better=False)"
   ]
  },
  {
   "cell_type": "code",
   "execution_count": null,
   "metadata": {
    "collapsed": true
   },
   "outputs": [],
   "source": [
    "base_learners=[(tag,model[0]) for tag,model in models.items()]\n",
    "param_dicts_base={tag:model[1] for tag,model in models.items()}\n",
    "len(param_dicts_base),len(base_learners)"
   ]
  },
  {
   "cell_type": "code",
   "execution_count": null,
   "metadata": {
    "collapsed": true
   },
   "outputs": [],
   "source": [
    "from scipy.stats import uniform, randint\n",
    "SEED=1\n",
    "# We consider the following models (or base learners)\n",
    "gb = XGBRegressor()\n",
    "ls = Lasso(alpha=1e-6, normalize=True)\n",
    "el = ElasticNet(alpha=1e-6, normalize=True)\n",
    "rf = RandomForestRegressor(random_state=SEED)\n",
    "\n",
    "base_learners = [\n",
    "    ('ls', ls), ('el', el), ('rf', rf), ('gb', gb)\n",
    "]\n",
    "\n",
    "# Put their parameter dictionaries in a dictionary with the\n",
    "# estimator names as keys\n",
    "param_dicts_base = {\n",
    "    'ls':\n",
    "    {'alpha': uniform(1e-6, 1e-5)},\n",
    "    'el':\n",
    "    {'alpha': uniform(1e-6, 1e-5),\n",
    "     'l1_ratio': uniform(0, 1)\n",
    "    },\n",
    "    'gb':\n",
    "    {'learning_rate': uniform(0.02, 0.04),\n",
    "     'colsample_bytree': uniform(0.55, 0.66),\n",
    "     'min_child_weight': randint(30, 60),\n",
    "     'max_depth': randint(3, 7),\n",
    "     'subsample': uniform(0.4, 0.2),\n",
    "     'n_estimators': randint(150, 200),\n",
    "     'colsample_bytree': uniform(0.6, 0.4),\n",
    "     'reg_lambda': uniform(1, 2),\n",
    "     'reg_alpha': uniform(1, 2),\n",
    "    },\n",
    "    'rf':\n",
    "    {'max_depth': randint(2, 5),\n",
    "     'min_samples_split': randint(5, 20),\n",
    "     'min_samples_leaf': randint(10, 20),\n",
    "     'n_estimators': randint(50, 100),\n",
    "     'max_features': uniform(0.6, 0.3)\n",
    "    }\n",
    "}\n"
   ]
  },
  {
   "cell_type": "code",
   "execution_count": null,
   "metadata": {
    "collapsed": true
   },
   "outputs": [],
   "source": [
    "from sklearn.preprocessing import StandardScaler\n",
    "from mlens.model_selection import Evaluator\n",
    "assert(len(base_learners)==len(param_dicts_base))\n",
    "from sklearn.metrics import mean_absolute_error\n",
    "scorer = make_scorer(mean_absolute_error, greater_is_better=False)\n",
    "\n",
    "evl = Evaluator(\n",
    "    scorer,\n",
    "    cv=2,\n",
    "    random_state=SEED,\n",
    "    verbose=5,\n",
    ")\n",
    "\n",
    "\n",
    "\n",
    "evl.fit(\n",
    "    X_train, y_train,\n",
    "    estimators=base_learners,\n",
    "    param_dicts=param_dicts_base,\n",
    "    preprocessing={'sc': [StandardScaler()], 'none': []},\n",
    "    n_iter=2  # bump this up to do a larger grid search\n",
    ")\n",
    "\n",
    "\n"
   ]
  },
  {
   "cell_type": "code",
   "execution_count": null,
   "metadata": {
    "collapsed": true
   },
   "outputs": [],
   "source": [
    "pd.DataFrame(evl.results)"
   ]
  },
  {
   "cell_type": "code",
   "execution_count": null,
   "metadata": {
    "collapsed": true
   },
   "outputs": [],
   "source": [
    "meta_learners = [\n",
    "    ('gb', gb), ('el', el)\n",
    "]\n",
    "\n",
    "param_dicts = {\n",
    "    'el':\n",
    "    {'alpha': uniform(1e-5, 1),\n",
    "     'l1_ratio': uniform(0, 1)\n",
    "    },\n",
    "    'gb':\n",
    "    {'learning_rate': uniform(0.01, 0.2),\n",
    "     'subsample': uniform(0.5, 0.5),\n",
    "     'reg_lambda': uniform(0.1, 1),\n",
    "     'n_estimators': randint(10, 100)\n",
    "    },\n",
    "}\n",
    "\n",
    "\n",
    "# Put the layers you don't want to tune into an ensemble with model selection turned on\n",
    "# Just remember to turn it off when you're done!\n",
    "\n",
    "\n",
    "\n"
   ]
  },
  {
   "cell_type": "code",
   "execution_count": null,
   "metadata": {
    "collapsed": true
   },
   "outputs": [],
   "source": [
    "len(meta_learners), len(param_dicts)"
   ]
  },
  {
   "cell_type": "code",
   "execution_count": null,
   "metadata": {
    "collapsed": true
   },
   "outputs": [],
   "source": [
    "in_layer = SuperLearner(model_selection=True)\n",
    "in_layer.add(base_learners)\n",
    "\n",
    "preprocess = [in_layer]\n",
    "\n",
    "evl.fit(\n",
    "    X_train, y_train,\n",
    "    meta_learners,\n",
    "    param_dicts,\n",
    "#    preprocessing={'meta': preprocess},\n",
    "    n_iter=5                           # bump this up to do a larger grid search\n",
    ")\n",
    "\n"
   ]
  },
  {
   "cell_type": "code",
   "execution_count": null,
   "metadata": {
    "collapsed": true
   },
   "outputs": [],
   "source": [
    "pd.DataFrame(evl.results)"
   ]
  },
  {
   "cell_type": "code",
   "execution_count": null,
   "metadata": {
    "collapsed": true
   },
   "outputs": [],
   "source": [
    "def lognuniform(low=0, high=1, size=None, base=np.exp(1)):\n",
    "    return np.power(base, np.random.uniform(low, high, size))"
   ]
  },
  {
   "cell_type": "code",
   "execution_count": null,
   "metadata": {
    "collapsed": true
   },
   "outputs": [],
   "source": [
    "uniform.rvs?"
   ]
  },
  {
   "cell_type": "code",
   "execution_count": null,
   "metadata": {
    "collapsed": true
   },
   "outputs": [],
   "source": [
    "np.random.uniform?"
   ]
  },
  {
   "cell_type": "code",
   "execution_count": null,
   "metadata": {
    "collapsed": true
   },
   "outputs": [],
   "source": [
    "scipy.stats.uniform?"
   ]
  },
  {
   "cell_type": "code",
   "execution_count": null,
   "metadata": {
    "collapsed": true
   },
   "outputs": [],
   "source": [
    "from sympy.stats import *\n",
    "x = Symbol('x')\n",
    "X = ContinuousRV(x, 2*x, Interval(0, 1))\n",
    "\n",
    "P(X>.5) \n",
    "\n",
    "Var(X) # variance\n",
    "\n",
    "E(2*cos(X)+X**2) # complex expressions are ok too\n"
   ]
  }
 ],
 "metadata": {
  "kernelspec": {
   "display_name": "Python 3",
   "language": "python",
   "name": "python3"
  },
  "language_info": {
   "codemirror_mode": {
    "name": "ipython",
    "version": 3
   },
   "file_extension": ".py",
   "mimetype": "text/x-python",
   "name": "python",
   "nbconvert_exporter": "python",
   "pygments_lexer": "ipython3",
   "version": "3.6.1"
  }
 },
 "nbformat": 4,
 "nbformat_minor": 2
}
